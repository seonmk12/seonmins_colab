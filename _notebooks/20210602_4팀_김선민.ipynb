{
  "nbformat": 4,
  "nbformat_minor": 0,
  "metadata": {
    "colab": {
      "name": "20210602-4팀-김선민.ipynb",
      "provenance": [],
      "collapsed_sections": [],
      "toc_visible": true,
      "authorship_tag": "ABX9TyM+IcXgajBZoYwuqscTNWB/",
      "include_colab_link": true
    },
    "kernelspec": {
      "name": "python3",
      "display_name": "Python 3"
    },
    "language_info": {
      "name": "python"
    }
  },
  "cells": [
    {
      "cell_type": "markdown",
      "metadata": {
        "id": "view-in-github",
        "colab_type": "text"
      },
      "source": [
        "<a href=\"https://colab.research.google.com/github/seonmk12/seonmins_colab/blob/master/_notebooks/20210602_4%ED%8C%80_%EA%B9%80%EC%84%A0%EB%AF%BC.ipynb\" target=\"_parent\"><img src=\"https://colab.research.google.com/assets/colab-badge.svg\" alt=\"Open In Colab\"/></a>"
      ]
    },
    {
      "cell_type": "code",
      "metadata": {
        "id": "Gmln1cZf4k2C"
      },
      "source": [
        "#리스트 제어 \n",
        "#리스트생성 # 사진참조"
      ],
      "execution_count": null,
      "outputs": []
    },
    {
      "cell_type": "markdown",
      "metadata": {
        "id": "wJW1KbeP6hCM"
      },
      "source": [
        "##튜플 \n",
        "튜플은 아래의 두 가지 점을 제외하곤 리스트와 거의 동일\n",
        "리스트는[]로 둘러싸지만 튜플은 ()"
      ]
    },
    {
      "cell_type": "markdown",
      "metadata": {
        "id": "TeFEAsDr6pzC"
      },
      "source": [
        "##딕셔너리\n",
        "\n"
      ]
    },
    {
      "cell_type": "code",
      "metadata": {
        "id": "lo3GdYNK6gCU"
      },
      "source": [
        "#멤버 연산자 \n",
        "#in , not in"
      ],
      "execution_count": null,
      "outputs": []
    },
    {
      "cell_type": "markdown",
      "metadata": {
        "id": "6DLsJmvx7dnx"
      },
      "source": [
        "##함수\n",
        "1. 내장함수: 파이썬 프로그램에 기본적으로 내장된 함수 (import 불필요 e.g. print\n"
      ]
    },
    {
      "cell_type": "markdown",
      "metadata": {
        "id": "qxN58SzT7oIh"
      },
      "source": [
        "##함수의 특징\n",
        "특정기능을 구현하기 위해 관련된 여러개의 실행문읗묶어놓은 코드\n",
        "\n",
        "반복되는 부분을 함수화하여 코드의 중복을 배제한다.\n",
        "\n",
        "코드의 가독성을 높여 프로그램의 흐름 파악 및 디버깅(에러 수정) 용이\n",
        "\n"
      ]
    },
    {
      "cell_type": "markdown",
      "metadata": {
        "id": "rAdIC1LK79YK"
      },
      "source": [
        "##내장함수\n",
        "import가 필요 없음\n",
        "\n"
      ]
    },
    {
      "cell_type": "code",
      "metadata": {
        "id": "8lrUNdVg7cdN"
      },
      "source": [
        "dir(__builtins__)# 파이썬 내장함수 목록 조회"
      ],
      "execution_count": null,
      "outputs": []
    },
    {
      "cell_type": "code",
      "metadata": {
        "id": "aV6l1kZn8I8Z"
      },
      "source": [
        "#내장함수 \n",
        "#내장함수(built-in)함수들"
      ],
      "execution_count": null,
      "outputs": []
    },
    {
      "cell_type": "code",
      "metadata": {
        "id": "ywaSfnwc81oy"
      },
      "source": [
        "#외장함수 \n",
        "#import하여 사용함, 모듈 뒤에 점(.)을 찍어 사용한다.\n",
        "#import 모듈 가져오기\n",
        "#파이썬에서는 다양한 분야의 처리를 위한 기능을 제공함\n",
        "\n",
        "#모듈 import방법\n",
        "import 모듈명 # 모듈 불러오기\n",
        "import 모듈명 as 별칭 # 별칭으로 모듈 불러오기\n",
        "from 패키지명 import 모듈명  # 원하는 모듈만 특정해서 불러오기\n",
        "from 모듈명 import 함수명  # 원하는 함수만 특정해서 불러오기"
      ],
      "execution_count": null,
      "outputs": []
    },
    {
      "cell_type": "code",
      "metadata": {
        "colab": {
          "base_uri": "https://localhost:8080/"
        },
        "id": "2tOSradp8zLi",
        "outputId": "9ba24496-aea3-46c6-8475-c9aec2e5954f"
      },
      "source": [
        "import calendar  # calendar 모듈 import\n",
        "print(calendar.month(2021,6)) # 달력 년월을 지정 출력"
      ],
      "execution_count": null,
      "outputs": [
        {
          "output_type": "stream",
          "text": [
            "     June 2021\n",
            "Mo Tu We Th Fr Sa Su\n",
            "    1  2  3  4  5  6\n",
            " 7  8  9 10 11 12 13\n",
            "14 15 16 17 18 19 20\n",
            "21 22 23 24 25 26 27\n",
            "28 29 30\n",
            "\n"
          ],
          "name": "stdout"
        }
      ]
    },
    {
      "cell_type": "code",
      "metadata": {
        "colab": {
          "base_uri": "https://localhost:8080/"
        },
        "id": "6GXfL4p-9U_4",
        "outputId": "8c3f2d84-3759-4c46-8015-523dc34ba720"
      },
      "source": [
        "from calendar import month  # calendar 모듈 import\n",
        "print(calendar.month(2021,5)) # 달력 년월을 지정 출력"
      ],
      "execution_count": null,
      "outputs": [
        {
          "output_type": "stream",
          "text": [
            "      May 2021\n",
            "Mo Tu We Th Fr Sa Su\n",
            "                1  2\n",
            " 3  4  5  6  7  8  9\n",
            "10 11 12 13 14 15 16\n",
            "17 18 19 20 21 22 23\n",
            "24 25 26 27 28 29 30\n",
            "31\n",
            "\n"
          ],
          "name": "stdout"
        }
      ]
    },
    {
      "cell_type": "code",
      "metadata": {
        "colab": {
          "base_uri": "https://localhost:8080/"
        },
        "id": "gdH6zMqR9cy8",
        "outputId": "fb9aecda-3579-4fd2-a420-5f64134a1713"
      },
      "source": [
        "from random import choice\n",
        "list_data = [1,2,3,4,5]\n",
        "choice(list_data)"
      ],
      "execution_count": null,
      "outputs": [
        {
          "output_type": "execute_result",
          "data": {
            "text/plain": [
              "2"
            ]
          },
          "metadata": {
            "tags": []
          },
          "execution_count": 9
        }
      ]
    },
    {
      "cell_type": "code",
      "metadata": {
        "id": "_LORkbnI9o8Z"
      },
      "source": [
        "#meth 모듈\n"
      ],
      "execution_count": null,
      "outputs": []
    },
    {
      "cell_type": "code",
      "metadata": {
        "id": "Jl47pguj-C2T"
      },
      "source": [
        "#time 모듈\n",
        "#시간데이터를 다루기 위한 모듈 "
      ],
      "execution_count": null,
      "outputs": []
    },
    {
      "cell_type": "code",
      "metadata": {
        "id": "w74WWkdx-S1u"
      },
      "source": [
        "#random 모듈 \n",
        "#임의의 수를 발생시키거나 리스트의 요소 중 임의의 수를 선택하는데 사용\n",
        "#randint\n"
      ],
      "execution_count": null,
      "outputs": []
    },
    {
      "cell_type": "code",
      "metadata": {
        "colab": {
          "base_uri": "https://localhost:8080/"
        },
        "id": "wnD754IS-dlc",
        "outputId": "aece9a9d-381b-4f9b-8a9f-4f8d8c8f42a7"
      },
      "source": [
        "### 오늘날짜 구하기\n",
        "##경과한 날짜 수 확인: 임의의 날짜에서 다른 임의의 날짜까지의 경과일 계산 \n",
        "import datetime \n",
        "\n",
        "date1 = datetime.date.today()\n",
        "date2 = datetime.date(1992,12,19)\n",
        "print(date1-date2)"
      ],
      "execution_count": null,
      "outputs": [
        {
          "output_type": "stream",
          "text": [
            "10392 days, 0:00:00\n"
          ],
          "name": "stdout"
        }
      ]
    },
    {
      "cell_type": "code",
      "metadata": {
        "colab": {
          "base_uri": "https://localhost:8080/"
        },
        "id": "uxOkU-k7-lmy",
        "outputId": "a9e47490-f4c1-4c47-e97e-0f173d54f826"
      },
      "source": [
        "#외장함수 > random 모듈\n",
        "\n",
        "import random\n",
        "a = random.random() # Random float x, 0.0 <= x < 1.0\n",
        "\n",
        "#2개의 숫자 사이의 랜덤 실수를 리턴합니다.\n",
        "b = random.uniform(1, 10) # Random float x, 1.0 <= x < 10.0\n",
        "\n",
        "\n",
        "#2개의 숫자 사이의 랜덤 정수를 리턴합니다. (2번째 인자로 넘어온 정수도 범위에 포함시킴)\n",
        "c =random.randint(1, 10) # Integer from 1 to 10, endpoints included\n",
        "\n",
        "\n",
        "#range(start, stop, step) 함수로 만들어지는 정수 중에 하나를 랜덤하게 리턴합니다.\n",
        "d=random.randrange(0, 101, 2)  # Even integer from 0 to 100\n",
        "\n",
        "#choice() 함수 랜덤하게 하나의 원소를 선택합니다.\n",
        "e = random.choice('abcdefghij') # Choose a random element \n",
        "f = random.choice(['가위','바위','보'])\n",
        "\n",
        "m = ['가위','바위','보']\n",
        "random.shuffle(m) #셔플은 무작위로 뽑는게 아니라 흔들어서 섞는다(안에서 섞어준다. 뽑는게 아님). \n",
        "print(m)\n",
        "print(a,b,c,d,e,f)\n",
        "\n"
      ],
      "execution_count": null,
      "outputs": [
        {
          "output_type": "stream",
          "text": [
            "['가위', '바위', '보']\n",
            "0.479113950602995 8.271788637000439 7 0 g 보\n"
          ],
          "name": "stdout"
        }
      ]
    },
    {
      "cell_type": "code",
      "metadata": {
        "colab": {
          "base_uri": "https://localhost:8080/",
          "height": 143
        },
        "id": "gN3ZrD0E-73_",
        "outputId": "85baa08f-9f6d-4bf2-f05f-69ba0b9635f1"
      },
      "source": [
        "import random\n",
        "\n",
        "G = [“가위”, “바위”, “보\"]\n",
        "random.shuffle(G)\n",
        "\n",
        "print(G)\n"
      ],
      "execution_count": null,
      "outputs": [
        {
          "output_type": "error",
          "ename": "SyntaxError",
          "evalue": "ignored",
          "traceback": [
            "\u001b[0;36m  File \u001b[0;32m\"<ipython-input-30-dfc9aa85f63f>\"\u001b[0;36m, line \u001b[0;32m3\u001b[0m\n\u001b[0;31m    G = [“가위”, “바위”, “보\"]\u001b[0m\n\u001b[0m            ^\u001b[0m\n\u001b[0;31mSyntaxError\u001b[0m\u001b[0;31m:\u001b[0m invalid character in identifier\n"
          ]
        }
      ]
    },
    {
      "cell_type": "markdown",
      "metadata": {
        "id": "hxvtsST8BG_o"
      },
      "source": [
        "##사용자 정의 함수\n",
        "\n",
        "사용자가 필요한 기능을 직접 정의하는 함수\n",
        "\n",
        "Def 함수명(매개변수): (매개변수는 생략가능)\n",
        "        함수기능\n",
        "        return 반환값\n",
        "\n",
        "*함수명은 변수명과 동일한 규칙으로 만들어진다.\n",
        "*매개변수는 필요한 만큼 기술할 수 있으며, 없을 수도 있다.\n",
        "*반환값은 없거나 1개이다.\n",
        "%%반환값이 여러개인 경우 하나의 튜플로 묶어서 반환된다.\n"
      ]
    },
    {
      "cell_type": "markdown",
      "metadata": {
        "id": "LJtjGqJ4BlS4"
      },
      "source": [
        ""
      ]
    },
    {
      "cell_type": "code",
      "metadata": {
        "id": "I_vJKDeZCUx_"
      },
      "source": [
        "#def 함수명(매개변수):\n",
        "    함수가 수행할 일\n",
        "    return 함수가 반환한 객체"
      ],
      "execution_count": null,
      "outputs": []
    },
    {
      "cell_type": "code",
      "metadata": {
        "id": "G0fighKbAtbd",
        "colab": {
          "base_uri": "https://localhost:8080/"
        },
        "outputId": "f72146bf-cfc0-430c-cdf5-10bea102a51f"
      },
      "source": [
        "##환영 메시지 풀력하기\n",
        "##환영메시지를 출력하는 함수를 만들고, 함수를 호출하여 출력\n",
        "\n",
        "def say_hello():  #함수 정의\n",
        "    print('안녕하세요!!')\n",
        "    print('파이썬의 세계에 오신 것을 환영합니다.')\n",
        "    print('즐거운 시간 되세요!!')\n",
        "say_hello()## 함수호출"
      ],
      "execution_count": null,
      "outputs": [
        {
          "output_type": "stream",
          "text": [
            "안녕하세요!!\n",
            "파이썬의 세계에 오신 것을 환영합니다.\n",
            "즐거운 시간 되세요!!\n"
          ],
          "name": "stdout"
        }
      ]
    },
    {
      "cell_type": "code",
      "metadata": {
        "colab": {
          "base_uri": "https://localhost:8080/"
        },
        "id": "Q610C_U3CQRZ",
        "outputId": "9b65e944-5b73-46b3-dbcd-0fd6ec9a9b5a"
      },
      "source": [
        "#이름을 인수로 전달하여 출력하기 --> 인수는 매개변수로 받아서 출력됨\n",
        "#인수전달\n",
        "def say_hello(name):\n",
        "    print(f'안녕하세요, {name}!!')\n",
        "    print('파이썬의 세계에 오신 것을 환영합니다.')\n",
        "    print('즐거운 시간 되세요!!')\n",
        "say_hello('홍길동')"
      ],
      "execution_count": null,
      "outputs": [
        {
          "output_type": "stream",
          "text": [
            "안녕하세요, 홍길동!!\n",
            "파이썬의 세계에 오신 것을 환영합니다.\n",
            "즐거운 시간 되세요!!\n"
          ],
          "name": "stdout"
        }
      ]
    },
    {
      "cell_type": "code",
      "metadata": {
        "colab": {
          "base_uri": "https://localhost:8080/"
        },
        "id": "10vvLKHtC2c_",
        "outputId": "68be3620-50b5-4334-f50e-477c46a5bbb8"
      },
      "source": [
        "#인수두개 넣기(3개도 가능)\n",
        "def say_hello(name1, name2):\n",
        "    print(f'안녕하세요, {name1},{name2}!!')\n",
        "    print('파이썬의 세계에 오신 것을 환영합니다.')\n",
        "    print('즐거운 시간 되세요!!')\n",
        "say_hello('홍길동', '홍자매')"
      ],
      "execution_count": null,
      "outputs": [
        {
          "output_type": "stream",
          "text": [
            "안녕하세요, 홍길동,홍자매!!\n",
            "파이썬의 세계에 오신 것을 환영합니다.\n",
            "즐거운 시간 되세요!!\n"
          ],
          "name": "stdout"
        }
      ]
    },
    {
      "cell_type": "code",
      "metadata": {
        "colab": {
          "base_uri": "https://localhost:8080/"
        },
        "id": "xgrQHe0uDR9c",
        "outputId": "b2844e6e-07d6-40f5-c59c-612817c9f232"
      },
      "source": [
        "def say_hello(name1, name2, name3):\n",
        "    print(f'안녕하세요, {name1},{name2}, {name3}!!')\n",
        "    print('파이썬의 세계에 오신 것을 환영합니다.')\n",
        "    print('즐거운 시간 되세요!!')\n",
        "say_hello('홍길동', '홍자매','김선민')"
      ],
      "execution_count": null,
      "outputs": [
        {
          "output_type": "stream",
          "text": [
            "안녕하세요, 홍길동,홍자매, 김선민!!\n",
            "파이썬의 세계에 오신 것을 환영합니다.\n",
            "즐거운 시간 되세요!!\n"
          ],
          "name": "stdout"
        }
      ]
    },
    {
      "cell_type": "code",
      "metadata": {
        "id": "eZmvYtBmDqhu",
        "colab": {
          "base_uri": "https://localhost:8080/"
        },
        "outputId": "9fa0866d-1115-4756-c079-35f048d3c9c4"
      },
      "source": [
        "#예제 1 원의 넓이를 구하는 함수 만들기\n",
        "#원의 반지를을 보내면 원의 넓이를 계산하여 반환하는 함수를 작성하시오.\n",
        "def circle_area(radius):  \n",
        "    area = 3.14 * radius ** 2\n",
        "    return area\n",
        "circle_area(5) # 리턴값이 있을 때 값을 반환한다. 외부변수는 변화시키지 못함"
      ],
      "execution_count": null,
      "outputs": [
        {
          "output_type": "execute_result",
          "data": {
            "text/plain": [
              "78.5"
            ]
          },
          "metadata": {
            "tags": []
          },
          "execution_count": 42
        }
      ]
    },
    {
      "cell_type": "code",
      "metadata": {
        "colab": {
          "base_uri": "https://localhost:8080/"
        },
        "id": "_UHpSmmjGfD2",
        "outputId": "a419f08a-730e-4bab-ec7a-01a5749209cf"
      },
      "source": [
        "#예제 2 두수를 더하여 결과를 반환하는 함수 만들기\n",
        "# 두수를 매개변수로 받아 더한값을 반환하는 함수를 만드시오\n",
        "def p(n1,n2):\n",
        "    result = n1 +n2\n",
        "    return result\n",
        "\n",
        "p(1,2)"
      ],
      "execution_count": null,
      "outputs": [
        {
          "output_type": "execute_result",
          "data": {
            "text/plain": [
              "3"
            ]
          },
          "metadata": {
            "tags": []
          },
          "execution_count": 43
        }
      ]
    },
    {
      "cell_type": "code",
      "metadata": {
        "colab": {
          "base_uri": "https://localhost:8080/"
        },
        "id": "Y-mfdWp3HoyG",
        "outputId": "db9a723f-f517-42c0-9e44-537d57947c30"
      },
      "source": [
        "def p(n1,n2):\n",
        "    result = n1 - n2\n",
        "    return result\n",
        "\n",
        "p(1,2)"
      ],
      "execution_count": null,
      "outputs": [
        {
          "output_type": "execute_result",
          "data": {
            "text/plain": [
              "-1"
            ]
          },
          "metadata": {
            "tags": []
          },
          "execution_count": 44
        }
      ]
    },
    {
      "cell_type": "code",
      "metadata": {
        "colab": {
          "base_uri": "https://localhost:8080/"
        },
        "id": "1WMtN8NXHruP",
        "outputId": "ac87fee5-88e6-4dc6-8c76-92d306bd2405"
      },
      "source": [
        "def p(n1,n2):\n",
        "    result = n1 * n2\n",
        "    return result\n",
        "\n",
        "p(1,2)"
      ],
      "execution_count": null,
      "outputs": [
        {
          "output_type": "execute_result",
          "data": {
            "text/plain": [
              "2"
            ]
          },
          "metadata": {
            "tags": []
          },
          "execution_count": 45
        }
      ]
    },
    {
      "cell_type": "code",
      "metadata": {
        "colab": {
          "base_uri": "https://localhost:8080/"
        },
        "id": "KI96xm6THvJj",
        "outputId": "6401068f-c396-4888-9428-5d2c1a3c3c9a"
      },
      "source": [
        "def get_plus_minus(num1,num2):\n",
        "    plus = num1 + num2\n",
        "    minus = num1 - num2\n",
        "    return plus,minus ###리턴값이 두개\n",
        "get_plus_minus(1,2) "
      ],
      "execution_count": null,
      "outputs": [
        {
          "output_type": "execute_result",
          "data": {
            "text/plain": [
              "(3, -1)"
            ]
          },
          "metadata": {
            "tags": []
          },
          "execution_count": 46
        }
      ]
    },
    {
      "cell_type": "code",
      "metadata": {
        "colab": {
          "base_uri": "https://localhost:8080/",
          "height": 341
        },
        "id": "RzQR9t1JH2oo",
        "outputId": "191d85b4-3443-4f04-bb39-89cd21f57255"
      },
      "source": [
        "def get_plus_minus_m_d(num1,num2):\n",
        "    plus = num1 + num2\n",
        "    minus = num1 - num2\n",
        "    m = num1 * num2\n",
        "    d = num1/num2\n",
        "\n",
        "    return plus,minus, m, d ###리턴값이 두개\n",
        "get_plus_minus(1,0) "
      ],
      "execution_count": null,
      "outputs": [
        {
          "output_type": "error",
          "ename": "ZeroDivisionError",
          "evalue": "ignored",
          "traceback": [
            "\u001b[0;31m---------------------------------------------------------------------------\u001b[0m",
            "\u001b[0;31mZeroDivisionError\u001b[0m                         Traceback (most recent call last)",
            "\u001b[0;32m<ipython-input-50-e0aa78770abf>\u001b[0m in \u001b[0;36m<module>\u001b[0;34m()\u001b[0m\n\u001b[1;32m      7\u001b[0m         \u001b[0mprint\u001b[0m\u001b[0;34m(\u001b[0m\u001b[0;34m'0은 나눌 수 없습니다.'\u001b[0m\u001b[0;34m)\u001b[0m\u001b[0;34m\u001b[0m\u001b[0;34m\u001b[0m\u001b[0m\n\u001b[1;32m      8\u001b[0m     \u001b[0;32mreturn\u001b[0m \u001b[0mplus\u001b[0m\u001b[0;34m,\u001b[0m\u001b[0mminus\u001b[0m\u001b[0;34m,\u001b[0m \u001b[0mm\u001b[0m\u001b[0;34m,\u001b[0m \u001b[0md\u001b[0m \u001b[0;31m###리턴값이 두개\u001b[0m\u001b[0;34m\u001b[0m\u001b[0;34m\u001b[0m\u001b[0m\n\u001b[0;32m----> 9\u001b[0;31m \u001b[0mget_plus_minus\u001b[0m\u001b[0;34m(\u001b[0m\u001b[0;36m1\u001b[0m\u001b[0;34m,\u001b[0m\u001b[0;36m0\u001b[0m\u001b[0;34m)\u001b[0m\u001b[0;34m\u001b[0m\u001b[0;34m\u001b[0m\u001b[0m\n\u001b[0m",
            "\u001b[0;32m<ipython-input-47-ca48131f54c8>\u001b[0m in \u001b[0;36mget_plus_minus\u001b[0;34m(num1, num2)\u001b[0m\n\u001b[1;32m      3\u001b[0m     \u001b[0mminus\u001b[0m \u001b[0;34m=\u001b[0m \u001b[0mnum1\u001b[0m \u001b[0;34m-\u001b[0m \u001b[0mnum2\u001b[0m\u001b[0;34m\u001b[0m\u001b[0;34m\u001b[0m\u001b[0m\n\u001b[1;32m      4\u001b[0m     \u001b[0mm\u001b[0m \u001b[0;34m=\u001b[0m \u001b[0mnum1\u001b[0m \u001b[0;34m*\u001b[0m \u001b[0mnum2\u001b[0m\u001b[0;34m\u001b[0m\u001b[0;34m\u001b[0m\u001b[0m\n\u001b[0;32m----> 5\u001b[0;31m     \u001b[0md\u001b[0m \u001b[0;34m=\u001b[0m \u001b[0mnum1\u001b[0m\u001b[0;34m/\u001b[0m\u001b[0mnum2\u001b[0m\u001b[0;34m\u001b[0m\u001b[0;34m\u001b[0m\u001b[0m\n\u001b[0m\u001b[1;32m      6\u001b[0m     \u001b[0;32mreturn\u001b[0m \u001b[0mplus\u001b[0m\u001b[0;34m,\u001b[0m\u001b[0mminus\u001b[0m\u001b[0;34m,\u001b[0m \u001b[0mm\u001b[0m\u001b[0;34m,\u001b[0m \u001b[0md\u001b[0m \u001b[0;31m###리턴값이 두개\u001b[0m\u001b[0;34m\u001b[0m\u001b[0;34m\u001b[0m\u001b[0m\n\u001b[1;32m      7\u001b[0m \u001b[0mget_plus_minus\u001b[0m\u001b[0;34m(\u001b[0m\u001b[0;36m1\u001b[0m\u001b[0;34m,\u001b[0m\u001b[0;36m2\u001b[0m\u001b[0;34m)\u001b[0m\u001b[0;34m\u001b[0m\u001b[0;34m\u001b[0m\u001b[0m\n",
            "\u001b[0;31mZeroDivisionError\u001b[0m: division by zero"
          ]
        }
      ]
    },
    {
      "cell_type": "code",
      "metadata": {
        "colab": {
          "base_uri": "https://localhost:8080/"
        },
        "id": "bcoXJe6YIItd",
        "outputId": "33b88335-e9cc-4437-ca9f-3630fac96411"
      },
      "source": [
        "def get_plus_minus(num1,num2):\n",
        "    plus = num1 + num2\n",
        "    minus = num1 - num2\n",
        "    d = num1/num2\n",
        "    return plus,minus \n",
        "a = 0\n",
        "b = 3\n",
        "if a != 0:\n",
        "    get_plus_minus(b,a) \n",
        "else:\n",
        "    print('0은 나눌 수 없습니다.')"
      ],
      "execution_count": null,
      "outputs": [
        {
          "output_type": "stream",
          "text": [
            "0은 나눌 수 없습니다.\n"
          ],
          "name": "stdout"
        }
      ]
    },
    {
      "cell_type": "code",
      "metadata": {
        "colab": {
          "base_uri": "https://localhost:8080/",
          "height": 143
        },
        "id": "RqGRVHMCJULL",
        "outputId": "ef99e857-b959-4aff-b4ea-fe60f57e82ae"
      },
      "source": [
        "def get_plus_minus(num1,num2):\n",
        "    r = 0\n",
        "    plus = num1 + num2\n",
        "    minus = num1 - num2\n",
        "    if a != 0:\n",
        "    r = n1/n2 \n",
        "    else:\n",
        "    print('0은 나눌 수 없습니다.')\n",
        "\n",
        "    return plus,minus,d \n",
        "    get_plus_minus(2,0) \n"
      ],
      "execution_count": null,
      "outputs": [
        {
          "output_type": "error",
          "ename": "IndentationError",
          "evalue": "ignored",
          "traceback": [
            "\u001b[0;36m  File \u001b[0;32m\"<ipython-input-60-672ab15de00d>\"\u001b[0;36m, line \u001b[0;32m6\u001b[0m\n\u001b[0;31m    r = n1/n2\u001b[0m\n\u001b[0m    ^\u001b[0m\n\u001b[0;31mIndentationError\u001b[0m\u001b[0;31m:\u001b[0m expected an indented block\n"
          ]
        }
      ]
    },
    {
      "cell_type": "code",
      "metadata": {
        "colab": {
          "base_uri": "https://localhost:8080/"
        },
        "id": "seJlmsvzKRDN",
        "outputId": "f27872c4-8055-4c7f-80b1-f00672509d8d"
      },
      "source": [
        "def d(n1,n2):\n",
        "    result = 0\n",
        "    if n2 == 0:\n",
        "        print('다른 수 입력하세요')\n",
        "    else:\n",
        "        result = n1/n2\n",
        "        return result\n",
        "\n",
        "d(2,0)"
      ],
      "execution_count": null,
      "outputs": [
        {
          "output_type": "stream",
          "text": [
            "다른 수 입력하세요\n"
          ],
          "name": "stdout"
        }
      ]
    },
    {
      "cell_type": "markdown",
      "metadata": {
        "id": "o1zHYjtYL5aW"
      },
      "source": [
        "#지역변수, 전역변수\n",
        "함수내에서 생성한 변수를 '지역변수'. 함수 밖에서 생성한 변수를 '전역변수'라 함"
      ]
    },
    {
      "cell_type": "code",
      "metadata": {
        "colab": {
          "base_uri": "https://localhost:8080/"
        },
        "id": "sOQwOGCuL2A2",
        "outputId": "c2634655-9060-4029-b07c-5325647a8f82"
      },
      "source": [
        "#지역변수\n",
        "# 함수내 변수를 밖에서 사용 못함\n",
        "def get_plus_minus(num1,num2):\n",
        "   ## 초기 세팅값을 주면서 global을 붇이면 지역변수를 전역변수로 변경 가능\n",
        "    plus = num1 + num2\n",
        "    minus = num1 - num2  \n",
        "    return plus,minus\n",
        "get_plus_minus(1,2)    #plus, minus는 사용자 지정함수 내에서 만든 지역변수 \n",
        "print(plus,minus)  # 함수 내에서 만든 변수를 함수 밖에서 사용할 수 없다!!!!함수 내에서만 사용가능"
      ],
      "execution_count": null,
      "outputs": [
        {
          "output_type": "stream",
          "text": [
            "3 -1\n"
          ],
          "name": "stdout"
        }
      ]
    },
    {
      "cell_type": "code",
      "metadata": {
        "colab": {
          "base_uri": "https://localhost:8080/"
        },
        "id": "10aSnojML9NJ",
        "outputId": "00460479-a983-4a64-b4bd-ec1f1b02eb61"
      },
      "source": [
        "# 전역변수 - 함수밖에서 생성\n",
        "def circle_area():\n",
        "    area = 3.14 * radius ** 2\n",
        "    return area           \n",
        "radius = float(input('반지름:')) ### 함수 밖에서 만든 변수는 함수 내에서 사용할 수\n",
        "circle_area()"
      ],
      "execution_count": null,
      "outputs": [
        {
          "output_type": "stream",
          "text": [
            "반지름:1\n"
          ],
          "name": "stdout"
        },
        {
          "output_type": "execute_result",
          "data": {
            "text/plain": [
              "3.14"
            ]
          },
          "metadata": {
            "tags": []
          },
          "execution_count": 72
        }
      ]
    },
    {
      "cell_type": "markdown",
      "metadata": {
        "id": "3I2DNi9JMvJh"
      },
      "source": [
        "#함수 안에서 전역변수 값 변경하기\n",
        "\n",
        "함수 안에서 전역변수의 값을 변경하려면, global 키워드를 사용해야한다. \n"
      ]
    },
    {
      "cell_type": "code",
      "metadata": {
        "colab": {
          "base_uri": "https://localhost:8080/"
        },
        "id": "QaIf3MFlMCCI",
        "outputId": "62e9cffb-8ddb-46bd-da18-75b7e85ba14a"
      },
      "source": [
        "def circle_area():\n",
        "    area = 3.14 * radius ** 2\n",
        "    return area\n",
        "area = 0 # 따로 밖에서 선언 \n",
        "radius = float(input('반지름:'))\n",
        "print('원의 넓이:',circle_area())\n",
        "print(area) #변경안됨 0이 나옴 \n",
        "#함수에서 area 계산되었지만, 전역변수 값은 변경되지 않음.\n",
        "#함수에서 전역변수를 직접 사용한 것이 아니라, \n",
        "#동일한 이름과 값을 가진 지역변수를 새롭게 만들어 사용하기 때문임"
      ],
      "execution_count": null,
      "outputs": [
        {
          "output_type": "stream",
          "text": [
            "반지름:12\n",
            "원의 넓이: 452.16\n",
            "0\n"
          ],
          "name": "stdout"
        }
      ]
    },
    {
      "cell_type": "code",
      "metadata": {
        "colab": {
          "base_uri": "https://localhost:8080/"
        },
        "id": "A4cVr4vtM3-N",
        "outputId": "3c90794f-c5d1-4dbb-97ff-b6b238e0838b"
      },
      "source": [
        "def circle_area():\n",
        "    global area # 글로벌을 붙이면 ## 초기 세팅값을 주면서 global을 붇이면 지역변수를 전역변수로 변경 가능\n",
        "    area = 3.14 * radius ** 2\n",
        "    return area\n",
        "area = 0\n",
        "radius = float(input('반지름:'))\n",
        "print('원의 넓이:',circle_area())\n",
        "print(area) #변경\n",
        "# global키워드를 사용하면 전역변수를 직접 사용하게 된다.\n"
      ],
      "execution_count": null,
      "outputs": [
        {
          "output_type": "stream",
          "text": [
            "반지름:12\n",
            "원의 넓이: 452.16\n",
            "452.16\n"
          ],
          "name": "stdout"
        }
      ]
    },
    {
      "cell_type": "markdown",
      "metadata": {
        "id": "oNf_GFpuOqtw"
      },
      "source": [
        "##디폴트 인수 \n",
        "\n",
        "디폴트 인수란 초기값을 준다를 의미, 매개변수의 값을 지정해 놓고 기본적인 값으로 사용함. \n",
        "\n",
        "매개변수의 개수와 인수의 개수가 다르면 에러가 발생한다."
      ]
    },
    {
      "cell_type": "code",
      "metadata": {
        "colab": {
          "base_uri": "https://localhost:8080/"
        },
        "id": "7tlO9v3YNVDq",
        "outputId": "a1fda457-7730-4af1-ed36-b8c6ca485373"
      },
      "source": [
        "def greet(name,msg):\n",
        "    print(f'안녕 {name},{msg}')\n",
        "greet('철수','좋은 아침이야') "
      ],
      "execution_count": null,
      "outputs": [
        {
          "output_type": "stream",
          "text": [
            "안녕 철수,좋은 아침이야\n"
          ],
          "name": "stdout"
        }
      ]
    },
    {
      "cell_type": "code",
      "metadata": {
        "colab": {
          "base_uri": "https://localhost:8080/",
          "height": 215
        },
        "id": "NXqVY4tgOyyr",
        "outputId": "fa978dfd-8a60-457e-f09d-078ff3d76f77"
      },
      "source": [
        "# greet() missing 1 required positional argument: 'msg'\n",
        "def greet(name,msg):\n",
        "    print(f'안녕 {name},{msg}')\n",
        "greet('철수') # greet의 인수 1개만 썼을때 'msg'가 빠졌다는 에러가 뜸. 디폴트 값이 없을때 에러"
      ],
      "execution_count": null,
      "outputs": [
        {
          "output_type": "error",
          "ename": "TypeError",
          "evalue": "ignored",
          "traceback": [
            "\u001b[0;31m---------------------------------------------------------------------------\u001b[0m",
            "\u001b[0;31mTypeError\u001b[0m                                 Traceback (most recent call last)",
            "\u001b[0;32m<ipython-input-74-f03df1934f4c>\u001b[0m in \u001b[0;36m<module>\u001b[0;34m()\u001b[0m\n\u001b[1;32m      2\u001b[0m \u001b[0;32mdef\u001b[0m \u001b[0mgreet\u001b[0m\u001b[0;34m(\u001b[0m\u001b[0mname\u001b[0m\u001b[0;34m,\u001b[0m\u001b[0mmsg\u001b[0m\u001b[0;34m)\u001b[0m\u001b[0;34m:\u001b[0m\u001b[0;34m\u001b[0m\u001b[0;34m\u001b[0m\u001b[0m\n\u001b[1;32m      3\u001b[0m     \u001b[0mprint\u001b[0m\u001b[0;34m(\u001b[0m\u001b[0;34mf'안녕 {name},{msg}'\u001b[0m\u001b[0;34m)\u001b[0m\u001b[0;34m\u001b[0m\u001b[0;34m\u001b[0m\u001b[0m\n\u001b[0;32m----> 4\u001b[0;31m \u001b[0mgreet\u001b[0m\u001b[0;34m(\u001b[0m\u001b[0;34m'철수'\u001b[0m\u001b[0;34m)\u001b[0m\u001b[0;34m\u001b[0m\u001b[0;34m\u001b[0m\u001b[0m\n\u001b[0m",
            "\u001b[0;31mTypeError\u001b[0m: greet() missing 1 required positional argument: 'msg'"
          ]
        }
      ]
    },
    {
      "cell_type": "code",
      "metadata": {
        "colab": {
          "base_uri": "https://localhost:8080/"
        },
        "id": "Ts2bS3MdO1kL",
        "outputId": "22a45b35-e5e2-4bdf-ebc4-43bf51fba878"
      },
      "source": [
        "# 인수 부족 시 기본값 사용\n",
        "def greet(name='친구',msg='잘 지내니?'):## 기본값을 깔고 가는 것 name = 친구 라는 기본값을 가짐\n",
        "    print(f'안녕 {name},{msg}')\n",
        "greet('영희','오랜만이야')"
      ],
      "execution_count": null,
      "outputs": [
        {
          "output_type": "stream",
          "text": [
            "안녕 영희,오랜만이야\n"
          ],
          "name": "stdout"
        }
      ]
    },
    {
      "cell_type": "code",
      "metadata": {
        "colab": {
          "base_uri": "https://localhost:8080/"
        },
        "id": "2pZEp158PMcl",
        "outputId": "f57bf6ad-6200-4c6c-d7f4-e0e7c16d4b17"
      },
      "source": [
        "# 인수 부족 시 기본값 사용\n",
        "def greet(name='친구',msg='잘 지내니?'):\n",
        "    print(f'안녕 {name},{msg}')\n",
        "greet('영희') #인수를 1개만 썼는데 msg의 디폴트 값인 '잘지내니?'가 출력됨."
      ],
      "execution_count": null,
      "outputs": [
        {
          "output_type": "stream",
          "text": [
            "안녕 영희,잘 지내니?\n"
          ],
          "name": "stdout"
        }
      ]
    },
    {
      "cell_type": "code",
      "metadata": {
        "colab": {
          "base_uri": "https://localhost:8080/"
        },
        "id": "AFnl7EM4Pbi3",
        "outputId": "208f8f23-6730-4e38-ce3f-dbd0bf6e3bb1"
      },
      "source": [
        "# 인수 부족 시 기본값 사용\n",
        "def greet(name='친구',msg='잘 지내니?'):\n",
        "    print(f'안녕 {name},{msg}')\n",
        "greet() #"
      ],
      "execution_count": null,
      "outputs": [
        {
          "output_type": "stream",
          "text": [
            "안녕 친구,잘 지내니?\n"
          ],
          "name": "stdout"
        }
      ]
    },
    {
      "cell_type": "code",
      "metadata": {
        "colab": {
          "base_uri": "https://localhost:8080/"
        },
        "id": "qBpIF8EYPeOP",
        "outputId": "4dfa0896-9b62-45bc-95a0-76e3d8c27e9f"
      },
      "source": [
        "# 인수 부족 시 기본값 사용\n",
        "def greet(name='친구',msg='잘 지내니?'):\n",
        "    print(f'안녕 {name},{msg}')\n",
        "greet('잘지내니?')"
      ],
      "execution_count": null,
      "outputs": [
        {
          "output_type": "stream",
          "text": [
            "안녕 잘지내니?,잘 지내니?\n"
          ],
          "name": "stdout"
        }
      ]
    },
    {
      "cell_type": "markdown",
      "metadata": {
        "id": "VUMd40SvP9WU"
      },
      "source": [
        "##키워드 인수\n",
        "\n",
        "위치 인수와 키워드 인수를 혼합해서 사용할 수 있지만, \n",
        "''위치 인수를 먼저 사용해야 한다.'' \n",
        "\n",
        "위치 인수를 위치를 찾아 매칭하는 인수\n"
      ]
    },
    {
      "cell_type": "code",
      "metadata": {
        "colab": {
          "base_uri": "https://localhost:8080/"
        },
        "id": "iE2mZsW4PmGF",
        "outputId": "9ff718c2-b0fb-4859-9a96-ac2fa0136c5e"
      },
      "source": [
        "def calc(x,y,z):\n",
        "    result = x + y - z\n",
        "    return result\n",
        "calc(1,z=5,y=3) ## x 는 고정, 나머지는 매칭이 되어서 할당 # 위치 인수를 먼저 사용 "
      ],
      "execution_count": null,
      "outputs": [
        {
          "output_type": "execute_result",
          "data": {
            "text/plain": [
              "-1"
            ]
          },
          "metadata": {
            "tags": []
          },
          "execution_count": 82
        }
      ]
    },
    {
      "cell_type": "code",
      "metadata": {
        "colab": {
          "base_uri": "https://localhost:8080/",
          "height": 215
        },
        "id": "zaDQ5_65QDlB",
        "outputId": "3ba3a55d-9570-4052-f3ab-97a8e4222ebf"
      },
      "source": [
        "def calc(x,y,z):\n",
        "    result = x +y -z\n",
        "    return result\n",
        "calc(x=1,5,5) # 키워드 인수를 먼저쓰면 에러"
      ],
      "execution_count": null,
      "outputs": [
        {
          "output_type": "error",
          "ename": "TypeError",
          "evalue": "ignored",
          "traceback": [
            "\u001b[0;31m---------------------------------------------------------------------------\u001b[0m",
            "\u001b[0;31mTypeError\u001b[0m                                 Traceback (most recent call last)",
            "\u001b[0;32m<ipython-input-87-086520ade661>\u001b[0m in \u001b[0;36m<module>\u001b[0;34m()\u001b[0m\n\u001b[1;32m      2\u001b[0m     \u001b[0mresult\u001b[0m \u001b[0;34m=\u001b[0m \u001b[0mx\u001b[0m \u001b[0;34m+\u001b[0m\u001b[0my\u001b[0m \u001b[0;34m-\u001b[0m\u001b[0mz\u001b[0m\u001b[0;34m\u001b[0m\u001b[0;34m\u001b[0m\u001b[0m\n\u001b[1;32m      3\u001b[0m     \u001b[0;32mreturn\u001b[0m \u001b[0mresult\u001b[0m\u001b[0;34m\u001b[0m\u001b[0;34m\u001b[0m\u001b[0m\n\u001b[0;32m----> 4\u001b[0;31m \u001b[0mcalc\u001b[0m\u001b[0;34m(\u001b[0m\u001b[0;36m1\u001b[0m\u001b[0;34m,\u001b[0m\u001b[0;36m5\u001b[0m\u001b[0;34m,\u001b[0m\u001b[0my\u001b[0m\u001b[0;34m=\u001b[0m\u001b[0;36m10\u001b[0m\u001b[0;34m)\u001b[0m\u001b[0;34m\u001b[0m\u001b[0;34m\u001b[0m\u001b[0m\n\u001b[0m",
            "\u001b[0;31mTypeError\u001b[0m: calc() got multiple values for argument 'y'"
          ]
        }
      ]
    },
    {
      "cell_type": "code",
      "metadata": {
        "colab": {
          "base_uri": "https://localhost:8080/",
          "height": 215
        },
        "id": "P6C1jmPUUdgn",
        "outputId": "2b90c95a-746f-4a1f-820e-fba89212a064"
      },
      "source": [
        "def calc(a,b,c=3):\n",
        "    result = a+b-c\n",
        "    return result\n",
        "# calc(b=1,a=5,c=3)\n",
        "# calc(b=1,a=5)\n",
        "# calc(b=1,5,a=3)\n",
        "calc(1,c=5,a=3)\n"
      ],
      "execution_count": null,
      "outputs": [
        {
          "output_type": "error",
          "ename": "TypeError",
          "evalue": "ignored",
          "traceback": [
            "\u001b[0;31m---------------------------------------------------------------------------\u001b[0m",
            "\u001b[0;31mTypeError\u001b[0m                                 Traceback (most recent call last)",
            "\u001b[0;32m<ipython-input-91-06b87ddd6bf9>\u001b[0m in \u001b[0;36m<module>\u001b[0;34m()\u001b[0m\n\u001b[1;32m      5\u001b[0m \u001b[0;31m# calc(b=1,a=5)\u001b[0m\u001b[0;34m\u001b[0m\u001b[0;34m\u001b[0m\u001b[0;34m\u001b[0m\u001b[0m\n\u001b[1;32m      6\u001b[0m \u001b[0;31m# calc(b=1,5,a=3)\u001b[0m\u001b[0;34m\u001b[0m\u001b[0;34m\u001b[0m\u001b[0;34m\u001b[0m\u001b[0m\n\u001b[0;32m----> 7\u001b[0;31m \u001b[0mcalc\u001b[0m\u001b[0;34m(\u001b[0m\u001b[0;36m1\u001b[0m\u001b[0;34m,\u001b[0m\u001b[0mc\u001b[0m\u001b[0;34m=\u001b[0m\u001b[0;36m5\u001b[0m\u001b[0;34m,\u001b[0m\u001b[0ma\u001b[0m\u001b[0;34m=\u001b[0m\u001b[0;36m3\u001b[0m\u001b[0;34m)\u001b[0m\u001b[0;34m\u001b[0m\u001b[0;34m\u001b[0m\u001b[0m\n\u001b[0m",
            "\u001b[0;31mTypeError\u001b[0m: calc() got multiple values for argument 'a'"
          ]
        }
      ]
    },
    {
      "cell_type": "markdown",
      "metadata": {
        "id": "LOzU95gsQvN_"
      },
      "source": [
        "##매개변수 개수 가변적일때\n",
        "\n",
        "\"매개변수*args\"\n",
        "\n"
      ]
    },
    {
      "cell_type": "code",
      "metadata": {
        "colab": {
          "base_uri": "https://localhost:8080/"
        },
        "id": "dt3ee3a5QZIF",
        "outputId": "15aef4f8-dd61-4e9c-e493-c2e67bdccba2"
      },
      "source": [
        "def average(*args): #args는 튜플 데이터형\n",
        "    print(args)\n",
        "    avrg1 = sum(args) /len(args)\n",
        "    return avrg1\n",
        "print(average(1,3)) #인수3개\n",
        "print(average(1,2,3,4,5)) # 인수5개 "
      ],
      "execution_count": null,
      "outputs": [
        {
          "output_type": "stream",
          "text": [
            "(1, 3)\n",
            "2.0\n",
            "(1, 2, 3, 4, 5)\n",
            "3.0\n"
          ],
          "name": "stdout"
        }
      ]
    },
    {
      "cell_type": "code",
      "metadata": {
        "colab": {
          "base_uri": "https://localhost:8080/"
        },
        "id": "_usw4-i5Usoi",
        "outputId": "bee27730-f5ec-448f-d3e3-6fb5a01b819a"
      },
      "source": [
        "# 매개변수 개수 가변적일때 사용. \n",
        "def average(*a): ## args가 고정이 아니라 임의의 변수를 사용해도 댐\n",
        "    avrg1 = sum(a) /len(a)\n",
        "    return avrg1\n",
        "print(average(1,2,3))\n",
        "print(average(1,2,3,4,5))"
      ],
      "execution_count": null,
      "outputs": [
        {
          "output_type": "stream",
          "text": [
            "2.0\n",
            "3.0\n"
          ],
          "name": "stdout"
        }
      ]
    },
    {
      "cell_type": "code",
      "metadata": {
        "colab": {
          "base_uri": "https://localhost:8080/"
        },
        "id": "05vHnDqXVjtX",
        "outputId": "c6983c5b-2caf-45b9-a066-7f3040e29a65"
      },
      "source": [
        "def average(*b): ## args가 고정이 아니라 임의의 변수를 사용해도 댐\n",
        "    avrg1 = sum(b) /len(b)\n",
        "    return avrg1\n",
        "print(average(1,2,3))\n",
        "print(average(1,2,3,4,5))"
      ],
      "execution_count": null,
      "outputs": [
        {
          "output_type": "stream",
          "text": [
            "2.0\n",
            "3.0\n"
          ],
          "name": "stdout"
        }
      ]
    },
    {
      "cell_type": "code",
      "metadata": {
        "colab": {
          "base_uri": "https://localhost:8080/"
        },
        "id": "FKDYzOfCVxUq",
        "outputId": "970f0a49-7149-4ec8-b57d-dc436ecb96bf"
      },
      "source": [
        "def average(*a): ## args가 고정이 아니라 임의의 변수를 사용해도 댐\n",
        "    avrg1 = max(a)\n",
        "    min1 = min(a) \n",
        "    return avrg1,min1\n",
        "print(average(1,2,3))\n",
        "print(average(1,2,3,4,5))"
      ],
      "execution_count": null,
      "outputs": [
        {
          "output_type": "stream",
          "text": [
            "(3, 1)\n",
            "(5, 1)\n"
          ],
          "name": "stdout"
        }
      ]
    },
    {
      "cell_type": "code",
      "metadata": {
        "id": "RkW4JOYVWV5_"
      },
      "source": [
        "#예제 소수 여부 판단하기\n",
        "#소수는 1과 자기 자신만으로 나누어 떨어지는 1보다 큰 양의 정수를 의미한다.\n",
        "#키보드로 입력된 수가 소수인지 아닌지 판별하는 함수를 작성하시오. \n",
        "def p(number):\n",
        "    if number < 2:\n",
        "        return False\n",
        "    for i in range(2,number):\n",
        "        print(i, number)\n",
        "        if number % i ==0:\n",
        "            return False\n",
        "\n",
        "    return True\n",
        "\n",
        "ip = int(input('숫자: '))\n",
        "if p(ip):\n",
        "    print('소수입니다.')\n",
        "else:\n",
        "    print('소수가 아닙니다.')"
      ],
      "execution_count": null,
      "outputs": []
    },
    {
      "cell_type": "code",
      "metadata": {
        "colab": {
          "base_uri": "https://localhost:8080/"
        },
        "id": "Sj1fBRWjXdEI",
        "outputId": "e8b777b7-199f-49ea-ff55-cd67a2d19303"
      },
      "source": [
        "def p(number):\n",
        "    if number % 2 != 0:\n",
        "        return False\n",
        "    else:\n",
        "         return True\n",
        "\n",
        "    \n",
        "\n",
        "ip = int(input('숫자: '))\n",
        "if p(ip):\n",
        "    print('짝수입니다.')\n",
        "else:\n",
        "    print('짝수가 아닙니다.')"
      ],
      "execution_count": null,
      "outputs": [
        {
          "output_type": "stream",
          "text": [
            "숫자: 3\n",
            "짝수가 아닙니다.\n"
          ],
          "name": "stdout"
        }
      ]
    },
    {
      "cell_type": "code",
      "metadata": {
        "colab": {
          "base_uri": "https://localhost:8080/"
        },
        "id": "lGE41WW0YIu8",
        "outputId": "356c9eeb-d31b-4cf3-afe1-742f2cec2f81"
      },
      "source": [
        "#두개의 함수를 사용하여 예제 만들기 \n",
        "#합격여부 만들기 \n",
        "def p(num):\n",
        "    if num >= 75:\n",
        "        return True\n",
        "    else:\n",
        "        return False\n",
        "\n",
        "input_p = int(input('점수를 입력하시오'))\n",
        "if p(input_p):\n",
        "    print('축하합니다!! 합격입니다.')\n",
        "else:\n",
        "    print('불합격하셨습니다:(')"
      ],
      "execution_count": null,
      "outputs": [
        {
          "output_type": "stream",
          "text": [
            "점수를 입력하시오50\n",
            "불합격하셨습니다:(\n"
          ],
          "name": "stdout"
        }
      ]
    },
    {
      "cell_type": "code",
      "metadata": {
        "colab": {
          "base_uri": "https://localhost:8080/"
        },
        "id": "VWCsFJfxaRrw",
        "outputId": "f722e619-61b1-4579-83fa-094a393ed21d"
      },
      "source": [
        "def p(number):\n",
        "    if number < 2:\n",
        "        return False\n",
        "    for i in range(2,number):\n",
        "        print(i, number)\n",
        "        if number % i ==0:\n",
        "            return False\n",
        "\n",
        "    return True\n",
        "\n",
        "ip = int(input('숫자: '))\n",
        "if p(ip):\n",
        "    print('소수입니다.')\n",
        "else:\n",
        "    print('소수가 아닙니다.')"
      ],
      "execution_count": null,
      "outputs": [
        {
          "output_type": "stream",
          "text": [
            "숫자: 50\n",
            "2 50\n",
            "소수가 아닙니다.\n"
          ],
          "name": "stdout"
        }
      ]
    },
    {
      "cell_type": "code",
      "metadata": {
        "colab": {
          "base_uri": "https://localhost:8080/"
        },
        "id": "0Dlvrwa2a5LL",
        "outputId": "65b2ea0e-56cc-4e5e-f04b-0ae30355e99c"
      },
      "source": [
        "def p(num):\n",
        "    if num >= 70:\n",
        "        return True\n",
        "   \n",
        "    else:\n",
        "        return False\n",
        "\n",
        "input_p = int(input('점수를 입력하시오'))\n",
        "if p(input_p):\n",
        "    print('축하합니다!! 합격입니다.')\n",
        "else:\n",
        "    print('불합격하셨습니다:(')"
      ],
      "execution_count": null,
      "outputs": [
        {
          "output_type": "stream",
          "text": [
            "점수를 입력하시오69\n",
            "불합격하셨습니다:(\n"
          ],
          "name": "stdout"
        }
      ]
    },
    {
      "cell_type": "code",
      "metadata": {
        "colab": {
          "base_uri": "https://localhost:8080/"
        },
        "id": "ADshm52MbiVE",
        "outputId": "19c5c87a-5d79-492f-c66d-8935a73c186a"
      },
      "source": [
        "def is_accepted(num):\n",
        "    if num >= 70:\n",
        "        return True ## 리턴은 반환값....\n",
        "# --> 모든 리턴값이 있어야 함 \n",
        "\n",
        "input_num = int(input('점수를 입력하시오:'))\n",
        "if is_accepted(input_num):\n",
        "    print('합격입니다')\n",
        "else:\n",
        "    print('불합격입니다')\n"
      ],
      "execution_count": null,
      "outputs": [
        {
          "output_type": "stream",
          "text": [
            "점수를 입력하시오:69\n",
            "불합격입니다\n"
          ],
          "name": "stdout"
        }
      ]
    },
    {
      "cell_type": "code",
      "metadata": {
        "colab": {
          "base_uri": "https://localhost:8080/"
        },
        "id": "wceV2xHXde92",
        "outputId": "a21e877f-ff1d-4025-a4dc-2b647fd791e0"
      },
      "source": [
        "#예제 오늘의 메뉴\n",
        "#오늘의 급식메뉴를 출력하는 프로그램을 만들려고 한다. \n",
        "#몇개의 메뉴가 선택될 지 모른다. \n",
        "# 오늘의 메뉴를 출력하는 부분을 함수로 만들어 프로그램을 작성하시오.\n",
        "\n",
        "def today_menu(*menu):\n",
        "    for i in menu:\n",
        "        print(i)\n",
        "print(\"== 오늘의 메뉴 ==\")\n",
        "today_menu('김밥', '떡볶이', '오뎅')"
      ],
      "execution_count": null,
      "outputs": [
        {
          "output_type": "stream",
          "text": [
            "== 오늘의 메뉴 ==\n",
            "김밥\n",
            "떡볶이\n",
            "오뎅\n"
          ],
          "name": "stdout"
        }
      ]
    },
    {
      "cell_type": "code",
      "metadata": {
        "colab": {
          "base_uri": "https://localhost:8080/"
        },
        "id": "4AEH6ZoxjJdT",
        "outputId": "3ba0e0d0-9152-44e9-a3e7-80b1bc278644"
      },
      "source": [
        "def today_menu(*menu):\n",
        "    for i in range(len(menu)):\n",
        "        print(menu[i])\n",
        "print(\"== 오늘의 메뉴 ==\")\n",
        "today_menu('김밥', '떡볶이', '오뎅','피자','족발') # 메뉴 인자가 정해지지 않았음."
      ],
      "execution_count": null,
      "outputs": [
        {
          "output_type": "stream",
          "text": [
            "== 오늘의 메뉴 ==\n",
            "김밥\n",
            "떡볶이\n",
            "오뎅\n",
            "피자\n",
            "족발\n"
          ],
          "name": "stdout"
        }
      ]
    },
    {
      "cell_type": "markdown",
      "metadata": {
        "id": "YX36iNJbl-0o"
      },
      "source": [
        "##lamda()함수\n",
        "\n",
        "한줄로 간단하게 만들어 주는 함수\n",
        "\n",
        "함수명 없이 사용하는 것 \n",
        "\n",
        "간편하게 사용할때 프로그레머 임의데로 사용 \n",
        "\n",
        "복잡한 것은 람다를 사용하지 않음"
      ]
    },
    {
      "cell_type": "code",
      "metadata": {
        "colab": {
          "base_uri": "https://localhost:8080/"
        },
        "id": "8dooq5WslsVw",
        "outputId": "3a8c52bc-1c28-4abf-b720-a87e1b83995b"
      },
      "source": [
        "def get_plus_minus(num1,num2):\n",
        "    plus = num1 + num2\n",
        "    return plus\n",
        "print(plus(10,20))\n"
      ],
      "execution_count": null,
      "outputs": [
        {
          "output_type": "stream",
          "text": [
            "30\n"
          ],
          "name": "stdout"
        }
      ]
    },
    {
      "cell_type": "code",
      "metadata": {
        "colab": {
          "base_uri": "https://localhost:8080/"
        },
        "id": "MYVvnb8Smhuz",
        "outputId": "1d9fb2f4-1673-4ff8-e154-7568684e5929"
      },
      "source": [
        "plus = lambda num1,num2: num1+num2 #:이후가 실행부 앞의 num1,num2는 매개변수\n",
        "print(plus(10,20))"
      ],
      "execution_count": null,
      "outputs": [
        {
          "output_type": "stream",
          "text": [
            "30\n"
          ],
          "name": "stdout"
        }
      ]
    },
    {
      "cell_type": "markdown",
      "metadata": {
        "id": "fUofiqXgnLWu"
      },
      "source": [
        "##map() 함수\n",
        "\n",
        "두개의 인자를 갖는 함수로 순서가 있는 자료형에 사용\n",
        "\n",
        "첫번째 인자는 함수명, 두번째 인자는 순서가 있는 자료형"
      ]
    },
    {
      "cell_type": "code",
      "metadata": {
        "colab": {
          "base_uri": "https://localhost:8080/"
        },
        "id": "rjR4xRH0mrR7",
        "outputId": "3ce5c347-46f3-44c2-c45b-f2c5ab876019"
      },
      "source": [
        "mylist = [1,2,3,4,5,6,7,8,9,10]\n",
        "plus10 = lambda num: num+10\n",
        "\n",
        "mylist = list(map(plus10,mylist))\n",
        "print(mylist)"
      ],
      "execution_count": null,
      "outputs": [
        {
          "output_type": "stream",
          "text": [
            "[11, 12, 13, 14, 15, 16, 17, 18, 19, 20]\n"
          ],
          "name": "stdout"
        }
      ]
    },
    {
      "cell_type": "code",
      "metadata": {
        "colab": {
          "base_uri": "https://localhost:8080/"
        },
        "id": "FRVrwYwbn5Je",
        "outputId": "17d9c29c-0dcb-4490-c65e-9159648e294a"
      },
      "source": [
        "mylist = [1,2,3,4,5]\n",
        "mylist = list(map(lambda num: num +10,mylist))\n",
        "print(mylist)"
      ],
      "execution_count": null,
      "outputs": [
        {
          "output_type": "stream",
          "text": [
            "[11, 12, 13, 14, 15]\n"
          ],
          "name": "stdout"
        }
      ]
    },
    {
      "cell_type": "code",
      "metadata": {
        "colab": {
          "base_uri": "https://localhost:8080/"
        },
        "id": "9WA8auncoKbo",
        "outputId": "96b84ad4-8bb5-42d1-f160-539a634d61e3"
      },
      "source": [
        "mylist = (1,2,3,4,5,6,7,8,9,10)\n",
        "plus10 = lambda num: num+10\n",
        "\n",
        "mylist = tuple(map(plus10,mylist))\n",
        "print(mylist)"
      ],
      "execution_count": null,
      "outputs": [
        {
          "output_type": "stream",
          "text": [
            "(11, 12, 13, 14, 15, 16, 17, 18, 19, 20)\n"
          ],
          "name": "stdout"
        }
      ]
    },
    {
      "cell_type": "markdown",
      "metadata": {
        "id": "AIcpnPzno00H"
      },
      "source": [
        "## 재귀함수()\n",
        "\n",
        "함수 안에서 함수 자기자신을 호줄하는 방식\n",
        "\n",
        "재귀호출은 일반적인 상황에서는 잘 사용하지 않지만 알고리즘을 구현할 때 매우 유용합니다. \n",
        "\n",
        "일반적인 프로그램을 작성할때는 잘 안씀.\n",
        "\n",
        "특별한 알고리즘을 구현할때 매우 유용한 함수임.\n"
      ]
    },
    {
      "cell_type": "code",
      "metadata": {
        "colab": {
          "base_uri": "https://localhost:8080/"
        },
        "id": "nv7sacjIoiwN",
        "outputId": "a5169d28-1da4-4cb9-a2d0-162efb09a40b"
      },
      "source": [
        "def hello(count):\n",
        "    if count == 0: ##반드시 종료 조건을 많들어야 함. count가 0이면 다시 hello함수를 호출하지 않고 끝냄.\n",
        "        return\n",
        "    \n",
        "    print('Hello, World', count)\n",
        "\n",
        "    count -= 1 #count를 1 감소시킨 뒤 \n",
        "    hello(count) #다시 hello에 넣음 \n",
        "\n",
        "hello(5) #hello 함수 호출"
      ],
      "execution_count": null,
      "outputs": [
        {
          "output_type": "stream",
          "text": [
            "Hello, World 5\n",
            "Hello, World 4\n",
            "Hello, World 3\n",
            "Hello, World 2\n",
            "Hello, World 1\n"
          ],
          "name": "stdout"
        }
      ]
    },
    {
      "cell_type": "code",
      "metadata": {
        "colab": {
          "base_uri": "https://localhost:8080/"
        },
        "id": "7laBHCz3pYKv",
        "outputId": "321644a2-2b1d-4484-86ed-a4b2b8dec275"
      },
      "source": [
        "#재귀함수 예제. \n",
        "#factorial n! = n*(n-1)*(n-2)*....*(n-(n-1)) \n",
        "#5! = 5*4*3*2*1\n",
        "def f(n):\n",
        "    if n == 1: #n이 1일 때\n",
        "        return 1 # 1을 반환하고 재귀호출을 끝냄\n",
        "    print(n)\n",
        "    return n *f(n-1) #n과 f 함수에 n-1을 넣어서 반환된 값을 곱함.\n",
        "    \n",
        "print(f(5))"
      ],
      "execution_count": null,
      "outputs": [
        {
          "output_type": "stream",
          "text": [
            "5\n",
            "4\n",
            "3\n",
            "2\n",
            "120\n"
          ],
          "name": "stdout"
        }
      ]
    },
    {
      "cell_type": "code",
      "metadata": {
        "colab": {
          "base_uri": "https://localhost:8080/"
        },
        "id": "IoTUjKpGr_4r",
        "outputId": "0c7dfac1-2118-4c08-c415-6ed5057f93d2"
      },
      "source": [
        "##딕셔너리 -- 요소수정\n",
        "#키를 사용하여 해당 키에 새값을 지정한다.\n",
        "#딕셔너리명[key] == value\n",
        "dic_s ={'홍길동':80, '공유':90,'현빈':100}\n",
        "dic_s.get('현빈')\n"
      ],
      "execution_count": null,
      "outputs": [
        {
          "output_type": "execute_result",
          "data": {
            "text/plain": [
              "100"
            ]
          },
          "metadata": {
            "tags": []
          },
          "execution_count": 154
        }
      ]
    },
    {
      "cell_type": "code",
      "metadata": {
        "colab": {
          "base_uri": "https://localhost:8080/",
          "height": 725
        },
        "id": "_UifbTbjqTu4",
        "outputId": "7c3beb46-9dac-45f5-b227-b2701c9c8678"
      },
      "source": [
        "#편의점 재고 정리 \n",
        "#편의점 재고관리 프로그램을 작성해보자.\n",
        "#프로그램에는 3개의 메뉴가 있으며 기능은 다음과 같다. 각 메뉴는 함수로 작성한다.\n",
        "#초기재고는 삼각김밥10개, 커피우유 10개\n",
        "\n",
        "#재고등록함수\n",
        "#엔터를 입력할때까지 반복하여 사용자로부터 물건이름과 개수를 입력 받는다.\n",
        "# 만약 물건이름이 존재하지 않으면 추가하고, 존재하면 개수를 더한다.\n",
        "# 입력이 끝나면 모든 재고 현황 목록을 보여준다.\n",
        "# '0'을입력할때까지 메뉴를 입력받는다.\n",
        "\n",
        "#제품 판매\n",
        "# 물건 이름과 개수를 입력받아 물건을 판매한다.\n",
        "# 물건 개수만큼 재고가 소진되고, 남은 개수가 표시된다.\n",
        "# 재고가 없으면 '재고가 부족합니다.'라고 안내한다. 엔터치면 빠져나오기\n",
        "\n",
        "#재고확인\n",
        "# 딕셔너리 출력 \n",
        "# 물건이름을 입력하면 재고를 출력한다.\n",
        "#해당하는 상품이 없으면 get.\n",
        "#등록되지 않은 상품 \n",
        "while True:\n",
        "    print('''\n",
        "    ==== 재고관리 시스템 ====\n",
        "    1:재고등록, 2:제품판매, 3:재고확인, 0:프로그램 종료\n",
        "    ''')\n",
        "\n",
        "    menu = input('메뉴를 선택하세요:')\n",
        "    if menu == '0':\n",
        "        break\n",
        "    elif menu == '1':\n",
        "        print('재고등록 시스템')\n",
        "        a={'삼각김밥':10,'커피우유':10}\n",
        "        while True:\n",
        "            product = input('물건이름: ')\n",
        "            if product =='':\n",
        "                break\n",
        "            num = int(input('개수: '))\n",
        "            if product in a.keys():\n",
        "                a[product] += num\n",
        "            else:\n",
        "                a[product] = num\n",
        "        print('_'*50)\n",
        "        for key,value in sorted(a.items()):\n",
        "            print(key, value)\n",
        "\n",
        "\n",
        "    elif menu == '2':\n",
        "        print('제품판매 시스템')\n",
        "        while True:\n",
        "            product = input('상품명: ')\n",
        "            if product == '':\n",
        "                break\n",
        "            num = int(input('개수: '))\n",
        "            if product in a.keys():\n",
        "                a[product] -=num\n",
        "                print(f'{a}개 남았습니다')\n",
        "            else:\n",
        "                print('재고가 부족합니다.')\n",
        "        \n",
        "    elif menu == '3':\n",
        "        print('재고확인 시스템')\n",
        "        while True:\n",
        "            product = input('물건이름: ')\n",
        "            if product == '':\n",
        "                break\n",
        "            \n"
      ],
      "execution_count": null,
      "outputs": [
        {
          "output_type": "stream",
          "text": [
            "\n",
            "    ==== 재고관리 시스템 ====\n",
            "    1:재고등록, 2:제품판매, 3:재고확인, 0:프로그램 종료\n",
            "    \n",
            "메뉴를 선택하세요:2\n",
            "제품판매 시스템\n",
            "상품명: 초코우유\n",
            "개수: 1\n",
            "재고가 부족합니다.\n"
          ],
          "name": "stdout"
        },
        {
          "output_type": "error",
          "ename": "KeyboardInterrupt",
          "evalue": "ignored",
          "traceback": [
            "\u001b[0;31m---------------------------------------------------------------------------\u001b[0m",
            "\u001b[0;31mKeyboardInterrupt\u001b[0m                         Traceback (most recent call last)",
            "\u001b[0;32m/usr/local/lib/python3.7/dist-packages/ipykernel/kernelbase.py\u001b[0m in \u001b[0;36m_input_request\u001b[0;34m(self, prompt, ident, parent, password)\u001b[0m\n\u001b[1;32m    728\u001b[0m             \u001b[0;32mtry\u001b[0m\u001b[0;34m:\u001b[0m\u001b[0;34m\u001b[0m\u001b[0;34m\u001b[0m\u001b[0m\n\u001b[0;32m--> 729\u001b[0;31m                 \u001b[0mident\u001b[0m\u001b[0;34m,\u001b[0m \u001b[0mreply\u001b[0m \u001b[0;34m=\u001b[0m \u001b[0mself\u001b[0m\u001b[0;34m.\u001b[0m\u001b[0msession\u001b[0m\u001b[0;34m.\u001b[0m\u001b[0mrecv\u001b[0m\u001b[0;34m(\u001b[0m\u001b[0mself\u001b[0m\u001b[0;34m.\u001b[0m\u001b[0mstdin_socket\u001b[0m\u001b[0;34m,\u001b[0m \u001b[0;36m0\u001b[0m\u001b[0;34m)\u001b[0m\u001b[0;34m\u001b[0m\u001b[0;34m\u001b[0m\u001b[0m\n\u001b[0m\u001b[1;32m    730\u001b[0m             \u001b[0;32mexcept\u001b[0m \u001b[0mException\u001b[0m\u001b[0;34m:\u001b[0m\u001b[0;34m\u001b[0m\u001b[0;34m\u001b[0m\u001b[0m\n",
            "\u001b[0;32m/usr/local/lib/python3.7/dist-packages/jupyter_client/session.py\u001b[0m in \u001b[0;36mrecv\u001b[0;34m(self, socket, mode, content, copy)\u001b[0m\n\u001b[1;32m    802\u001b[0m         \u001b[0;32mtry\u001b[0m\u001b[0;34m:\u001b[0m\u001b[0;34m\u001b[0m\u001b[0;34m\u001b[0m\u001b[0m\n\u001b[0;32m--> 803\u001b[0;31m             \u001b[0mmsg_list\u001b[0m \u001b[0;34m=\u001b[0m \u001b[0msocket\u001b[0m\u001b[0;34m.\u001b[0m\u001b[0mrecv_multipart\u001b[0m\u001b[0;34m(\u001b[0m\u001b[0mmode\u001b[0m\u001b[0;34m,\u001b[0m \u001b[0mcopy\u001b[0m\u001b[0;34m=\u001b[0m\u001b[0mcopy\u001b[0m\u001b[0;34m)\u001b[0m\u001b[0;34m\u001b[0m\u001b[0;34m\u001b[0m\u001b[0m\n\u001b[0m\u001b[1;32m    804\u001b[0m         \u001b[0;32mexcept\u001b[0m \u001b[0mzmq\u001b[0m\u001b[0;34m.\u001b[0m\u001b[0mZMQError\u001b[0m \u001b[0;32mas\u001b[0m \u001b[0me\u001b[0m\u001b[0;34m:\u001b[0m\u001b[0;34m\u001b[0m\u001b[0;34m\u001b[0m\u001b[0m\n",
            "\u001b[0;32m/usr/local/lib/python3.7/dist-packages/zmq/sugar/socket.py\u001b[0m in \u001b[0;36mrecv_multipart\u001b[0;34m(self, flags, copy, track)\u001b[0m\n\u001b[1;32m    582\u001b[0m         \"\"\"\n\u001b[0;32m--> 583\u001b[0;31m         \u001b[0mparts\u001b[0m \u001b[0;34m=\u001b[0m \u001b[0;34m[\u001b[0m\u001b[0mself\u001b[0m\u001b[0;34m.\u001b[0m\u001b[0mrecv\u001b[0m\u001b[0;34m(\u001b[0m\u001b[0mflags\u001b[0m\u001b[0;34m,\u001b[0m \u001b[0mcopy\u001b[0m\u001b[0;34m=\u001b[0m\u001b[0mcopy\u001b[0m\u001b[0;34m,\u001b[0m \u001b[0mtrack\u001b[0m\u001b[0;34m=\u001b[0m\u001b[0mtrack\u001b[0m\u001b[0;34m)\u001b[0m\u001b[0;34m]\u001b[0m\u001b[0;34m\u001b[0m\u001b[0;34m\u001b[0m\u001b[0m\n\u001b[0m\u001b[1;32m    584\u001b[0m         \u001b[0;31m# have first part already, only loop while more to receive\u001b[0m\u001b[0;34m\u001b[0m\u001b[0;34m\u001b[0m\u001b[0;34m\u001b[0m\u001b[0m\n",
            "\u001b[0;32mzmq/backend/cython/socket.pyx\u001b[0m in \u001b[0;36mzmq.backend.cython.socket.Socket.recv\u001b[0;34m()\u001b[0m\n",
            "\u001b[0;32mzmq/backend/cython/socket.pyx\u001b[0m in \u001b[0;36mzmq.backend.cython.socket.Socket.recv\u001b[0;34m()\u001b[0m\n",
            "\u001b[0;32mzmq/backend/cython/socket.pyx\u001b[0m in \u001b[0;36mzmq.backend.cython.socket._recv_copy\u001b[0;34m()\u001b[0m\n",
            "\u001b[0;32m/usr/local/lib/python3.7/dist-packages/zmq/backend/cython/checkrc.pxd\u001b[0m in \u001b[0;36mzmq.backend.cython.checkrc._check_rc\u001b[0;34m()\u001b[0m\n",
            "\u001b[0;31mKeyboardInterrupt\u001b[0m: ",
            "\nDuring handling of the above exception, another exception occurred:\n",
            "\u001b[0;31mKeyboardInterrupt\u001b[0m                         Traceback (most recent call last)",
            "\u001b[0;32m<ipython-input-171-fc9553a5ab6b>\u001b[0m in \u001b[0;36m<module>\u001b[0;34m()\u001b[0m\n\u001b[1;32m     49\u001b[0m         \u001b[0mprint\u001b[0m\u001b[0;34m(\u001b[0m\u001b[0;34m'제품판매 시스템'\u001b[0m\u001b[0;34m)\u001b[0m\u001b[0;34m\u001b[0m\u001b[0;34m\u001b[0m\u001b[0m\n\u001b[1;32m     50\u001b[0m         \u001b[0;32mwhile\u001b[0m \u001b[0;32mTrue\u001b[0m\u001b[0;34m:\u001b[0m\u001b[0;34m\u001b[0m\u001b[0;34m\u001b[0m\u001b[0m\n\u001b[0;32m---> 51\u001b[0;31m             \u001b[0mproduct\u001b[0m \u001b[0;34m=\u001b[0m \u001b[0minput\u001b[0m\u001b[0;34m(\u001b[0m\u001b[0;34m'상품명: '\u001b[0m\u001b[0;34m)\u001b[0m\u001b[0;34m\u001b[0m\u001b[0;34m\u001b[0m\u001b[0m\n\u001b[0m\u001b[1;32m     52\u001b[0m             \u001b[0;32mif\u001b[0m \u001b[0mproduct\u001b[0m \u001b[0;34m==\u001b[0m \u001b[0;34m''\u001b[0m\u001b[0;34m:\u001b[0m\u001b[0;34m\u001b[0m\u001b[0;34m\u001b[0m\u001b[0m\n\u001b[1;32m     53\u001b[0m                 \u001b[0;32mbreak\u001b[0m\u001b[0;34m\u001b[0m\u001b[0;34m\u001b[0m\u001b[0m\n",
            "\u001b[0;32m/usr/local/lib/python3.7/dist-packages/ipykernel/kernelbase.py\u001b[0m in \u001b[0;36mraw_input\u001b[0;34m(self, prompt)\u001b[0m\n\u001b[1;32m    702\u001b[0m             \u001b[0mself\u001b[0m\u001b[0;34m.\u001b[0m\u001b[0m_parent_ident\u001b[0m\u001b[0;34m,\u001b[0m\u001b[0;34m\u001b[0m\u001b[0;34m\u001b[0m\u001b[0m\n\u001b[1;32m    703\u001b[0m             \u001b[0mself\u001b[0m\u001b[0;34m.\u001b[0m\u001b[0m_parent_header\u001b[0m\u001b[0;34m,\u001b[0m\u001b[0;34m\u001b[0m\u001b[0;34m\u001b[0m\u001b[0m\n\u001b[0;32m--> 704\u001b[0;31m             \u001b[0mpassword\u001b[0m\u001b[0;34m=\u001b[0m\u001b[0;32mFalse\u001b[0m\u001b[0;34m,\u001b[0m\u001b[0;34m\u001b[0m\u001b[0;34m\u001b[0m\u001b[0m\n\u001b[0m\u001b[1;32m    705\u001b[0m         )\n\u001b[1;32m    706\u001b[0m \u001b[0;34m\u001b[0m\u001b[0m\n",
            "\u001b[0;32m/usr/local/lib/python3.7/dist-packages/ipykernel/kernelbase.py\u001b[0m in \u001b[0;36m_input_request\u001b[0;34m(self, prompt, ident, parent, password)\u001b[0m\n\u001b[1;32m    732\u001b[0m             \u001b[0;32mexcept\u001b[0m \u001b[0mKeyboardInterrupt\u001b[0m\u001b[0;34m:\u001b[0m\u001b[0;34m\u001b[0m\u001b[0;34m\u001b[0m\u001b[0m\n\u001b[1;32m    733\u001b[0m                 \u001b[0;31m# re-raise KeyboardInterrupt, to truncate traceback\u001b[0m\u001b[0;34m\u001b[0m\u001b[0;34m\u001b[0m\u001b[0;34m\u001b[0m\u001b[0m\n\u001b[0;32m--> 734\u001b[0;31m                 \u001b[0;32mraise\u001b[0m \u001b[0mKeyboardInterrupt\u001b[0m\u001b[0;34m\u001b[0m\u001b[0;34m\u001b[0m\u001b[0m\n\u001b[0m\u001b[1;32m    735\u001b[0m             \u001b[0;32melse\u001b[0m\u001b[0;34m:\u001b[0m\u001b[0;34m\u001b[0m\u001b[0;34m\u001b[0m\u001b[0m\n\u001b[1;32m    736\u001b[0m                 \u001b[0;32mbreak\u001b[0m\u001b[0;34m\u001b[0m\u001b[0;34m\u001b[0m\u001b[0m\n",
            "\u001b[0;31mKeyboardInterrupt\u001b[0m: "
          ]
        }
      ]
    },
    {
      "cell_type": "code",
      "metadata": {
        "id": "vDDgS_Dvvyxx"
      },
      "source": [
        "#재고확인\n",
        "# 딕셔너리 출력 \n",
        "# 물건이름을 입력하면 재고를 출력한다.\n",
        "#해당하는 상품이 없으면 get.\n",
        "#등록되지 않은 상품"
      ],
      "execution_count": null,
      "outputs": []
    },
    {
      "cell_type": "code",
      "metadata": {
        "colab": {
          "base_uri": "https://localhost:8080/",
          "height": 143
        },
        "id": "MgJC_dcT5628",
        "outputId": "3519af35-5565-4466-af88-dbc9126e127c"
      },
      "source": [
        "#초기 재고 \n",
        "inventory = {'삼각김밥': 10, '커피우유':10}\n",
        "\n",
        "def add_product():\n",
        "    while True:\n",
        "        product = input('상품명:')\n",
        "        if product ==' ':\n",
        "            break\n",
        "        number = int(input('갯수: '))\n",
        "        if product in inventory.keys():\n",
        "                inventory[product] += num\n",
        "            else:\n",
        "                inventory[product] = num\n",
        "    print('_'*50)\n",
        "    for key, value in inventory.items():\n",
        "        print(key, value)\n"
      ],
      "execution_count": null,
      "outputs": [
        {
          "output_type": "error",
          "ename": "IndentationError",
          "evalue": "ignored",
          "traceback": [
            "\u001b[0;36m  File \u001b[0;32m\"<ipython-input-167-dc1185dc41a4>\"\u001b[0;36m, line \u001b[0;32m12\u001b[0m\n\u001b[0;31m    else:\u001b[0m\n\u001b[0m         ^\u001b[0m\n\u001b[0;31mIndentationError\u001b[0m\u001b[0;31m:\u001b[0m unindent does not match any outer indentation level\n"
          ]
        }
      ]
    },
    {
      "cell_type": "code",
      "metadata": {
        "colab": {
          "base_uri": "https://localhost:8080/",
          "height": 143
        },
        "id": "3CqGhOn462BP",
        "outputId": "29ea2300-f0de-41d5-c7e1-d802edb91a5f"
      },
      "source": [
        "def sel_product():\n",
        "    while True:\n",
        "        product input('상품명: ')\n",
        "        if product ==' ':\n",
        "            break\n",
        "        num = int(input('개수: '))\n",
        "            if product in inventory.keys():\n",
        "                a[product] -=num\n",
        "                print(f'{inventory}개 남았습니다')\n",
        "            else:\n",
        "                print('재고가 부족합니다.')\n",
        "        "
      ],
      "execution_count": null,
      "outputs": [
        {
          "output_type": "error",
          "ename": "SyntaxError",
          "evalue": "ignored",
          "traceback": [
            "\u001b[0;36m  File \u001b[0;32m\"<ipython-input-168-2e505619ca96>\"\u001b[0;36m, line \u001b[0;32m3\u001b[0m\n\u001b[0;31m    product input('상품명: ')\u001b[0m\n\u001b[0m                ^\u001b[0m\n\u001b[0;31mSyntaxError\u001b[0m\u001b[0;31m:\u001b[0m invalid syntax\n"
          ]
        }
      ]
    },
    {
      "cell_type": "code",
      "metadata": {
        "id": "wHt097w27XCP"
      },
      "source": [
        ""
      ],
      "execution_count": null,
      "outputs": []
    }
  ]
}