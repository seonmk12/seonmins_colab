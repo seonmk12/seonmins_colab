{
  "nbformat": 4,
  "nbformat_minor": 0,
  "metadata": {
    "colab": {
      "name": "20210607_4팀_김선민.ipynb",
      "provenance": [],
      "authorship_tag": "ABX9TyM7/JL/MhvJGB0gSG5L6ESB",
      "include_colab_link": true
    },
    "kernelspec": {
      "name": "python3",
      "display_name": "Python 3"
    },
    "language_info": {
      "name": "python"
    }
  },
  "cells": [
    {
      "cell_type": "markdown",
      "metadata": {
        "id": "view-in-github",
        "colab_type": "text"
      },
      "source": [
        "<a href=\"https://colab.research.google.com/github/seonmk12/seonmins_colab/blob/master/_notebooks/20210607-4%ED%8C%80-%EA%B9%80%EC%84%A0%EB%AF%BC.ipynb\" target=\"_parent\"><img src=\"https://colab.research.google.com/assets/colab-badge.svg\" alt=\"Open In Colab\"/></a>"
      ]
    },
    {
      "cell_type": "markdown",
      "metadata": {
        "id": "DcOEbpPEpIUH"
      },
      "source": [
        "##깃허브\n",
        "깃허브란 무엇인지\n",
        "깃허브를 이용한 블로그 만들기\n",
        "\n"
      ]
    },
    {
      "cell_type": "markdown",
      "metadata": {
        "id": "iXYidhOzq9fk"
      },
      "source": [
        "##깃허브와 깃허브 데스트탑.\n",
        "\n",
        "Git을 사용하는 이유(무료이니까....)\n",
        "\n",
        "*효과적인 협업\n",
        "\n",
        "*손쉬운 개발 및 테스트 환경 구축\n",
        "\n",
        "*효율적인 배포관리 분산\n",
        "\n",
        "github는?\n",
        "버전관리 툴인 깃(git)을 사용하는 프로젝트를 지원하는 웹호스팅 서비스.\n",
        "깃이 텍스트 명령어 입력 방식인데 반해, github는 그래픽 유저 인터페이스(GUI)를 제공(웹사이트에서 사용하는 클라우드 느낌)"
      ]
    },
    {
      "cell_type": "markdown",
      "metadata": {
        "id": "BOundhedryec"
      },
      "source": [
        "GIT\n",
        "로컬에서 관리되는 버전 관리 시스템(VCS: Version Contral System)\n",
        "\n",
        "github\n",
        "협업, 오픈소스를 공유 등은 github를 써서 편리하게 사용\n",
        "\n",
        "\n",
        "기본용어\n",
        "\n",
        "커멘드라인(commanf line): 킷명령어를 입력할 때 사용하는 컴퓨터 프로그램\n",
        "\n",
        "저장소(repository): 프로젝츠의 디렉토리나 저장 공간, 코드 화일, 텍스트 화일, 이미지 화일을 저장 \n",
        "\n",
        "버전관리\n",
        "\n",
        "커밋\n",
        "\n",
        "브랜치: 메인프로젝트의 브랜치로 변경하고 싶은 자신만의 버전을 만든다. 작업 후 프로젝트의 메인 \"master\"에 브랜치를 다시 \"merge\" --> 사본의 개념\n",
        "\n"
      ]
    },
    {
      "cell_type": "markdown",
      "metadata": {
        "id": "I2CTMryotAhl"
      },
      "source": [
        "##깃허브\n",
        "버젼 관리\n",
        "\n",
        "커밋:git에 파일을 추가하거나 변경 내용을 저장(저장 시점)\n",
        "\n",
        "푸쉬: 깃허브에 파일을 추가하거나 변경 내용을 저장 \n",
        "\n",
        "풀: 깃허브(또는 원격 저장소)에서 파일을 다운로드하는 작업(히드토리까지)\n",
        "\n",
        "\n",
        "git bash 또는 콘솔에서 git 명령어로 commit/push일일히 작업하는 것보다 편하게 사용 가능 \n",
        "\n",
        "\n",
        "\n"
      ]
    },
    {
      "cell_type": "markdown",
      "metadata": {
        "id": "GMoMbVmsAbCU"
      },
      "source": [
        "##깃허브에서 브랜치 생성 마스터 선택 새로운 브랜치명 입력 \n",
        "\n",
        "공동작업자 등록 \n",
        "\n",
        "1. 깃허브 master 선택 상단 setting 선택\n",
        "\n",
        "2. manage access --> invite a collaboratoe --> email이나 깃허브 이름으로 초대 "
      ]
    },
    {
      "cell_type": "markdown",
      "metadata": {
        "id": "QdlCTvXOJFwH"
      },
      "source": [
        "#fastpages 블로그 \n",
        "fastpages 공식 레포지토리에서 'use this template' 버튼을 클릭 "
      ]
    },
    {
      "cell_type": "markdown",
      "metadata": {
        "id": "pt-fidOtTcE_"
      },
      "source": [
        "fastpages 블로그 파일 관리\n",
        "\n",
        "_config.yml:블로그의 이름, 미리보기 여부, 태그 보여주기 여부 등을 설정\n",
        "\n",
        "index.html: 블로그 메인 페이지에 보여지는 컨텐츠를 작성하는 파일.\n",
        "\n",
        "_pages/about.md: 블로그의 자기소개 about페이지의 내용으로 markdown 포멧\n",
        "\n",
        "\n",
        "포스트를 저장하는 디렉토리 구분(_notebooks(주피터 노트북 파일은 여기다가 넣어야 함)/,_posts/,_word/,images/)\n",
        "\n",
        "이름 형식은 \n",
        "YYYY-mm-dd-{아무이름}형태로 작성되어야 하며 fastpages가 이를 인식하고 파일을 html로 변환함. "
      ]
    },
    {
      "cell_type": "code",
      "metadata": {
        "id": "UXjmBG7eqFD4"
      },
      "source": [
        ""
      ],
      "execution_count": null,
      "outputs": []
    }
  ]
}