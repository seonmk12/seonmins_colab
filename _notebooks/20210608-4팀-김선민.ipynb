{
  "nbformat": 4,
  "nbformat_minor": 0,
  "metadata": {
    "colab": {
      "name": "20210608-4팀-김선민.ipynb의 사본",
      "provenance": [],
      "include_colab_link": true
    },
    "kernelspec": {
      "name": "python3",
      "display_name": "Python 3"
    },
    "language_info": {
      "name": "python"
    }
  },
  "cells": [
    {
      "cell_type": "markdown",
      "metadata": {
        "id": "view-in-github",
        "colab_type": "text"
      },
      "source": [
        "<a href=\"https://colab.research.google.com/github/seonmk12/seonmins_colab/blob/master/_notebooks/20210608-4%ED%8C%80-%EA%B9%80%EC%84%A0%EB%AF%BC.ipynb\" target=\"_parent\"><img src=\"https://colab.research.google.com/assets/colab-badge.svg\" alt=\"Open In Colab\"/></a>"
      ]
    },
    {
      "cell_type": "markdown",
      "metadata": {
        "id": "roymt7rpyXAz"
      },
      "source": [
        "앱 인벤터 --> 앱 인벤터(App Inventor for Android)는 원래 구글이 제공한 오픈 소스 웹 애플리케이션으로, 지금은 매사추세츠 공과대학교(MIT)에 의해 관리되고 있다.\n",
        "\n",
        "컴퓨터 프로그래밍을 처음 접하는 사람들이 안드로이드 운영 체제용 응용 소프트웨어를 만들 수 있게 해준다. 스크래치와 스타로고 TNG 사용자 인터페이스와 매우 비슷한 그래픽 인터페이스를 사용하므로 사용자들이 시각 객체들을 드래그 앤드 드롭하여 안드로이드 장치에서 실행할 응용 프로그램들을 만들 수 있다. \n",
        "\n"
      ]
    },
    {
      "cell_type": "markdown",
      "metadata": {
        "id": "fI-__ULfzyp4"
      },
      "source": [
        "##개발환경이란?\n",
        "\n",
        "개발환경 구성은 크게 하드웨어와 소프트웨어 환경으로 구성됨\n",
        "\n",
        "*하드웨어 환경은 서버(e.g. 깃허브), 클라이언트 환경(사용자가 보고 처리할 수 있는 환경)으로 분류\n",
        "\n",
        "*소프트웨어 환경은 서버구축에 필요한 소프트웨어를 의미한다.\n",
        "\n",
        "*프로젝트의 성격과 요구사항에 부합한 환경을 구성한다."
      ]
    },
    {
      "cell_type": "markdown",
      "metadata": {
        "id": "GcOVTLqG0NU9"
      },
      "source": [
        "##개발자 관점에서 개발환경이란??\n",
        "\n",
        "엔진, 프레임워크(어떤 환경) 등의 특정한 개발환경에서 --> 코렙에서 파이썬 언어를 사용 \n",
        "\n",
        "함수, 라이브러리 등의 개발킷, 개발 도구를 불러와 사용 가능한 개발언어로 인터페이스에 맞게 특정 플랫포므 운영체제 등의 시스템에서 동작할 수 있는 프로그램, 소프트웨어를 만드는 것."
      ]
    },
    {
      "cell_type": "markdown",
      "metadata": {
        "id": "E752kfOg0n4G"
      },
      "source": [
        "개발자 관점에서 개발 툴\n",
        "\n",
        "플러그인 \n",
        "\n",
        "기존 응용소프트웨어에 특정기능을 추가하기 위한 소프트웨어 요소로 특정 기능이 기본적으로 포함되어 있다면 빌드시간이 늘어나고 실행파일이 무거워질 수 있음.\n",
        "\n"
      ]
    },
    {
      "cell_type": "markdown",
      "metadata": {
        "id": "Yz69S3xI02kJ"
      },
      "source": [
        "소프트웨어 \n",
        "\n",
        "bootstrap\n",
        "\n"
      ]
    },
    {
      "cell_type": "markdown",
      "metadata": {
        "id": "anZtGRXF08uL"
      },
      "source": [
        "개발자 관점에서 개발툴\n",
        "\n",
        "sdk 소프트웨어 개발 도구\n",
        "함수: 프로그램을 구성하는 가장 작은 단위\n",
        "android sdk : 안드로이드 소프트웨어 개발 키트\n",
        "ios sdk:ios개발을 위한 애플의 소프트웨어 개발 키트\n",
        "jdk\n",
        "\n",
        "라이브러리-함수들을 제작하여 나중에 다시 쓸 수 있게 모아둔것e.g. import\n",
        "\n",
        "api: 운영체제와 응용프로그램 사이의 통신에 사용되는 언어나 메시지 형식(e.g. 얼굴인식)\n",
        "\n",
        "thirdPaty: 개발자들에게 필요한 라이브러리를 제작해 공급하는 업체 \n",
        "openssl: 보안 라이브러리. tls와 ssl의 오픈 소스 구현판 \n"
      ]
    },
    {
      "cell_type": "markdown",
      "metadata": {
        "id": "mL25KLuU1iAQ"
      },
      "source": [
        "인터페이스\n",
        "\n",
        "CLI: 명령줄 인터페이스\n",
        "JNI:C/C++언어로 작성된 프로그램을 java에서 사용\n",
        "Win32 API: MS사의 위도계열 운영체제롤 사용되고 있는 32비트 API\n",
        "\n"
      ]
    },
    {
      "cell_type": "markdown",
      "metadata": {
        "id": "maVxTS811wM-"
      },
      "source": [
        "IDE: 통합개발환경\n",
        "\n",
        "RE:실행환경\n",
        "Android Studio: V3.1 구글제공안드로이드 통합개발환경"
      ]
    },
    {
      "cell_type": "markdown",
      "metadata": {
        "id": "lvLvhyJ62Fvl"
      },
      "source": [
        "프레인워크\n",
        "\n",
        "라이브러리처럼 단지 함수의 집합이 아닌 함수들이 서로 연결되고, 함수나 컴포넌트를 사용하는 규칙까지 정해진, 아키텍트가 포함\n",
        "\n",
        "Backbone.js:자바스크립트 프레임워크\n"
      ]
    },
    {
      "cell_type": "markdown",
      "metadata": {
        "id": "HT01IQ1_2WyF"
      },
      "source": [
        "##웹 프로젝프 개발영역\n",
        "\n",
        "#Front-end \n",
        "화면을 디자인하고, 화면에 대한 제어하는 언어를 사용함 \n",
        "\n",
        "CSS, HTML, JAVA\n",
        "\n",
        "유저와 웹브라우져(앱화면상) 이루어지는 인풋과 아웃풋\n",
        "\n",
        "\n",
        "\n",
        "#Back-end\n",
        "\n",
        "php, .net ,expre\n",
        "\n",
        "요청받은것을(처리하기 위해) 웹서버가 데이터베이스를 통해 다시 반응하여 아웃풋을 웹브라우저에게 보냄. \n",
        "\n",
        "\n"
      ]
    },
    {
      "cell_type": "markdown",
      "metadata": {
        "id": "CVETHZq_5BBe"
      },
      "source": [
        "#앱인벤터 만들기\n",
        "\n",
        "앱 인벤터의 특징(MIT Applnventor)\n",
        "\n",
        "블록 쌓기 형태의 프로그래밍 언어:명령어를 가져다 사용할 수 있음.\n",
        "\n",
        "클라우드 방식의 프로젝트 제작 및 저장\n",
        "\n",
        "온라인으로 프로그래밍 가능\n",
        "\n",
        "안드로이드 운영체제가 탑제된 기기에서 실제로 실행되는 앱 제작 \n",
        "\n",
        "#웹 인벤터 사용환경\n",
        "\n",
        "인터넷에 연결된 컴퓨터\n",
        "앱인벤터가 구동되는 웹브라우저(크롬, 파이어 폭스 사파리)\n",
        "\n"
      ]
    },
    {
      "cell_type": "markdown",
      "metadata": {
        "id": "aoPg46vB57mt"
      },
      "source": [
        "#앱인벤터\n",
        "\n",
        "개발자 옵션 활성화하기\n",
        "\n",
        "1. 설정)에서 시스템)선택\n",
        "\n",
        "2. 휴대전화 정보)를 선택 "
      ]
    },
    {
      "cell_type": "markdown",
      "metadata": {
        "id": "KlyhHVKl7Yp4"
      },
      "source": [
        "#앱인벤터\n",
        "디자이너 화면 -안드로이드 기기 화면 속에 보이게 될 모양을 디자인 합니다.\n",
        "\n",
        "블록 에디터-원하는 대로 앱을 동작할 수 있게 만듦. "
      ]
    },
    {
      "cell_type": "markdown",
      "metadata": {
        "id": "qFd04m3eNbI3"
      },
      "source": [
        "## 모듈과 패키지 \n",
        "\n",
        "e.g. import\n",
        "\n",
        "코드를 따는 것 모든것이 모듈이라 할 수 있음. \n",
        "\n",
        "모듈에는 변수, 함수, 클래스가 있음\n",
        "\n",
        "\n",
        "#모듈: 각종 변수, 함수, 클래스를 담고 있는 파일(.py)  \n",
        "다른 파이썬 프로그램에서 불러와 사용할 수 있다.\n",
        "\n",
        "이미 만들어진 모듈을 사용할 수도 있고 직접 만들어서 사용할 수도 있다.\n",
        "\n",
        "#패키지: 여러 모듈을 묶은 것(폴더형태)\n",
        "파이썬을 설치할 때 다양한 모듈과 패키기자 기본으로 설치됨.\n",
        "\n",
        "표준 라이브러리: 파이썬에 설치된 모튤, 패키지, 내장함수들\n",
        "\n",
        "\n"
      ]
    },
    {
      "cell_type": "markdown",
      "metadata": {
        "id": "UOEYfoHOPie7"
      },
      "source": [
        "##모듈 만들기\n",
        "\n",
        "1. 별도의 파일에 함수를 만든다.\n",
        "\n",
        "2. .py로 다운로드 한다. "
      ]
    },
    {
      "cell_type": "code",
      "metadata": {
        "colab": {
          "base_uri": "https://localhost:8080/"
        },
        "id": "2YzZvM2JRVtX",
        "outputId": "4b25fb77-0a3f-4f43-b9ff-689588a28f20"
      },
      "source": [
        "from google.colab import drive\n",
        "drive.mount('/content/drive')"
      ],
      "execution_count": null,
      "outputs": [
        {
          "output_type": "stream",
          "text": [
            "Drive already mounted at /content/drive; to attempt to forcibly remount, call drive.mount(\"/content/drive\", force_remount=True).\n"
          ],
          "name": "stdout"
        }
      ]
    },
    {
      "cell_type": "code",
      "metadata": {
        "colab": {
          "base_uri": "https://localhost:8080/"
        },
        "id": "z44DBTdrTLOn",
        "outputId": "a0288350-f438-4de7-f573-f24e66a13ed5"
      },
      "source": [
        "% cd /content/drive/MyDrive/Colab Notebooks\n",
        "## 구글드라이브 연결 후 폴더 경로복사 후 붙여넣기\n",
        "## 임포트 작업목록을 바꿔줄때 "
      ],
      "execution_count": null,
      "outputs": [
        {
          "output_type": "stream",
          "text": [
            "/content/drive/MyDrive/Colab Notebooks\n"
          ],
          "name": "stdout"
        }
      ]
    },
    {
      "cell_type": "code",
      "metadata": {
        "id": "7GpyEsC6yQCh",
        "colab": {
          "base_uri": "https://localhost:8080/"
        },
        "outputId": "e83de10a-4e20-4588-ecc5-edf3a7845a6e"
      },
      "source": [
        "import mycalc\n",
        "p = mycalc.get_plus(2,2)\n",
        "m = mycalc.get_plus(3,2)\n",
        "print(p,m)"
      ],
      "execution_count": null,
      "outputs": [
        {
          "output_type": "stream",
          "text": [
            "4 5\n"
          ],
          "name": "stdout"
        }
      ]
    },
    {
      "cell_type": "markdown",
      "metadata": {
        "id": "CuFKtt1ybz8a"
      },
      "source": [
        "#모듈 별칭 사용하기 \n",
        "\n",
        "import 모듈명 as 별칭(별명으로 사용하는 것. mycalc다쓰는게 아니라 별칭으로 사용 가능함) \n",
        "\n",
        "별칭.함수명()\n"
      ]
    },
    {
      "cell_type": "code",
      "metadata": {
        "colab": {
          "base_uri": "https://localhost:8080/"
        },
        "id": "u3yZFNT2R-Su",
        "outputId": "a0621aeb-6b0b-410f-9101-a4327302e78f"
      },
      "source": [
        "import mycalc as a \n",
        "p = a.get_plus(2,2)\n",
        "m = a.get_minus(3,2)\n",
        "print(p,m)"
      ],
      "execution_count": null,
      "outputs": [
        {
          "output_type": "stream",
          "text": [
            "4 1\n"
          ],
          "name": "stdout"
        }
      ]
    },
    {
      "cell_type": "code",
      "metadata": {
        "colab": {
          "base_uri": "https://localhost:8080/"
        },
        "id": "hHrj_Tq_WCdY",
        "outputId": "7a0d51aa-1934-4066-cc40-fb1129bc56a1"
      },
      "source": [
        "#모듈이름 붙이지 않고 모듈의 함수 사용하기\n",
        "#form 모듈명 import 함수면 \n",
        "\n",
        "from mycalc import get_plus\n",
        "p = get_plus(8,9)\n",
        "m = a.get_minus(3,2)\n",
        "print(p,m)"
      ],
      "execution_count": null,
      "outputs": [
        {
          "output_type": "stream",
          "text": [
            "17 1\n"
          ],
          "name": "stdout"
        }
      ]
    },
    {
      "cell_type": "code",
      "metadata": {
        "colab": {
          "base_uri": "https://localhost:8080/"
        },
        "id": "i_4Bq6BAc2pd",
        "outputId": "b530deda-b40e-44cb-a41f-8b74e02fa854"
      },
      "source": [
        "# 모듈 함수명만 사용 \n",
        "from mycalc import get_plus,get_minus ## 따로따로가 아닌 둘다 가져오기 가능함. \n",
        "p = get_plus(2,2)\n",
        "m = get_minus(3,2)\n",
        "#print(p,m)"
      ],
      "execution_count": null,
      "outputs": [
        {
          "output_type": "stream",
          "text": [
            "4 1\n"
          ],
          "name": "stdout"
        }
      ]
    },
    {
      "cell_type": "code",
      "metadata": {
        "colab": {
          "base_uri": "https://localhost:8080/"
        },
        "id": "_dtfBAREdQZv",
        "outputId": "876ec288-71d9-4595-a776-b7992b1a4692"
      },
      "source": [
        "##form 모듈명 import* --> 모든함수 import\n",
        "from mycalc import *\n",
        "p = get_plus(2,2)\n",
        "m = get_minus(3,2)\n",
        "print(p,m)"
      ],
      "execution_count": null,
      "outputs": [
        {
          "output_type": "stream",
          "text": [
            "4 1\n"
          ],
          "name": "stdout"
        }
      ]
    },
    {
      "cell_type": "markdown",
      "metadata": {
        "id": "tKbfoLhLdxnP"
      },
      "source": [
        "##패키지 사용하기\n",
        "\n",
        "도트(.)를 사용하여 파이썬 모듈을 계층적으로 표현한다.\n",
        "\n",
        "import 패키지명.디렉토리명.모듈명 --> 패키지명.디렉토리명.모듈명.함수명()\n",
        "\n",
        "form 패키지명.디렉토리명 import 모듈명 --> 모듈명. 함수명()\n",
        "\n",
        "form 패키지명.디렉토리명.모듈명 import 함수명 --> 함수명()"
      ]
    },
    {
      "cell_type": "markdown",
      "metadata": {
        "id": "JlpE2qUnfRyd"
      },
      "source": [
        "##클래스와 객체 \n",
        "class --> object --> program \n",
        "\n",
        "클래스는 설계도 \n",
        "\n",
        "오브젝트는 클랙스를 가지고 객체를 만들었을 때 \n",
        "(객체값이 있는 경우, 함수, 변수도 들어있고)\n",
        "\n",
        "프로그램? \n",
        "\n"
      ]
    },
    {
      "cell_type": "code",
      "metadata": {
        "colab": {
          "base_uri": "https://localhost:8080/"
        },
        "id": "xlRiyA5jdgYy",
        "outputId": "959d0e84-244b-4317-f5c4-77358d90dd04"
      },
      "source": [
        "# 2대의 계산기가 필요한 경우\n",
        "result1 = 0\n",
        "result2 = 0\n",
        "\n",
        "def add1(num):\n",
        "    global result1\n",
        "    result1 += num\n",
        "    return result1\n",
        "\n",
        "def add2(num):\n",
        "    global result2\n",
        "    result2 += num\n",
        "    return result2\n",
        "\n",
        "print(add1(3))\n",
        "print(add1(4))\n",
        "print(add2(3))\n",
        "print(add2(7))"
      ],
      "execution_count": null,
      "outputs": [
        {
          "output_type": "stream",
          "text": [
            "3\n",
            "7\n",
            "3\n",
            "10\n"
          ],
          "name": "stdout"
        }
      ]
    },
    {
      "cell_type": "code",
      "metadata": {
        "colab": {
          "base_uri": "https://localhost:8080/"
        },
        "id": "g2Yk3MZhgbS9",
        "outputId": "eb075f70-6a99-4ebd-89f8-483fab3d6c94"
      },
      "source": [
        "# 계산기를 class로 정의 --> 다시 보기 \n",
        "class Calculator:\n",
        "    def __init__(self): # 초기값이 있어야 함. init\n",
        "        self.result = 0 ##클래스 = (혹시 몰라 항상 번거롭게 적어줬던) 함수 초기값 + 함수 \n",
        "\n",
        "\n",
        "    def add(self, num):\n",
        "        self.result += num\n",
        "        return self.result\n",
        "\n",
        "cal1 = Calculator() # 클래스 할당을 해줌 \n",
        "cal2 = Calculator()\n",
        "cal3 = Calculator() # 임의로 계산기를 하나 더 늘릴 수 있음\n",
        "\n",
        "print(cal1.add(3)) #cal1의 함수 cal2의 함수이런식으로 사용가능 \n",
        "print(cal1.add(4))\n",
        "print(cal2.add(3))\n",
        "print(cal2.add(7))\n",
        "print(cal3.add(3))\n",
        "print(cal3.add(3))\n"
      ],
      "execution_count": null,
      "outputs": [
        {
          "output_type": "stream",
          "text": [
            "3\n",
            "7\n",
            "3\n",
            "10\n",
            "3\n",
            "6\n"
          ],
          "name": "stdout"
        }
      ]
    },
    {
      "cell_type": "code",
      "metadata": {
        "colab": {
          "base_uri": "https://localhost:8080/"
        },
        "id": "Maob-YMHgrwa",
        "outputId": "b06e7729-54b0-4ec8-8dcb-fdbe2071bf53"
      },
      "source": [
        "# 계산기를 class로 정의\n",
        "class Calculator:\n",
        "    def __init__(self):\n",
        "        self.result = 0\n",
        "\n",
        "    def add(self, num):\n",
        "        self.result += num\n",
        "        return self.result\n",
        "    def sub(self, num):\n",
        "        self.result -= num\n",
        "        return self.result\n",
        "\n",
        "cal1 = Calculator()\n",
        "cal2 = Calculator()\n",
        "cal3 = Calculator()\n",
        "\n",
        "print(cal1.add(3))\n",
        "print(cal2.add(4))\n",
        "print(cal3.sub(3))\n",
        "print(cal3.sub(3))"
      ],
      "execution_count": null,
      "outputs": [
        {
          "output_type": "stream",
          "text": [
            "3\n",
            "4\n",
            "-3\n",
            "-6\n"
          ],
          "name": "stdout"
        }
      ]
    },
    {
      "cell_type": "markdown",
      "metadata": {
        "id": "ofHLALGtjrUg"
      },
      "source": [
        "##클래스 \n",
        "클래스와 객체\n",
        "\n",
        "e.g. 과자를 만드는 과자 틀과(class) 그것을 사용해 만든 과자(object)\n",
        "\n"
      ]
    },
    {
      "cell_type": "markdown",
      "metadata": {
        "id": "72dvYs8WkHY5"
      },
      "source": [
        "#속성과 메소드\n",
        "\n",
        "객체(object) = 속성(attribut) + 기능(method)\n",
        "\n",
        "     = 변수(variable) + 함수(function)\n",
        "\n",
        "\n",
        "\n",
        "객체의 속성은 객체 안의 변수에 저장된다. 객체의 이름 다음에 "
      ]
    },
    {
      "cell_type": "code",
      "metadata": {
        "id": "mDhvOOShhnru"
      },
      "source": [
        "# 자동차 객체의 틀\n",
        "class Car:\n",
        "    brand =  '' ## 초기값을 반드시 주는건 아님..... 따로 init를 주지 않더라도 ''라는 값을 줌 초기값 대체하는 값\n",
        "    model = ''\n",
        "    color = ''\n",
        "    def turn_on(self):\n",
        "        print('시동을 겁니다')\n",
        "    def turn_off(self):\n",
        "        print('시동을 끕니다')\n",
        "    def drive(self):\n",
        "        print('주행중입니다')"
      ],
      "execution_count": null,
      "outputs": []
    },
    {
      "cell_type": "code",
      "metadata": {
        "id": "q8LG7g0zjV5x"
      },
      "source": [
        "# 두대의 자동차 객체 생성\n",
        "car1 = Car()\n",
        "car2 = Car()\n",
        "\n",
        "#car1 - 흰색 BMT 3 \n",
        "car1.brand = 'BMW'  ##속성값을 줌 \n",
        "car1.model = '3'\n",
        "car1.color = 'white'\n",
        "#car2 - 블랙 audi A5 \n",
        "car2.brand = 'audi'\n",
        "car2.model = 'A5'\n",
        "car2.color = 'black'\n"
      ],
      "execution_count": null,
      "outputs": []
    },
    {
      "cell_type": "code",
      "metadata": {
        "colab": {
          "base_uri": "https://localhost:8080/"
        },
        "id": "RbI4HyN-lYnN",
        "outputId": "46080eac-e511-4180-c5cb-b2319f0ff4cf"
      },
      "source": [
        "car1.turn_on()\n",
        "car1.turn_off()\n",
        "car2.turn_on()"
      ],
      "execution_count": null,
      "outputs": [
        {
          "output_type": "stream",
          "text": [
            "시동을 겁니다\n",
            "시동을 끕니다\n",
            "시동을 겁니다\n"
          ],
          "name": "stdout"
        }
      ]
    },
    {
      "cell_type": "markdown",
      "metadata": {
        "id": "4vKHOuv2lwZC"
      },
      "source": [
        "##객체를 생성시 속성 초기화"
      ]
    },
    {
      "cell_type": "code",
      "metadata": {
        "id": "MSO8ec5OllLB"
      },
      "source": [
        "class Car:\n",
        "    def __init__(self,brand,model,color):\n",
        "        self.brand = brand\n",
        "        self.model = model\n",
        "        self.color = color\n",
        "        print(brand,model,color,'생성')\n",
        "\n",
        "    def turn_on(self):\n",
        "        print('시동을 겁니다')\n",
        "    def turn_off(self):\n",
        "        print('시동을 끕니다')\n",
        "    def drive(self):\n",
        "        print('주행중입니다')"
      ],
      "execution_count": null,
      "outputs": []
    },
    {
      "cell_type": "code",
      "metadata": {
        "colab": {
          "base_uri": "https://localhost:8080/"
        },
        "id": "mi3EHS-El0kK",
        "outputId": "5408c004-1752-4da2-a7df-394cd0f0ec90"
      },
      "source": [
        "car1 = Car('BMT','3','white')\n",
        "car2 = Car('audi','A5','black')"
      ],
      "execution_count": null,
      "outputs": [
        {
          "output_type": "stream",
          "text": [
            "BMT 3 white 생성\n",
            "audi A5 black 생성\n"
          ],
          "name": "stdout"
        }
      ]
    },
    {
      "cell_type": "markdown",
      "metadata": {
        "id": "TbdvjzyZmKaY"
      },
      "source": [
        "##매소드에서 속성 사용하기 "
      ]
    },
    {
      "cell_type": "code",
      "metadata": {
        "id": "F5jhYr-ul5rf"
      },
      "source": [
        "class Car:\n",
        "    def __init__(self,brand,model,color):\n",
        "        self.brand = brand\n",
        "        self.model = model\n",
        "        self.color = color\n",
        "        print(brand,model,color,'생성')\n",
        "\n",
        "    def turn_on(self):\n",
        "        print(f'{self.brand} {self.model} 시동을 겁니다')\n",
        "    def turn_off(self):\n",
        "        print(f'{self.brand} {self.model} 시동을 끕니다')\n",
        "    def drive(self):\n",
        "        print(f'{self.brand} {self.model} 주행중입니다')\n"
      ],
      "execution_count": null,
      "outputs": []
    },
    {
      "cell_type": "code",
      "metadata": {
        "colab": {
          "base_uri": "https://localhost:8080/"
        },
        "id": "Gve-DyZ0mQTQ",
        "outputId": "b6c738d8-94d6-4343-ec11-59fe5c75b5a7"
      },
      "source": [
        "car1 = Car('BMw','3','white')\n",
        "car2 = Car('audi','A5','black')\n",
        "\n",
        "# car1,car2 기능 수행\n",
        "car1.turn_on()\n",
        "car1.drive()\n",
        "car1.turn_off()\n",
        "\n",
        "car2.turn_on()\n",
        "car2.drive()\n",
        "car2.turn_off()\n"
      ],
      "execution_count": null,
      "outputs": [
        {
          "output_type": "stream",
          "text": [
            "BMT 3 white 생성\n",
            "audi A5 black 생성\n",
            "BMT 3 시동을 겁니다\n",
            "BMT 3 주행중입니다\n",
            "BMT 3 시동을 끕니다\n",
            "audi A5 시동을 겁니다\n",
            "audi A5 주행중입니다\n",
            "audi A5 시동을 끕니다\n"
          ],
          "name": "stdout"
        }
      ]
    },
    {
      "cell_type": "code",
      "metadata": {
        "colab": {
          "base_uri": "https://localhost:8080/",
          "height": 377
        },
        "id": "l1jVWwxJmToj",
        "outputId": "c87c9eda-6266-42d7-8cfd-9a85a9b6e8e5"
      },
      "source": [
        "class Person:\n",
        "    def __init__(self,name,age,address):\n",
        "        self.hello = '안녕하세요'\n",
        "        self.age =age\n",
        "        self.address = address\n",
        "\n",
        "    def greeting(self):\n",
        "        print(f'{self.hello} 저는 {self.name} 입니다')\n",
        "p1 = Person('홍길동',20,'한양')\n",
        "p1.greeting()\n",
        "print('이름: ',p1.name)\n",
        "print('나이: ',p1.age)\n",
        "print('주소: ',p1.address)\n"
      ],
      "execution_count": null,
      "outputs": [
        {
          "output_type": "error",
          "ename": "AttributeError",
          "evalue": "ignored",
          "traceback": [
            "\u001b[0;31m---------------------------------------------------------------------------\u001b[0m",
            "\u001b[0;31mAttributeError\u001b[0m                            Traceback (most recent call last)",
            "\u001b[0;32m<ipython-input-53-0b1580d740e7>\u001b[0m in \u001b[0;36m<module>\u001b[0;34m()\u001b[0m\n\u001b[1;32m      8\u001b[0m         \u001b[0mprint\u001b[0m\u001b[0;34m(\u001b[0m\u001b[0;34mf'{self.hello} 저는 {self.name} 입니다'\u001b[0m\u001b[0;34m)\u001b[0m\u001b[0;34m\u001b[0m\u001b[0;34m\u001b[0m\u001b[0m\n\u001b[1;32m      9\u001b[0m \u001b[0mp1\u001b[0m \u001b[0;34m=\u001b[0m \u001b[0mPerson\u001b[0m\u001b[0;34m(\u001b[0m\u001b[0;34m'홍길동'\u001b[0m\u001b[0;34m,\u001b[0m\u001b[0;36m20\u001b[0m\u001b[0;34m,\u001b[0m\u001b[0;34m'한양'\u001b[0m\u001b[0;34m)\u001b[0m\u001b[0;34m\u001b[0m\u001b[0;34m\u001b[0m\u001b[0m\n\u001b[0;32m---> 10\u001b[0;31m \u001b[0mp1\u001b[0m\u001b[0;34m.\u001b[0m\u001b[0mgreeting\u001b[0m\u001b[0;34m(\u001b[0m\u001b[0;34m)\u001b[0m\u001b[0;34m\u001b[0m\u001b[0;34m\u001b[0m\u001b[0m\n\u001b[0m\u001b[1;32m     11\u001b[0m \u001b[0mprint\u001b[0m\u001b[0;34m(\u001b[0m\u001b[0;34m'이름: '\u001b[0m\u001b[0;34m,\u001b[0m\u001b[0mp1\u001b[0m\u001b[0;34m.\u001b[0m\u001b[0mname\u001b[0m\u001b[0;34m)\u001b[0m\u001b[0;34m\u001b[0m\u001b[0;34m\u001b[0m\u001b[0m\n\u001b[1;32m     12\u001b[0m \u001b[0mprint\u001b[0m\u001b[0;34m(\u001b[0m\u001b[0;34m'나이: '\u001b[0m\u001b[0;34m,\u001b[0m\u001b[0mp1\u001b[0m\u001b[0;34m.\u001b[0m\u001b[0mage\u001b[0m\u001b[0;34m)\u001b[0m\u001b[0;34m\u001b[0m\u001b[0;34m\u001b[0m\u001b[0m\n",
            "\u001b[0;32m<ipython-input-53-0b1580d740e7>\u001b[0m in \u001b[0;36mgreeting\u001b[0;34m(self)\u001b[0m\n\u001b[1;32m      6\u001b[0m \u001b[0;34m\u001b[0m\u001b[0m\n\u001b[1;32m      7\u001b[0m     \u001b[0;32mdef\u001b[0m \u001b[0mgreeting\u001b[0m\u001b[0;34m(\u001b[0m\u001b[0mself\u001b[0m\u001b[0;34m)\u001b[0m\u001b[0;34m:\u001b[0m\u001b[0;34m\u001b[0m\u001b[0;34m\u001b[0m\u001b[0m\n\u001b[0;32m----> 8\u001b[0;31m         \u001b[0mprint\u001b[0m\u001b[0;34m(\u001b[0m\u001b[0;34mf'{self.hello} 저는 {self.name} 입니다'\u001b[0m\u001b[0;34m)\u001b[0m\u001b[0;34m\u001b[0m\u001b[0;34m\u001b[0m\u001b[0m\n\u001b[0m\u001b[1;32m      9\u001b[0m \u001b[0mp1\u001b[0m \u001b[0;34m=\u001b[0m \u001b[0mPerson\u001b[0m\u001b[0;34m(\u001b[0m\u001b[0;34m'홍길동'\u001b[0m\u001b[0;34m,\u001b[0m\u001b[0;36m20\u001b[0m\u001b[0;34m,\u001b[0m\u001b[0;34m'한양'\u001b[0m\u001b[0;34m)\u001b[0m\u001b[0;34m\u001b[0m\u001b[0;34m\u001b[0m\u001b[0m\n\u001b[1;32m     10\u001b[0m \u001b[0mp1\u001b[0m\u001b[0;34m.\u001b[0m\u001b[0mgreeting\u001b[0m\u001b[0;34m(\u001b[0m\u001b[0;34m)\u001b[0m\u001b[0;34m\u001b[0m\u001b[0;34m\u001b[0m\u001b[0m\n",
            "\u001b[0;31mAttributeError\u001b[0m: 'Person' object has no attribute 'name'"
          ]
        }
      ]
    },
    {
      "cell_type": "code",
      "metadata": {
        "colab": {
          "base_uri": "https://localhost:8080/"
        },
        "id": "G9VUhuIlp8Ox",
        "outputId": "f6e9c826-9681-4c86-8f3e-833b414844be"
      },
      "source": [
        "class Person:\n",
        "  def __init__(self,name,age,address):\n",
        "    self.hello = '안녕하세요'\n",
        "    self.name = name\n",
        "    self.age = age\n",
        "    self.address = address\n",
        "\n",
        "  def greeting(self):\n",
        "      print(f'{self.hello} 저는 {self.name} 입니다')\n",
        "\n",
        "p1 = Person('홍길동',20,'서울')\n",
        "p2 = Person('에스파',20,'서울')\n",
        "p1.greeting()\n",
        "p2.greeting()\n",
        "print('이름: ',p1.name)\n",
        "print('나이: ',p1.age)\n",
        "print('주소: ',p1.address)\n"
      ],
      "execution_count": null,
      "outputs": [
        {
          "output_type": "stream",
          "text": [
            "안녕하세요 저는 홍길동 입니다\n",
            "안녕하세요 저는 에스파 입니다\n",
            "이름:  홍길동\n",
            "나이:  20\n",
            "주소:  서울\n"
          ],
          "name": "stdout"
        }
      ]
    },
    {
      "cell_type": "code",
      "metadata": {
        "colab": {
          "base_uri": "https://localhost:8080/",
          "height": 377
        },
        "id": "VcApScmIqFYY",
        "outputId": "63f969a3-312d-4c0a-ac33-60227968ac65"
      },
      "source": [
        "#__init__\n",
        "class Book:\n",
        "    def __init__(self,bookNmame):\n",
        "        self.name= bookNmame\n",
        "        print(\"객체가 생성되었습니다. 책이름은\" +bookName+ \"입니다.\")\n",
        "    def __del__(self):  print(self.name + \" 객체가 소멸합니다.\")\n",
        "\n",
        "\n",
        "book1 = Book(\"DT 파이썬\")\n",
        "del book1\n",
        "\n"
      ],
      "execution_count": null,
      "outputs": [
        {
          "output_type": "error",
          "ename": "NameError",
          "evalue": "ignored",
          "traceback": [
            "\u001b[0;31m---------------------------------------------------------------------------\u001b[0m",
            "\u001b[0;31mNameError\u001b[0m                                 Traceback (most recent call last)",
            "\u001b[0;32m<ipython-input-59-568556d9354c>\u001b[0m in \u001b[0;36m<module>\u001b[0;34m()\u001b[0m\n\u001b[1;32m      7\u001b[0m \u001b[0;34m\u001b[0m\u001b[0m\n\u001b[1;32m      8\u001b[0m \u001b[0;34m\u001b[0m\u001b[0m\n\u001b[0;32m----> 9\u001b[0;31m \u001b[0mbook1\u001b[0m \u001b[0;34m=\u001b[0m \u001b[0mBook\u001b[0m\u001b[0;34m(\u001b[0m\u001b[0;34m\"DT 파이썬\"\u001b[0m\u001b[0;34m)\u001b[0m\u001b[0;34m\u001b[0m\u001b[0;34m\u001b[0m\u001b[0m\n\u001b[0m\u001b[1;32m     10\u001b[0m \u001b[0;32mdel\u001b[0m \u001b[0mbook1\u001b[0m\u001b[0;34m\u001b[0m\u001b[0;34m\u001b[0m\u001b[0m\n\u001b[1;32m     11\u001b[0m \u001b[0;34m\u001b[0m\u001b[0m\n",
            "\u001b[0;32m<ipython-input-59-568556d9354c>\u001b[0m in \u001b[0;36m__init__\u001b[0;34m(self, bookNmame)\u001b[0m\n\u001b[1;32m      3\u001b[0m     \u001b[0;32mdef\u001b[0m \u001b[0m__init__\u001b[0m\u001b[0;34m(\u001b[0m\u001b[0mself\u001b[0m\u001b[0;34m,\u001b[0m\u001b[0mbookNmame\u001b[0m\u001b[0;34m)\u001b[0m\u001b[0;34m:\u001b[0m\u001b[0;34m\u001b[0m\u001b[0;34m\u001b[0m\u001b[0m\n\u001b[1;32m      4\u001b[0m         \u001b[0mself\u001b[0m\u001b[0;34m.\u001b[0m\u001b[0mname\u001b[0m\u001b[0;34m=\u001b[0m \u001b[0mbookNmame\u001b[0m\u001b[0;34m\u001b[0m\u001b[0;34m\u001b[0m\u001b[0m\n\u001b[0;32m----> 5\u001b[0;31m         \u001b[0mprint\u001b[0m\u001b[0;34m(\u001b[0m\u001b[0;34m\"객체가 생성되었습니다. 책이름은\"\u001b[0m \u001b[0;34m+\u001b[0m\u001b[0mbookName\u001b[0m\u001b[0;34m+\u001b[0m \u001b[0;34m\"입니다.\"\u001b[0m\u001b[0;34m)\u001b[0m\u001b[0;34m\u001b[0m\u001b[0;34m\u001b[0m\u001b[0m\n\u001b[0m\u001b[1;32m      6\u001b[0m     \u001b[0;32mdef\u001b[0m \u001b[0m__del__\u001b[0m\u001b[0;34m(\u001b[0m\u001b[0mself\u001b[0m\u001b[0;34m)\u001b[0m\u001b[0;34m:\u001b[0m  \u001b[0mprint\u001b[0m\u001b[0;34m(\u001b[0m\u001b[0mself\u001b[0m\u001b[0;34m.\u001b[0m\u001b[0mname\u001b[0m \u001b[0;34m+\u001b[0m \u001b[0;34m\" 객체가 소멸합니다.\"\u001b[0m\u001b[0;34m)\u001b[0m\u001b[0;34m\u001b[0m\u001b[0;34m\u001b[0m\u001b[0m\n\u001b[1;32m      7\u001b[0m \u001b[0;34m\u001b[0m\u001b[0m\n",
            "\u001b[0;31mNameError\u001b[0m: name 'bookName' is not defined"
          ]
        }
      ]
    },
    {
      "cell_type": "code",
      "metadata": {
        "colab": {
          "base_uri": "https://localhost:8080/"
        },
        "id": "qCSwat8LrTHh",
        "outputId": "06cb06ad-1b49-4dfa-cf31-05d1397de21d"
      },
      "source": [
        "class Book: \n",
        "    def __init__(self, bookName):  ## 클래스 내에서 정해지는 맨처음의 값을 붙여주는 약속\n",
        "        self.name = bookName \n",
        "        print(\"객체가 생성되었습니다. 책의 이름은 \" + bookName + \"입니다.\")\n",
        "    def __del__(self):##self는 스스로 값을 사용하는 \n",
        "        print(self.name + \" 객체가 소멸합니다.\")\n",
        "\n",
        "\n",
        "book1 = Book(\"DT 파이썬\")\n",
        "del book1\n"
      ],
      "execution_count": null,
      "outputs": [
        {
          "output_type": "stream",
          "text": [
            "객체가 생성되었습니다. 책의 이름은 DT 파이썬입니다.\n",
            "DT 파이썬 객체가 소멸합니다.\n"
          ],
          "name": "stdout"
        }
      ]
    },
    {
      "cell_type": "markdown",
      "metadata": {
        "id": "i4AYSidfrixa"
      },
      "source": [
        "__init__: 클래스의 객체가 만들어질 떄 자동호출. 객체가 갖게될 여러 성질을 정해줍니다. \n",
        "\n",
        "__(밑줄 두개)가 붙은 매서드: 파이썬이 자동으로 호출해주는 메서드\n",
        "\n",
        "스페셜 메서드 혹은 매식 메서드로 불림\n",
        "e.g. __del__메서드(객체 소멸시 호출)"
      ]
    },
    {
      "cell_type": "code",
      "metadata": {
        "id": "fvJzOGkfrdwM"
      },
      "source": [
        "##예제 나 한번 던지고 컴퓨터가 한번 던지고 해서 30까지 누가 먼저 도달하는지 \n",
        "# 프로그램 구성 \n",
        "import random\n",
        "# 초기 변수값 - 내 주사위 위치 ,컴퓨터 주사위 위치\n",
        "\n",
        "# 주사위말 함수 - 30까지 주사위 위치 표현\n",
        "\n",
        "# 시작시 출력화면 구성 - 게임 스타트\n",
        "\n",
        "while True:\n",
        "    input(\"Enter를 누르면 여러분의 말이 움직입니다\")\n",
        "    # 내 주사위수 계산 ,승패 체크\n",
        "    input(\"Enter를 누르면 컴퓨터의 말이 움직입니다\")\n",
        "    # 컴푸터 주사위 수 계산,승패 체크\n",
        "\n"
      ],
      "execution_count": null,
      "outputs": []
    },
    {
      "cell_type": "code",
      "metadata": {
        "colab": {
          "base_uri": "https://localhost:8080/"
        },
        "id": "6B2ffTqltXO3",
        "outputId": "26d9200a-29bc-4d35-ed93-069e84086b96"
      },
      "source": [
        "# step1 함수 구성 \n",
        "import random\n",
        "pl_pos = 1 # 내 위치\n",
        "com_pos = 1 # 컴퓨터 위치\n",
        "\n",
        "def board(): #pl_pos 는 전역 변수 \n",
        "    print(\"-\" * (pl_pos - 1) + \"Ｐ\" + \"-\" * (30 - pl_pos) + \"Goal\")\n",
        "    print(\"-\" * (com_pos - 1) + \"Ｃ\" + \"-\" * (30 - com_pos) + \"Goal\")\n",
        "\n",
        "board()\n",
        "print(\"주사위 게임, 스타트!\")"
      ],
      "execution_count": null,
      "outputs": [
        {
          "output_type": "stream",
          "text": [
            "Ｐ-----------------------------Goal\n",
            "Ｃ-----------------------------Goal\n",
            "주사위 게임, 스타트!\n"
          ],
          "name": "stdout"
        }
      ]
    },
    {
      "cell_type": "code",
      "metadata": {
        "colab": {
          "base_uri": "https://localhost:8080/",
          "height": 143
        },
        "id": "Hcvkfw_htpIZ",
        "outputId": "0f3d168d-c646-492f-8832-a391ee1b7768"
      },
      "source": [
        "import random\n",
        "pl_pos = 1\n",
        "com_pos = 1\n",
        "\n",
        "def board():\n",
        "    print(\"-\" * (pl_pos - 1) + \"Ｐ\" + \"-\" * (30 - pl_pos) + \"Goal\")\n",
        "    print(\"-\" * (com_pos - 1) + \"Ｃ\" + \"-\" * (30 - com_pos) + \"Goal\")\n",
        "\n",
        "board()\n",
        "print(\"주사위 게임, 스타트!\")\n",
        "while True:\n",
        "    input(\"Enter를 누르면 여러분의 말이 움직입니다\")\n",
        "    pl_pos = pl_pos + random.randint(1, 6)\n",
        "    if pl_pos > 30:\n",
        "        pl_pos = 30\n",
        "    board()\n",
        "    if pl_pos == 30:\n",
        "        print(\"당신이 승리했습니다！\")\n",
        "        break\n",
        "    input(\"Enter를 누르면 컴퓨터의 말이 움직입니다\")\n",
        "    com_pos = com_pos + random.randint(1, 6)\n",
        "    if com_pos > 30:\n",
        "        com_pos = 30\n",
        "    board()\n",
        "    if com_pos == 30:\n",
        "        print(\"컴퓨터가 승리했습니다!\")\n",
        "        break"
      ],
      "execution_count": null,
      "outputs": [
        {
          "output_type": "error",
          "ename": "IndentationError",
          "evalue": "ignored",
          "traceback": [
            "\u001b[0;36m  File \u001b[0;32m\"<ipython-input-1-e01b34739da3>\"\u001b[0;36m, line \u001b[0;32m27\u001b[0m\n\u001b[0;31m    break\u001b[0m\n\u001b[0m    ^\u001b[0m\n\u001b[0;31mIndentationError\u001b[0m\u001b[0;31m:\u001b[0m unexpected indent\n"
          ]
        }
      ]
    },
    {
      "cell_type": "code",
      "metadata": {
        "colab": {
          "base_uri": "https://localhost:8080/",
          "height": 941
        },
        "id": "RSHSilzcuNJW",
        "outputId": "8acb235e-43d1-42b2-9d9b-74ae7fee8a48"
      },
      "source": [
        "import random\n",
        "pl_pos = 1\n",
        "com_pos = 1\n",
        "\n",
        "def board():\n",
        "    print(\"-\" * (pl_pos - 1) + \"Ｐ\" + \"-\" * (30 - pl_pos) + \"Goal\")\n",
        "    print(\"-\" * (com_pos - 1) + \"Ｃ\" + \"-\" * (30 - com_pos) + \"Goal\")\n",
        "\n",
        "board()\n",
        "print(\"주사위 게임, 스타트!\")\n",
        "while True:\n",
        "    input(\"Enter를 누르면 여러분의 말이 움직입니다\")\n",
        "    r= random.randint(1,6)\n",
        "    if pl_pos % 2 == 0:\n",
        "        pl_pos = pl_pos + r\n",
        "    if pl_pos > 30:    \n",
        "        pl_pos = 30\n",
        "    board()\n",
        "    if pl_pos == 30:\n",
        "        print(\"당신이 승리했습니다！\")\n",
        "        break\n",
        "    input(\"Enter를 누르면 컴퓨터의 말이 움직입니다\")\n",
        "    if com_pos % 2==0:\n",
        "        com_pos = com_pos + r\n",
        "    if com_pos > 30:\n",
        "        com_pos = 30\n",
        "    board()\n",
        "    if com_pos == 30:\n",
        "        print(\"컴퓨터가 승리했습니다!\")\n",
        "        break\n"
      ],
      "execution_count": null,
      "outputs": [
        {
          "output_type": "stream",
          "text": [
            "Ｐ-----------------------------Goal\n",
            "Ｃ-----------------------------Goal\n",
            "주사위 게임, 스타트!\n",
            "Enter를 누르면 여러분의 말이 움직입니다\n",
            "Ｐ-----------------------------Goal\n",
            "Ｃ-----------------------------Goal\n",
            "Enter를 누르면 컴퓨터의 말이 움직입니다\n",
            "Ｐ-----------------------------Goal\n",
            "Ｃ-----------------------------Goal\n",
            "Enter를 누르면 여러분의 말이 움직입니다\n",
            "Ｐ-----------------------------Goal\n",
            "Ｃ-----------------------------Goal\n",
            "Enter를 누르면 컴퓨터의 말이 움직입니다\n",
            "Ｐ-----------------------------Goal\n",
            "Ｃ-----------------------------Goal\n",
            "Enter를 누르면 여러분의 말이 움직입니다\n",
            "Ｐ-----------------------------Goal\n",
            "Ｃ-----------------------------Goal\n",
            "Enter를 누르면 컴퓨터의 말이 움직입니다\n",
            "Ｐ-----------------------------Goal\n",
            "Ｃ-----------------------------Goal\n"
          ],
          "name": "stdout"
        },
        {
          "output_type": "error",
          "ename": "KeyboardInterrupt",
          "evalue": "ignored",
          "traceback": [
            "\u001b[0;31m---------------------------------------------------------------------------\u001b[0m",
            "\u001b[0;31mKeyboardInterrupt\u001b[0m                         Traceback (most recent call last)",
            "\u001b[0;32m/usr/local/lib/python3.7/dist-packages/ipykernel/kernelbase.py\u001b[0m in \u001b[0;36m_input_request\u001b[0;34m(self, prompt, ident, parent, password)\u001b[0m\n\u001b[1;32m    728\u001b[0m             \u001b[0;32mtry\u001b[0m\u001b[0;34m:\u001b[0m\u001b[0;34m\u001b[0m\u001b[0;34m\u001b[0m\u001b[0m\n\u001b[0;32m--> 729\u001b[0;31m                 \u001b[0mident\u001b[0m\u001b[0;34m,\u001b[0m \u001b[0mreply\u001b[0m \u001b[0;34m=\u001b[0m \u001b[0mself\u001b[0m\u001b[0;34m.\u001b[0m\u001b[0msession\u001b[0m\u001b[0;34m.\u001b[0m\u001b[0mrecv\u001b[0m\u001b[0;34m(\u001b[0m\u001b[0mself\u001b[0m\u001b[0;34m.\u001b[0m\u001b[0mstdin_socket\u001b[0m\u001b[0;34m,\u001b[0m \u001b[0;36m0\u001b[0m\u001b[0;34m)\u001b[0m\u001b[0;34m\u001b[0m\u001b[0;34m\u001b[0m\u001b[0m\n\u001b[0m\u001b[1;32m    730\u001b[0m             \u001b[0;32mexcept\u001b[0m \u001b[0mException\u001b[0m\u001b[0;34m:\u001b[0m\u001b[0;34m\u001b[0m\u001b[0;34m\u001b[0m\u001b[0m\n",
            "\u001b[0;32m/usr/local/lib/python3.7/dist-packages/jupyter_client/session.py\u001b[0m in \u001b[0;36mrecv\u001b[0;34m(self, socket, mode, content, copy)\u001b[0m\n\u001b[1;32m    802\u001b[0m         \u001b[0;32mtry\u001b[0m\u001b[0;34m:\u001b[0m\u001b[0;34m\u001b[0m\u001b[0;34m\u001b[0m\u001b[0m\n\u001b[0;32m--> 803\u001b[0;31m             \u001b[0mmsg_list\u001b[0m \u001b[0;34m=\u001b[0m \u001b[0msocket\u001b[0m\u001b[0;34m.\u001b[0m\u001b[0mrecv_multipart\u001b[0m\u001b[0;34m(\u001b[0m\u001b[0mmode\u001b[0m\u001b[0;34m,\u001b[0m \u001b[0mcopy\u001b[0m\u001b[0;34m=\u001b[0m\u001b[0mcopy\u001b[0m\u001b[0;34m)\u001b[0m\u001b[0;34m\u001b[0m\u001b[0;34m\u001b[0m\u001b[0m\n\u001b[0m\u001b[1;32m    804\u001b[0m         \u001b[0;32mexcept\u001b[0m \u001b[0mzmq\u001b[0m\u001b[0;34m.\u001b[0m\u001b[0mZMQError\u001b[0m \u001b[0;32mas\u001b[0m \u001b[0me\u001b[0m\u001b[0;34m:\u001b[0m\u001b[0;34m\u001b[0m\u001b[0;34m\u001b[0m\u001b[0m\n",
            "\u001b[0;32m/usr/local/lib/python3.7/dist-packages/zmq/sugar/socket.py\u001b[0m in \u001b[0;36mrecv_multipart\u001b[0;34m(self, flags, copy, track)\u001b[0m\n\u001b[1;32m    582\u001b[0m         \"\"\"\n\u001b[0;32m--> 583\u001b[0;31m         \u001b[0mparts\u001b[0m \u001b[0;34m=\u001b[0m \u001b[0;34m[\u001b[0m\u001b[0mself\u001b[0m\u001b[0;34m.\u001b[0m\u001b[0mrecv\u001b[0m\u001b[0;34m(\u001b[0m\u001b[0mflags\u001b[0m\u001b[0;34m,\u001b[0m \u001b[0mcopy\u001b[0m\u001b[0;34m=\u001b[0m\u001b[0mcopy\u001b[0m\u001b[0;34m,\u001b[0m \u001b[0mtrack\u001b[0m\u001b[0;34m=\u001b[0m\u001b[0mtrack\u001b[0m\u001b[0;34m)\u001b[0m\u001b[0;34m]\u001b[0m\u001b[0;34m\u001b[0m\u001b[0;34m\u001b[0m\u001b[0m\n\u001b[0m\u001b[1;32m    584\u001b[0m         \u001b[0;31m# have first part already, only loop while more to receive\u001b[0m\u001b[0;34m\u001b[0m\u001b[0;34m\u001b[0m\u001b[0;34m\u001b[0m\u001b[0m\n",
            "\u001b[0;32mzmq/backend/cython/socket.pyx\u001b[0m in \u001b[0;36mzmq.backend.cython.socket.Socket.recv\u001b[0;34m()\u001b[0m\n",
            "\u001b[0;32mzmq/backend/cython/socket.pyx\u001b[0m in \u001b[0;36mzmq.backend.cython.socket.Socket.recv\u001b[0;34m()\u001b[0m\n",
            "\u001b[0;32mzmq/backend/cython/socket.pyx\u001b[0m in \u001b[0;36mzmq.backend.cython.socket._recv_copy\u001b[0;34m()\u001b[0m\n",
            "\u001b[0;32m/usr/local/lib/python3.7/dist-packages/zmq/backend/cython/checkrc.pxd\u001b[0m in \u001b[0;36mzmq.backend.cython.checkrc._check_rc\u001b[0;34m()\u001b[0m\n",
            "\u001b[0;31mKeyboardInterrupt\u001b[0m: ",
            "\nDuring handling of the above exception, another exception occurred:\n",
            "\u001b[0;31mKeyboardInterrupt\u001b[0m                         Traceback (most recent call last)",
            "\u001b[0;32m<ipython-input-8-c9101a536e64>\u001b[0m in \u001b[0;36m<module>\u001b[0;34m()\u001b[0m\n\u001b[1;32m     10\u001b[0m \u001b[0mprint\u001b[0m\u001b[0;34m(\u001b[0m\u001b[0;34m\"주사위 게임, 스타트!\"\u001b[0m\u001b[0;34m)\u001b[0m\u001b[0;34m\u001b[0m\u001b[0;34m\u001b[0m\u001b[0m\n\u001b[1;32m     11\u001b[0m \u001b[0;32mwhile\u001b[0m \u001b[0;32mTrue\u001b[0m\u001b[0;34m:\u001b[0m\u001b[0;34m\u001b[0m\u001b[0;34m\u001b[0m\u001b[0m\n\u001b[0;32m---> 12\u001b[0;31m     \u001b[0minput\u001b[0m\u001b[0;34m(\u001b[0m\u001b[0;34m\"Enter를 누르면 여러분의 말이 움직입니다\"\u001b[0m\u001b[0;34m)\u001b[0m\u001b[0;34m\u001b[0m\u001b[0;34m\u001b[0m\u001b[0m\n\u001b[0m\u001b[1;32m     13\u001b[0m     \u001b[0mr\u001b[0m\u001b[0;34m=\u001b[0m \u001b[0mrandom\u001b[0m\u001b[0;34m.\u001b[0m\u001b[0mrandint\u001b[0m\u001b[0;34m(\u001b[0m\u001b[0;36m1\u001b[0m\u001b[0;34m,\u001b[0m\u001b[0;36m6\u001b[0m\u001b[0;34m)\u001b[0m\u001b[0;34m\u001b[0m\u001b[0;34m\u001b[0m\u001b[0m\n\u001b[1;32m     14\u001b[0m     \u001b[0;32mif\u001b[0m \u001b[0mpl_pos\u001b[0m \u001b[0;34m%\u001b[0m \u001b[0;36m2\u001b[0m \u001b[0;34m==\u001b[0m \u001b[0;36m0\u001b[0m\u001b[0;34m:\u001b[0m\u001b[0;34m\u001b[0m\u001b[0;34m\u001b[0m\u001b[0m\n",
            "\u001b[0;32m/usr/local/lib/python3.7/dist-packages/ipykernel/kernelbase.py\u001b[0m in \u001b[0;36mraw_input\u001b[0;34m(self, prompt)\u001b[0m\n\u001b[1;32m    702\u001b[0m             \u001b[0mself\u001b[0m\u001b[0;34m.\u001b[0m\u001b[0m_parent_ident\u001b[0m\u001b[0;34m,\u001b[0m\u001b[0;34m\u001b[0m\u001b[0;34m\u001b[0m\u001b[0m\n\u001b[1;32m    703\u001b[0m             \u001b[0mself\u001b[0m\u001b[0;34m.\u001b[0m\u001b[0m_parent_header\u001b[0m\u001b[0;34m,\u001b[0m\u001b[0;34m\u001b[0m\u001b[0;34m\u001b[0m\u001b[0m\n\u001b[0;32m--> 704\u001b[0;31m             \u001b[0mpassword\u001b[0m\u001b[0;34m=\u001b[0m\u001b[0;32mFalse\u001b[0m\u001b[0;34m,\u001b[0m\u001b[0;34m\u001b[0m\u001b[0;34m\u001b[0m\u001b[0m\n\u001b[0m\u001b[1;32m    705\u001b[0m         )\n\u001b[1;32m    706\u001b[0m \u001b[0;34m\u001b[0m\u001b[0m\n",
            "\u001b[0;32m/usr/local/lib/python3.7/dist-packages/ipykernel/kernelbase.py\u001b[0m in \u001b[0;36m_input_request\u001b[0;34m(self, prompt, ident, parent, password)\u001b[0m\n\u001b[1;32m    732\u001b[0m             \u001b[0;32mexcept\u001b[0m \u001b[0mKeyboardInterrupt\u001b[0m\u001b[0;34m:\u001b[0m\u001b[0;34m\u001b[0m\u001b[0;34m\u001b[0m\u001b[0m\n\u001b[1;32m    733\u001b[0m                 \u001b[0;31m# re-raise KeyboardInterrupt, to truncate traceback\u001b[0m\u001b[0;34m\u001b[0m\u001b[0;34m\u001b[0m\u001b[0;34m\u001b[0m\u001b[0m\n\u001b[0;32m--> 734\u001b[0;31m                 \u001b[0;32mraise\u001b[0m \u001b[0mKeyboardInterrupt\u001b[0m\u001b[0;34m\u001b[0m\u001b[0;34m\u001b[0m\u001b[0m\n\u001b[0m\u001b[1;32m    735\u001b[0m             \u001b[0;32melse\u001b[0m\u001b[0;34m:\u001b[0m\u001b[0;34m\u001b[0m\u001b[0;34m\u001b[0m\u001b[0m\n\u001b[1;32m    736\u001b[0m                 \u001b[0;32mbreak\u001b[0m\u001b[0;34m\u001b[0m\u001b[0;34m\u001b[0m\u001b[0m\n",
            "\u001b[0;31mKeyboardInterrupt\u001b[0m: "
          ]
        }
      ]
    },
    {
      "cell_type": "code",
      "metadata": {
        "colab": {
          "base_uri": "https://localhost:8080/"
        },
        "id": "prdwfU-eyx6R",
        "outputId": "d8d9802e-1e49-440a-d9ab-d061baab20ff"
      },
      "source": [
        "\n",
        "\n",
        "\n",
        "\n",
        "\n",
        "# 주사위 문제 응용\n",
        "\n",
        "# 주사위게임\n",
        "\n",
        "import random\n",
        "pl_pos = 1\n",
        "com_pos = 1\n",
        "\n",
        "def board():\n",
        "    print(\"-\" * (pl_pos - 1) + \"Ｐ\" + \"-\" * (30 - pl_pos) + \"Goal\")\n",
        "    print(\"-\" * (com_pos - 1) + \"Ｃ\" + \"-\" * (30 - com_pos) + \"Goal\")\n",
        "\n",
        "board()\n",
        "print(\"주사위 게임, 스타트!\")\n",
        "\n",
        "while True:\n",
        "    input(\"Enter를 누르면 여러분의 말이 움직입니다\")\n",
        "    r = random.randint(1, 6)\n",
        "    if r%2 == 0:\n",
        "        pl_pos = pl_pos + r\n",
        "        if pl_pos > 30:\n",
        "           pl_pos = 30\n",
        "        board()\n",
        "        if pl_pos == 30:\n",
        "            print(\"당신이 승리했습니다！\")\n",
        "    else: print(\"이동할 수 없습니다. 다시 던져 주세요.\")\n",
        "    board()\n",
        "    break\n",
        "    input(\"Enter를 누르면 컴퓨터의 말이 움직입니다\")\n",
        "    if r%2 == 0:\n",
        "        com_pos = com_pos + r\n",
        "        if com_pos > 30:\n",
        "           com_pos = 30\n",
        "        board()\n",
        "        if com_pos == 30:\n",
        "            print(\"컴퓨터가 승리했습니다！\")\n",
        "    else: print(\"이동할 수 없습니다. 다시 던져 주세요.\")\n",
        "    board()\n",
        "    break\n",
        "\n"
      ],
      "execution_count": null,
      "outputs": [
        {
          "output_type": "stream",
          "text": [
            "Ｐ-----------------------------Goal\n",
            "Ｃ-----------------------------Goal\n",
            "주사위 게임, 스타트!\n",
            "Enter를 누르면 여러분의 말이 움직입니다\n",
            "--Ｐ---------------------------Goal\n",
            "Ｃ-----------------------------Goal\n",
            "--Ｐ---------------------------Goal\n",
            "Ｃ-----------------------------Goal\n"
          ],
          "name": "stdout"
        }
      ]
    },
    {
      "cell_type": "code",
      "metadata": {
        "colab": {
          "base_uri": "https://localhost:8080/",
          "height": 143
        },
        "id": "p2mMVb7Ay2jv",
        "outputId": "29470c70-661f-418f-e8a3-7dcaf7bf09bf"
      },
      "source": [
        "import random\n",
        "pl_pos = 1\n",
        "com_pos = 1\n",
        "​def board():\n",
        "    print(\"-\" * (pl_pos - 1) + \"Ｐ\" + \"-\" * (30 - pl_pos) + \"Goal\")\n",
        "    print(\"-\" * (com_pos - 1) + \"Ｃ\" + \"-\" * (30 - com_pos) + \"Goal\")\n",
        "​\n",
        "board()\n",
        "print(\"주사위 게임, 스타트!\")\n",
        "while True:\n",
        "    input(\"Enter를 누르면 여러분의 말이 움직입니다\")\n",
        "    pl_dice_num = random.randint(1, 6)\n",
        "    if pl_dice_num % 2 ==0:\n",
        "        pl_pos += pl_dice_num\n",
        "    else:\n",
        "        print(\"주사위가 홀수라 이동하지 않습니다.\")\n",
        "​\n",
        "    if pl_pos > 30:\n",
        "        pl_pos = 30\n",
        "    board()\n",
        "    if pl_pos == 30:\n",
        "        print(\"당신이 승리했습니다！\")\n",
        "        break\n",
        "    \n",
        "    input(\"Enter를 누르면 컴퓨터의 말이 움직입니다\")\n",
        "    com_dice_num = random.randint(1, 6)\n",
        "    if com_dice_num % 2 ==0:\n",
        "        com_pos += com_dice_num\n",
        "    else:\n",
        "        print(\"주사위가 홀수라 이동하지 않습니다.\")\n",
        "        \n",
        "    if com_pos > 30:\n",
        "        com_pos = 30\n",
        "    board()\n",
        "    if com_pos == 30:\n",
        "        print(\"컴퓨터가 승리했습니다!\")\n",
        "        break\n"
      ],
      "execution_count": null,
      "outputs": [
        {
          "output_type": "error",
          "ename": "SyntaxError",
          "evalue": "ignored",
          "traceback": [
            "\u001b[0;36m  File \u001b[0;32m\"<ipython-input-10-2e8ac31ad883>\"\u001b[0;36m, line \u001b[0;32m4\u001b[0m\n\u001b[0;31m    ​def board():\u001b[0m\n\u001b[0m       ^\u001b[0m\n\u001b[0;31mSyntaxError\u001b[0m\u001b[0;31m:\u001b[0m invalid character in identifier\n"
          ]
        }
      ]
    },
    {
      "cell_type": "code",
      "metadata": {
        "id": "a1DjHDp-1XrM"
      },
      "source": [
        ""
      ],
      "execution_count": null,
      "outputs": []
    }
  ]
}