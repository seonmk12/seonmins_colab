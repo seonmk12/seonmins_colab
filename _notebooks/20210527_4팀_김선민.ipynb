{
  "nbformat": 4,
  "nbformat_minor": 0,
  "metadata": {
    "colab": {
      "name": "20210527_4팀_김선민.ipynb",
      "provenance": [],
      "collapsed_sections": [],
      "authorship_tag": "ABX9TyMwBeaqn8fLBm+WD9lkCdnM",
      "include_colab_link": true
    },
    "kernelspec": {
      "name": "python3",
      "display_name": "Python 3"
    },
    "language_info": {
      "name": "python"
    }
  },
  "cells": [
    {
      "cell_type": "markdown",
      "metadata": {
        "id": "view-in-github",
        "colab_type": "text"
      },
      "source": [
        "<a href=\"https://colab.research.google.com/github/seonmk12/seonmins_colab/blob/master/_notebooks/20210527_4%ED%8C%80_%EA%B9%80%EC%84%A0%EB%AF%BC.ipynb\" target=\"_parent\"><img src=\"https://colab.research.google.com/assets/colab-badge.svg\" alt=\"Open In Colab\"/></a>"
      ]
    },
    {
      "cell_type": "code",
      "metadata": {
        "id": "eV0sVj31DsPK"
      },
      "source": [
        "a = input(\"첫번째 숫자를 입력하시오 : \")\n",
        "b = input(\"두번째 숫자를 입력하시오 : \")\n",
        "c = input(\"세번째 숫자를 입력하시오 : \")\n",
        "d = input(\"네번째 숫자를 입력하시오 : \")\n",
        "f = input(\"다섯번째 숫자를 입력하시오 : \")\n",
        "s = []\n",
        "s.append(int(a))\n",
        "s.append(int(b))\n",
        "s.append(int(c))\n",
        "s.append(int(d))\n",
        "s.append(int(f))\n",
        "print('합계:',sum(s))\n",
        "print('평균:',sum(s)/5)"
      ],
      "execution_count": null,
      "outputs": []
    },
    {
      "cell_type": "code",
      "metadata": {
        "colab": {
          "base_uri": "https://localhost:8080/"
        },
        "id": "gdorPc6oDAnr",
        "outputId": "2f5a1823-daec-49e0-ab49-218aa1652bfc"
      },
      "source": [
        "#사용자로부터 5개의 숫자를 받아 합계와 평균 구하기\n",
        "num_list=[]   #빈 리스트 생성(리스트의 초기값)\n",
        "for i in range(5): #i는 range의 하나씩 증가하는 값이 들어감 (5번 반복하는데만 i값을 사용)\n",
        "    number =int(input('숫자:')) #숫자 5개를 입력받아(input을 5개 따로 받아도 해도 됨-반복적으로 처리하는 것이라 for 문을 사용) 리스트에 추가\n",
        "    num_list.append(number) #input 받은 것을 리스트에 추가\n",
        "if len(num_list) != 0:\n",
        "    average = sum(num_list) / len(num_list) #리스트의 평균계산, len(num_list) ==> num_list의 원소가 총 몇개인지\n",
        "else:\n",
        "    average = 0\n",
        "print(f' 합계: {sum(num_list)}, 평균:{average}') #합계, 평균 출력"
      ],
      "execution_count": null,
      "outputs": [
        {
          "output_type": "stream",
          "text": [
            "숫자:1\n",
            "숫자:2\n",
            "숫자:3\n",
            "숫자:4\n",
            "숫자:5\n",
            " 합계: 15, 평균:3.0\n"
          ],
          "name": "stdout"
        }
      ]
    },
    {
      "cell_type": "code",
      "metadata": {
        "colab": {
          "base_uri": "https://localhost:8080/"
        },
        "id": "4exPIasOFOFh",
        "outputId": "bdbe1e37-eb08-4c9d-b327-9fa8ad3fbfed"
      },
      "source": [
        "#예제 2 주사위 빈도 계산하기 \n",
        "#주사위를 10000번 던져서 나오는 값들의 빈도를 계산하는 프로그램을 작성해보자.\n",
        "#즉, 1,2,3,4,5,6 이 몇번 나오는지 계산한다.\n",
        "#난수 발생 함수와 리스트를 사용한다. \n",
        "import random\n",
        "dice = [0,0,0,0,0,0] #리스트 초기화 --> 기술적으로 모든 변수나 리스트는 사용하기 전에 초기화 하는 것이 좋음.\n",
        "for x in range(10000):#10000번 반복\n",
        "    number = random.randint(1,6) #1~6랜덤숫자 발생(마지막 숫자 발생)\n",
        "    if number == 1:\n",
        "        dice[0]+=1 #+=제자리 연산 기호 \n",
        "    elif number == 2: #elif '앞의 조건에 걸리지 않을 때는' 중첩 반복일때 사용. \n",
        "        dice[1]+=1\n",
        "    elif number == 3: \n",
        "        dice[2]+=1\n",
        "    elif number == 4:     #횟수 카운트 \n",
        "        dice[3]+=1\n",
        "    elif number == 5: \n",
        "        dice[4]+=1\n",
        "    elif number == 6: \n",
        "        dice[5]+=1\n",
        "print(dice)"
      ],
      "execution_count": null,
      "outputs": [
        {
          "output_type": "stream",
          "text": [
            "[1686, 1631, 1624, 1689, 1702, 1668]\n"
          ],
          "name": "stdout"
        }
      ]
    },
    {
      "cell_type": "code",
      "metadata": {
        "colab": {
          "base_uri": "https://localhost:8080/"
        },
        "id": "PsdAfTS4JyLO",
        "outputId": "d01071a7-e9a9-4c3a-a267-93e8fc81c476"
      },
      "source": [
        "import random # random 무작위 수를 발생시키는 모듈\n",
        "for x in range(10):                            # 10번 반복\n",
        "\n",
        "  test_num1 = random.randint(1,15)            # 1에서 15사이의 임의의 수를 test_num1에 넣는다\n",
        "  if test_num1 > 10:                          #if 뒤에 조건을 작성하고 마지막에 콜론 :을 붙입니다\n",
        "    print( test_num1 ,'은 10보다 큽니다')     #4칸 띄운 후 조건이 참일 때의 면령문을 작성\n",
        "  elif test_num1 == 10:                       # elif 여러개의 조건이 있을때 사용하고  마지막에 콜론:을 붙인다 \n",
        "     print( test_num1, '은 10과 같습니다')\n",
        "  else :                                      # 앞의 조건식이 모두 맞지 않을때\n",
        "    print( test_num1, '은 10보다 작습니다')"
      ],
      "execution_count": null,
      "outputs": [
        {
          "output_type": "stream",
          "text": [
            "9 은 10보다 작습니다\n",
            "6 은 10보다 작습니다\n",
            "13 은 10보다 큽니다\n",
            "12 은 10보다 큽니다\n",
            "4 은 10보다 작습니다\n",
            "6 은 10보다 작습니다\n",
            "13 은 10보다 큽니다\n",
            "1 은 10보다 작습니다\n",
            "1 은 10보다 작습니다\n",
            "14 은 10보다 큽니다\n"
          ],
          "name": "stdout"
        }
      ]
    },
    {
      "cell_type": "code",
      "metadata": {
        "colab": {
          "base_uri": "https://localhost:8080/"
        },
        "id": "f7TsvczdLuDG",
        "outputId": "4636b220-6340-4b30-bfdd-e9b8388cc570"
      },
      "source": [
        "import random \n",
        "dice=[0,0,0,0,0,0]\n",
        "for i in range(10000):\n",
        "    number= random.randint(1,6)\n",
        "    dice[number-1]+=1\n",
        "print(dice)"
      ],
      "execution_count": null,
      "outputs": [
        {
          "output_type": "stream",
          "text": [
            "[1697, 1623, 1672, 1695, 1665, 1648]\n"
          ],
          "name": "stdout"
        }
      ]
    },
    {
      "cell_type": "code",
      "metadata": {
        "colab": {
          "base_uri": "https://localhost:8080/"
        },
        "id": "-Ruc2WH0OY6k",
        "outputId": "2d3ab959-9665-45ae-dc69-0713f0e3f52d"
      },
      "source": [
        "import random\n",
        "x=[]\n",
        "for i in range(10000):\n",
        "    a=random.randint(1, 6)\n",
        "    x.append(a)\n",
        "print(x.count(1),\n",
        "      x.count(2),\n",
        "      x.count(3),\n",
        "      x.count(4),\n",
        "      x.count(5),\n",
        "      x.count(6))"
      ],
      "execution_count": null,
      "outputs": [
        {
          "output_type": "stream",
          "text": [
            "1668 1673 1636 1721 1692 1610\n"
          ],
          "name": "stdout"
        }
      ]
    },
    {
      "cell_type": "code",
      "metadata": {
        "colab": {
          "base_uri": "https://localhost:8080/"
        },
        "id": "VwG2hjROOcLH",
        "outputId": "3111a315-9d93-4471-e148-9024da50e855"
      },
      "source": [
        "#예제 3 과목별 점수의 평균 구하기 \n",
        "s=[[96,84,80],[96,86,76],[76,95,83],[89,96,69],[90,76,91],[82,66,88],[83,86,79],[85,90,83]]\n",
        "k = []\n",
        "e = []\n",
        "m =[]\n",
        "for score in s:  # s 리스트를 사용(반복의 범위를), list 길이 만큼 반복, # 1번 반복할 때 s의 요소[96,84,80] 저장 따라서 [0]번이 추가 될때 앞에 96이 출력됨 두번째 반복은 [96,86,76]이 저장되니까 앞에 96이 추가됨 즉 각각 요소의 0번이 각각 저장됨.\n",
        "    k.append(score[0])# for score in s(range가 아니라)는 s의 요소를 반복하는데 요소중의 인덱스 0번을 가져오고 다음 요소중의 인덱스 0번을 가져오는 반복\n",
        "    e.append(score[1])\n",
        "    m.append(score[2])\n",
        "print(k)\n",
        "print(e)\n",
        "print(m)\n",
        "ave1 =round(sum(k)/len(k),1)\n",
        "ave2 =round(sum(e)/len(e),1)\n",
        "ave3 =round(sum(m)/len(m),1)\n",
        "\n",
        "print(f'국어평균: {ave1}, 영어평균: {ave2}, 수학평균: {ave3}')"
      ],
      "execution_count": null,
      "outputs": [
        {
          "output_type": "stream",
          "text": [
            "[96, 96, 76, 89, 90, 82, 83, 85]\n",
            "[84, 86, 95, 96, 76, 66, 86, 90]\n",
            "[80, 76, 83, 69, 91, 88, 79, 83]\n",
            "국어평균: 87.1, 영어평균: 84.9, 수학평균: 81.1\n"
          ],
          "name": "stdout"
        }
      ]
    },
    {
      "cell_type": "code",
      "metadata": {
        "id": "N_fBl7FIU--0"
      },
      "source": [
        "#튜플(Tuple)\n",
        "#튜플은 아래의 두 가지 점을 제외하곤 리스트와 거의 동일함 \n",
        "#리스트는 []로 둘러싸지만 튜플은 ()로 둘러싼다.\n",
        "#리스트는 값의 생성, 삭제, 수정이 가능하지만 튜플은 값을 바꿀 수 없다.\n",
        "#튜플은 언제 사용할까?\n",
        "#프로그램이 실행되는 동안 값이 바뀌면 안되는 경우 e.g. 주민번호, 전화번호, 날짜.\n",
        "#튜플은 데이터 선언시 딱 제정이 되기 때문에 읽기도 빠르고, 정확하게 사용할 수 있다. \n"
      ],
      "execution_count": null,
      "outputs": []
    },
    {
      "cell_type": "code",
      "metadata": {
        "colab": {
          "base_uri": "https://localhost:8080/"
        },
        "id": "p6TIIDIibNM_",
        "outputId": "5233b559-6b84-4ed1-db34-bc505e27b95e"
      },
      "source": [
        "#튜플 생성하기\n",
        "#요소가 여러개인 튜플 생성하기\n",
        "#튜플명 =(요소1, 요소2, ~~~) 괄호를 생략할 수 있다.\n",
        "t1 = (1,2,3)\n",
        "t1\n"
      ],
      "execution_count": null,
      "outputs": [
        {
          "output_type": "execute_result",
          "data": {
            "text/plain": [
              "(1, 2, 3)"
            ]
          },
          "metadata": {
            "tags": []
          },
          "execution_count": 35
        }
      ]
    },
    {
      "cell_type": "code",
      "metadata": {
        "colab": {
          "base_uri": "https://localhost:8080/"
        },
        "id": "-mhotV07bXyS",
        "outputId": "57865193-c8b1-433e-d562-90a34277f3d3"
      },
      "source": [
        "t1=1,2,3\n",
        "t1"
      ],
      "execution_count": null,
      "outputs": [
        {
          "output_type": "execute_result",
          "data": {
            "text/plain": [
              "(1, 2, 3)"
            ]
          },
          "metadata": {
            "tags": []
          },
          "execution_count": 37
        }
      ]
    },
    {
      "cell_type": "code",
      "metadata": {
        "colab": {
          "base_uri": "https://localhost:8080/"
        },
        "id": "Hnz4Klsgbaef",
        "outputId": "8be99f58-5030-4998-e19a-bea7e26f9784"
      },
      "source": [
        "#요소가 한 개인 튜플 생성하기 \n",
        "#튜플명= (1,) 쉼표를 사용해야함. 아니면 그냥 변수로 사용됨. \n",
        "t1=1,\n",
        "t1"
      ],
      "execution_count": null,
      "outputs": [
        {
          "output_type": "execute_result",
          "data": {
            "text/plain": [
              "(1,)"
            ]
          },
          "metadata": {
            "tags": []
          },
          "execution_count": 40
        }
      ]
    },
    {
      "cell_type": "code",
      "metadata": {
        "colab": {
          "base_uri": "https://localhost:8080/"
        },
        "id": "YzR2PL7FbjR7",
        "outputId": "08a5e54a-9e2f-4ce6-f779-5095fee1d2bc"
      },
      "source": [
        "#튜플 다루기\n",
        "t1 = (1,5,3,4,2)   #리스트와 동일한 방법으로 튜플을 다룰 수 있다. ******다만 추가, 삽입,수정,원본리스트 정렬과 같이 데이터를 변경하는 것은 불가능\n",
        "t2 = (6,7,8,9,8)\n",
        "print(t1[1]) #인덱싱\n",
        "print(t1[2:4]) #슬라이싱\n",
        "print(t1+t2)   #더하기\n",
        "print(t1*3)#곱하기\n",
        "print(len(t1))#길이 구하기\n",
        "print(t2.index(9))#요소의 위치 찾기\n",
        "print(t2.count(8))#요소의 갯수\n",
        "sort_t1 = sorted(t1)#정렬된 새로운 ''리스트'' 반환\n",
        "print(sort_t1)"
      ],
      "execution_count": null,
      "outputs": [
        {
          "output_type": "stream",
          "text": [
            "5\n",
            "(3, 4)\n",
            "(1, 5, 3, 4, 2, 6, 7, 8, 9, 8)\n",
            "(1, 5, 3, 4, 2, 1, 5, 3, 4, 2, 1, 5, 3, 4, 2)\n",
            "5\n",
            "3\n",
            "2\n",
            "[1, 2, 3, 4, 5]\n"
          ],
          "name": "stdout"
        }
      ]
    },
    {
      "cell_type": "code",
      "metadata": {
        "colab": {
          "base_uri": "https://localhost:8080/"
        },
        "id": "aBlVn3AKcKep",
        "outputId": "9c20ec5b-1577-4a40-a173-310bec2994d7"
      },
      "source": [
        "#리스트의 합계 구하기\n",
        "#다음 값들을 기억하는 리스트를 만들고 그 값들의 합계를 구하는 파이썬 프로그램을 작성하세요.\n",
        "values = [56,12,33,8,3,2,98]\n",
        "total = 0\n",
        "for i in range(7): #for문 range\n",
        "    total += values[i]\n",
        "total"
      ],
      "execution_count": null,
      "outputs": [
        {
          "output_type": "execute_result",
          "data": {
            "text/plain": [
              "212"
            ]
          },
          "metadata": {
            "tags": []
          },
          "execution_count": 43
        }
      ]
    },
    {
      "cell_type": "code",
      "metadata": {
        "colab": {
          "base_uri": "https://localhost:8080/"
        },
        "id": "1C2J27APcyiu",
        "outputId": "aa445ccc-c6b7-4fe9-ab29-64734891f54e"
      },
      "source": [
        "values= [56,12,33,8,3,2,98]\n",
        "total = 0\n",
        "for i in values: #for문 리스트\n",
        "        total += i\n",
        "total"
      ],
      "execution_count": null,
      "outputs": [
        {
          "output_type": "execute_result",
          "data": {
            "text/plain": [
              "212"
            ]
          },
          "metadata": {
            "tags": []
          },
          "execution_count": 44
        }
      ]
    },
    {
      "cell_type": "code",
      "metadata": {
        "colab": {
          "base_uri": "https://localhost:8080/"
        },
        "id": "9kgIGEKDdDcL",
        "outputId": "54381630-606c-41df-c35b-7d91fd6f56d9"
      },
      "source": [
        "values= [56,12,33,8,3,2,98]\n",
        "total = sum(values)#그냥 리스트"
      ],
      "execution_count": null,
      "outputs": [
        {
          "output_type": "execute_result",
          "data": {
            "text/plain": [
              "212"
            ]
          },
          "metadata": {
            "tags": []
          },
          "execution_count": 45
        }
      ]
    },
    {
      "cell_type": "code",
      "metadata": {
        "id": "dlBQ9SgUdLe4",
        "colab": {
          "base_uri": "https://localhost:8080/"
        },
        "outputId": "a067325c-b349-44a1-fbb1-fd7c71800a1b"
      },
      "source": [
        "#딕션너리 \n",
        "#dict_name={key0:value0,....}\n",
        "menu= {'아메리카노':2000,'카페라떼':3000,'카푸치노':3500}\n",
        "menu"
      ],
      "execution_count": null,
      "outputs": [
        {
          "output_type": "execute_result",
          "data": {
            "text/plain": [
              "{'아메리카노': 2000, '카페라떼': 3000, '카푸치노': 3500}"
            ]
          },
          "metadata": {
            "tags": []
          },
          "execution_count": 48
        }
      ]
    },
    {
      "cell_type": "code",
      "metadata": {
        "id": "dZVYpYCmpGu7"
      },
      "source": [
        "#딕셔너리\n",
        "#키:값이 쌍을 이루어 하나의 요소로 저장된다. \n",
        "#순서가 없다.\n",
        "#인덱스가 아닌 키(key)로 제어한다. 따라서 키는 고유해야 하며 수정 불가능하다.\n",
        "#dict_name={key0:value0-->이게 하나의 요소,....}\n"
      ],
      "execution_count": null,
      "outputs": []
    },
    {
      "cell_type": "code",
      "metadata": {
        "colab": {
          "base_uri": "https://localhost:8080/"
        },
        "id": "qmBlzPZ6ppQw",
        "outputId": "b90f35c3-c95b-4a65-e7fa-698387d174c9"
      },
      "source": [
        "#딕셔너리 예시\n",
        "dicr_person = { 'name': '홍길동','phone':'010454564','age':35,'hobbies':['운동','독서']}\n",
        "dicr_person\n"
      ],
      "execution_count": null,
      "outputs": [
        {
          "output_type": "execute_result",
          "data": {
            "text/plain": [
              "{'age': 35, 'hobbies': ['운동', '독서'], 'name': '홍길동', 'phone': '010454564'}"
            ]
          },
          "metadata": {
            "tags": []
          },
          "execution_count": 50
        }
      ]
    },
    {
      "cell_type": "code",
      "metadata": {
        "colab": {
          "base_uri": "https://localhost:8080/"
        },
        "id": "w3Ovwff6qDt6",
        "outputId": "9b37c783-280d-495e-896a-da405f143114"
      },
      "source": [
        "dicr_phone = { '홍길동':'010454564','공유':'010123456','현빈':'01045465'}\n",
        "dicr_phone"
      ],
      "execution_count": null,
      "outputs": [
        {
          "output_type": "execute_result",
          "data": {
            "text/plain": [
              "{'공유': '010123456', '현빈': '01045465', '홍길동': '010454564'}"
            ]
          },
          "metadata": {
            "tags": []
          },
          "execution_count": 51
        }
      ]
    },
    {
      "cell_type": "code",
      "metadata": {
        "id": "IQi6DYRPqX74"
      },
      "source": [
        "#키, 값\n",
        "#가능한 자료형 키: 숫자, 물자열 튜플 변수   값: 모든 자료형, 변수\n",
        "#변경가능여부 키:불가능 값:변경가능\n",
        "#중복가능여부 키:불가능 값:중복 가능 \n"
      ],
      "execution_count": null,
      "outputs": []
    },
    {
      "cell_type": "code",
      "metadata": {
        "colab": {
          "base_uri": "https://localhost:8080/"
        },
        "id": "-ZeUGuo9qrQA",
        "outputId": "158d674b-5998-4864-9846-52d1fb6099bb"
      },
      "source": [
        "#딕셔너리 생성 \n",
        "#키와 값은 콜론(:)욿 구분하며, 각 요소들은 콤마(,)로 구분한다 \n",
        "#딕셔너리 전체는 중괄호{}로 기술 \n",
        "dicr_score = { '홍길동':80,'공유':90,'현빈':100}\n",
        "dicr_score"
      ],
      "execution_count": null,
      "outputs": [
        {
          "output_type": "execute_result",
          "data": {
            "text/plain": [
              "{'공유': 90, '현빈': 100, '홍길동': 80}"
            ]
          },
          "metadata": {
            "tags": []
          },
          "execution_count": 54
        }
      ]
    },
    {
      "cell_type": "code",
      "metadata": {
        "colab": {
          "base_uri": "https://localhost:8080/"
        },
        "id": "Z7agDehGq6_P",
        "outputId": "61637c62-a702-4538-9e1a-fadaa505eab5"
      },
      "source": [
        "dicr_score = { \n",
        "    '홍길동':80, #들여쓰기로 여러 줄에 기술할 수 있다. 보기 불편하니까\n",
        "    '공유':90,\n",
        "    '현빈':100}\n",
        "dicr_score"
      ],
      "execution_count": null,
      "outputs": [
        {
          "output_type": "execute_result",
          "data": {
            "text/plain": [
              "{'공유': 90, '현빈': 100, '홍길동': 80}"
            ]
          },
          "metadata": {
            "tags": []
          },
          "execution_count": 55
        }
      ]
    },
    {
      "cell_type": "code",
      "metadata": {
        "colab": {
          "base_uri": "https://localhost:8080/"
        },
        "id": "rqn_7dhrrAcG",
        "outputId": "09bf2216-6cd7-43f4-cf52-678a287624f5"
      },
      "source": [
        "#딕셔너리 요소추가/삭제\n",
        "#딕셔너리명[key] = value\n",
        "dicr_score = {} \n",
        "dicr_score['홍길동'] =70 \n",
        "dicr_score['공유'] =90 \n",
        "dicr_score['현빈'] =100 \n",
        "dicr_score"
      ],
      "execution_count": null,
      "outputs": [
        {
          "output_type": "execute_result",
          "data": {
            "text/plain": [
              "{'공유': 90, '현빈': 100, '홍길동': 70}"
            ]
          },
          "metadata": {
            "tags": []
          },
          "execution_count": 57
        }
      ]
    },
    {
      "cell_type": "code",
      "metadata": {
        "colab": {
          "base_uri": "https://localhost:8080/"
        },
        "id": "u7CWLic_rhlI",
        "outputId": "06a0e002-ca51-44c7-c1d2-ec02fe59114e"
      },
      "source": [
        "#요소 삭제하기\n",
        "#del 딕셔너리 명[key]\n",
        "#홍길동 삭제하기\n",
        "dicr_score = { \n",
        "    '홍길동':80, #들여쓰기로 여러 줄에 기술할 수 있다. 보기 불편하니까\n",
        "    '공유':90,\n",
        "    '현빈':100} \n",
        "del dicr_score['홍길동']\n",
        "dicr_score"
      ],
      "execution_count": null,
      "outputs": [
        {
          "output_type": "execute_result",
          "data": {
            "text/plain": [
              "{'공유': 90, '현빈': 100}"
            ]
          },
          "metadata": {
            "tags": []
          },
          "execution_count": 61
        }
      ]
    },
    {
      "cell_type": "code",
      "metadata": {
        "colab": {
          "base_uri": "https://localhost:8080/"
        },
        "id": "jLo_zzthr0zI",
        "outputId": "14c2fbdf-37e7-4104-d59a-849f890f3f40"
      },
      "source": [
        "#pop 하나 요소 삭제\n",
        "#딕셔너리명.pop(key)\n",
        "dicr_score = { \n",
        "    '홍길동':80, \n",
        "    '공유':90,\n",
        "    '현빈':100}\n",
        "score = dicr_score.pop('홍길동')\n",
        "print(score)\n",
        "print(dicr_score)"
      ],
      "execution_count": null,
      "outputs": [
        {
          "output_type": "stream",
          "text": [
            "80\n",
            "{'공유': 90, '현빈': 100}\n"
          ],
          "name": "stdout"
        }
      ]
    },
    {
      "cell_type": "code",
      "metadata": {
        "colab": {
          "base_uri": "https://localhost:8080/"
        },
        "id": "UIgPtnzWr3-u",
        "outputId": "3f4bdf4b-db49-4787-df2d-e1a8c65e1f00"
      },
      "source": [
        "#딕셔너리명 clear --> 모든 요소 삭제\n",
        "#딕셔너리명.clear()\n",
        "dicr_score = { \n",
        "    '홍길동':80, \n",
        "    '공유':90,\n",
        "    '현빈':100}\n",
        "dicr_score.clear()\n",
        "dicr_score"
      ],
      "execution_count": null,
      "outputs": [
        {
          "output_type": "execute_result",
          "data": {
            "text/plain": [
              "{}"
            ]
          },
          "metadata": {
            "tags": []
          },
          "execution_count": 68
        }
      ]
    },
    {
      "cell_type": "code",
      "metadata": {
        "colab": {
          "base_uri": "https://localhost:8080/"
        },
        "id": "QIouRNxUr9Fn",
        "outputId": "7a8cd7be-ad14-435c-c239-70fae33927c1"
      },
      "source": [
        "#요소수정\n",
        "#딕셔너리명[key]=value\n",
        "dicr_score = { \n",
        "    '홍길동':80, \n",
        "    '공유':90,\n",
        "    '현빈':100}\n",
        "dicr_score['홍길동'] = 90\n",
        "dicr_score\n"
      ],
      "execution_count": null,
      "outputs": [
        {
          "output_type": "execute_result",
          "data": {
            "text/plain": [
              "{'공유': 90, '현빈': 100, '홍길동': 90}"
            ]
          },
          "metadata": {
            "tags": []
          },
          "execution_count": 71
        }
      ]
    },
    {
      "cell_type": "code",
      "metadata": {
        "colab": {
          "base_uri": "https://localhost:8080/",
          "height": 215
        },
        "id": "ucasI7gxsFhn",
        "outputId": "dd8f75ad-0a92-4d53-ca86-45658be4b30f"
      },
      "source": [
        "#요소추출\n",
        "dicr_score = { \n",
        "    '홍길동':80, \n",
        "    '공유':90,\n",
        "    '현빈':100}\n",
        "dicr_score['송중기']#없는건 오류"
      ],
      "execution_count": null,
      "outputs": [
        {
          "output_type": "error",
          "ename": "KeyError",
          "evalue": "ignored",
          "traceback": [
            "\u001b[0;31m---------------------------------------------------------------------------\u001b[0m",
            "\u001b[0;31mKeyError\u001b[0m                                  Traceback (most recent call last)",
            "\u001b[0;32m<ipython-input-63-3039fba9e2b6>\u001b[0m in \u001b[0;36m<module>\u001b[0;34m()\u001b[0m\n\u001b[1;32m      4\u001b[0m     \u001b[0;34m'공유'\u001b[0m\u001b[0;34m:\u001b[0m\u001b[0;36m90\u001b[0m\u001b[0;34m,\u001b[0m\u001b[0;34m\u001b[0m\u001b[0;34m\u001b[0m\u001b[0m\n\u001b[1;32m      5\u001b[0m     '현빈':100}\n\u001b[0;32m----> 6\u001b[0;31m \u001b[0mdicr_score\u001b[0m\u001b[0;34m[\u001b[0m\u001b[0;34m'송중기'\u001b[0m\u001b[0;34m]\u001b[0m\u001b[0;34m\u001b[0m\u001b[0;34m\u001b[0m\u001b[0m\n\u001b[0m",
            "\u001b[0;31mKeyError\u001b[0m: '송중기'"
          ]
        }
      ]
    },
    {
      "cell_type": "code",
      "metadata": {
        "colab": {
          "base_uri": "https://localhost:8080/"
        },
        "id": "-AFMM9ebsPS2",
        "outputId": "0e32887f-f4f7-4964-8935-36b95b98403b"
      },
      "source": [
        "#요소추출\n",
        "#딕셔너리명.get(key)\n",
        "dicr_score = { \n",
        "    '홍길동':80, \n",
        "    '공유':90,\n",
        "    '현빈':100}\n",
        "dicr_score.get('현빈')"
      ],
      "execution_count": null,
      "outputs": [
        {
          "output_type": "execute_result",
          "data": {
            "text/plain": [
              "100"
            ]
          },
          "metadata": {
            "tags": []
          },
          "execution_count": 64
        }
      ]
    },
    {
      "cell_type": "code",
      "metadata": {
        "colab": {
          "base_uri": "https://localhost:8080/"
        },
        "id": "-lTJWZ7OsbTN",
        "outputId": "ea20d80c-42cf-4b84-9797-2117c41d6c5e"
      },
      "source": [
        "#송중기 점수 추출\n",
        "dicr_score = { \n",
        "    '홍길동':80, \n",
        "    '공유':90,\n",
        "    '현빈':100}\n",
        "print(dicr_score.get('송중기'))\n",
        "print(dicr_score.get('송중기','없음')) #--> 없을 때 채워주는 값이 없음이라는 것임 none이라는게 싫다면 미리 설정해준 값으로 리턴"
      ],
      "execution_count": null,
      "outputs": [
        {
          "output_type": "stream",
          "text": [
            "None\n",
            "없음\n"
          ],
          "name": "stdout"
        }
      ]
    },
    {
      "cell_type": "code",
      "metadata": {
        "colab": {
          "base_uri": "https://localhost:8080/"
        },
        "id": "KFVhF1QlspJn",
        "outputId": "0a6a0a9e-87c5-4f47-f3d2-30a9cc68510c"
      },
      "source": [
        "#딕셔너리 key가 존재하는지 확인\n",
        "#key in 딕셔너리명\n",
        "#송중기가 존재하는지 확인(false or true)\n",
        "dicr_score = { \n",
        "    '홍길동':80, \n",
        "    '공유':90,\n",
        "    '현빈':100}\n",
        "'송중기' in dicr_score"
      ],
      "execution_count": null,
      "outputs": [
        {
          "output_type": "execute_result",
          "data": {
            "text/plain": [
              "False"
            ]
          },
          "metadata": {
            "tags": []
          },
          "execution_count": 72
        }
      ]
    },
    {
      "cell_type": "code",
      "metadata": {
        "colab": {
          "base_uri": "https://localhost:8080/"
        },
        "id": "Rjvij6YavAhZ",
        "outputId": "bf85e9f8-ea14-411e-a2ba-33270bb12757"
      },
      "source": [
        "#홍길동이 존재하는지 확인(false or true)\n",
        "dicr_score = { \n",
        "    '홍길동':80, \n",
        "    '공유':90,\n",
        "    '현빈':100}\n",
        "'홍길동' in dicr_score"
      ],
      "execution_count": null,
      "outputs": [
        {
          "output_type": "execute_result",
          "data": {
            "text/plain": [
              "True"
            ]
          },
          "metadata": {
            "tags": []
          },
          "execution_count": 73
        }
      ]
    },
    {
      "cell_type": "code",
      "metadata": {
        "colab": {
          "base_uri": "https://localhost:8080/"
        },
        "id": "uUf7VaVqvGdd",
        "outputId": "ead01262-7b43-4763-96a4-36184e8f6b6d"
      },
      "source": [
        "#모든 key만 얻기\n",
        "#딕셔너리명.keys()\n",
        "dicr_score = { \n",
        "    '홍길동':80, \n",
        "    '공유':90,\n",
        "    '현빈':100}\n",
        "print(dicr_score.keys())# --> key를 객체로 반환\n",
        "print(list(dicr_score.keys())) #--> 객체를 리스트로 변환하여 사용 "
      ],
      "execution_count": null,
      "outputs": [
        {
          "output_type": "stream",
          "text": [
            "dict_keys(['홍길동', '공유', '현빈'])\n",
            "['홍길동', '공유', '현빈']\n"
          ],
          "name": "stdout"
        }
      ]
    },
    {
      "cell_type": "code",
      "metadata": {
        "colab": {
          "base_uri": "https://localhost:8080/"
        },
        "id": "4OX8Mo-HvVef",
        "outputId": "8752ea2b-e232-4b42-e42f-c2a40adfbd93"
      },
      "source": [
        "#모든 value만 얻기\n",
        "#딕셔너리명.values()\n",
        "dicr_score = { \n",
        "    '홍길동':80, \n",
        "    '공유':90,\n",
        "    '현빈':100}\n",
        "print(dicr_score.values())# --> value를 객체로 반환\n",
        "print(list(dicr_score.values())) #--> 객체를 리스트로 변환하여 사용 "
      ],
      "execution_count": null,
      "outputs": [
        {
          "output_type": "stream",
          "text": [
            "dict_values([80, 90, 100])\n",
            "[80, 90, 100]\n"
          ],
          "name": "stdout"
        }
      ]
    },
    {
      "cell_type": "code",
      "metadata": {
        "colab": {
          "base_uri": "https://localhost:8080/"
        },
        "id": "5hvLhhOTwCGZ",
        "outputId": "14098c5b-88c1-434f-a769-d61ebaf32777"
      },
      "source": [
        "#모든 모든 key, value만 얻기\n",
        "#딕셔너리명.items()\n",
        "dicr_score = { \n",
        "    '홍길동':80, \n",
        "    '공유':90,\n",
        "    '현빈':100}\n",
        "print(dicr_score.items())# --> 객체로 반환    *튜플형식으로 반환됨.\n",
        "print(list(dicr_score.items())) #--> 객체를 리스트로 변환하여 사용 "
      ],
      "execution_count": null,
      "outputs": [
        {
          "output_type": "stream",
          "text": [
            "dict_items([('홍길동', 80), ('공유', 90), ('현빈', 100)])\n",
            "[('홍길동', 80), ('공유', 90), ('현빈', 100)]\n"
          ],
          "name": "stdout"
        }
      ]
    },
    {
      "cell_type": "code",
      "metadata": {
        "colab": {
          "base_uri": "https://localhost:8080/"
        },
        "id": "WOXwbT7OwXTl",
        "outputId": "660ce844-746f-4565-f1e5-799bb896adab"
      },
      "source": [
        "#데이터 모두 출력하기\n",
        "#_keys, values,items는 리스트로 변환하지 않더라도 기본적인 반복 구문을 실행할 수 있다.\n",
        "dicr_score = { \n",
        "    '홍길동':80, \n",
        "    '공유':90,\n",
        "    '현빈':100}\n",
        "for x in dicr_score.keys():\n",
        "    print(x,dicr_score[x])"
      ],
      "execution_count": null,
      "outputs": [
        {
          "output_type": "stream",
          "text": [
            "홍길동 80\n",
            "공유 90\n",
            "현빈 100\n"
          ],
          "name": "stdout"
        }
      ]
    },
    {
      "cell_type": "code",
      "metadata": {
        "colab": {
          "base_uri": "https://localhost:8080/"
        },
        "id": "a5hLEdQjw-2K",
        "outputId": "bb3dadb6-8d07-4ab7-f660-a4c0011d73e8"
      },
      "source": [
        "dicr_score = { \n",
        "    '홍길동':80, \n",
        "    '공유':90,\n",
        "    '현빈':100}\n",
        "for key,value in dicr_score.items():\n",
        "    print(key,value)"
      ],
      "execution_count": null,
      "outputs": [
        {
          "output_type": "stream",
          "text": [
            "홍길동 80\n",
            "공유 90\n",
            "현빈 100\n"
          ],
          "name": "stdout"
        }
      ]
    },
    {
      "cell_type": "code",
      "metadata": {
        "colab": {
          "base_uri": "https://localhost:8080/",
          "height": 233
        },
        "id": "M7Z2OQU4xNkN",
        "outputId": "de0d10f3-ce5f-4e63-8ebf-ae6c66788f68"
      },
      "source": [
        "#데이터 정렬하여 모두 출력하기\n",
        "#키(key)를 정렬하여 정렬된 키 순서대로 출력한다.\n",
        "dicr_score = { \n",
        "    '홍길동':80, \n",
        "    '공유':90,\n",
        "    '현빈':100}\n",
        "\n",
        "#딕셔너리의 키를 정렬하여 리스트로 받음\n",
        "sk = sorted(dicr_score.keys())\n",
        "print(sk)\n",
        "\n",
        "#정렬된 키 리스트 순서로 반복\n",
        "for key in sk:\n",
        "    print(key, sk[key])"
      ],
      "execution_count": null,
      "outputs": [
        {
          "output_type": "stream",
          "text": [
            "['공유', '현빈', '홍길동']\n"
          ],
          "name": "stdout"
        },
        {
          "output_type": "error",
          "ename": "TypeError",
          "evalue": "ignored",
          "traceback": [
            "\u001b[0;31m---------------------------------------------------------------------------\u001b[0m",
            "\u001b[0;31mTypeError\u001b[0m                                 Traceback (most recent call last)",
            "\u001b[0;32m<ipython-input-84-bf4823ac3b0e>\u001b[0m in \u001b[0;36m<module>\u001b[0;34m()\u001b[0m\n\u001b[1;32m     12\u001b[0m \u001b[0;31m#정렬된 키 리스트 순서로 반복\u001b[0m\u001b[0;34m\u001b[0m\u001b[0;34m\u001b[0m\u001b[0;34m\u001b[0m\u001b[0m\n\u001b[1;32m     13\u001b[0m \u001b[0;32mfor\u001b[0m \u001b[0mkey\u001b[0m \u001b[0;32min\u001b[0m \u001b[0msk\u001b[0m\u001b[0;34m:\u001b[0m\u001b[0;34m\u001b[0m\u001b[0;34m\u001b[0m\u001b[0m\n\u001b[0;32m---> 14\u001b[0;31m     \u001b[0mprint\u001b[0m\u001b[0;34m(\u001b[0m\u001b[0mkey\u001b[0m\u001b[0;34m,\u001b[0m \u001b[0msk\u001b[0m\u001b[0;34m[\u001b[0m\u001b[0mkey\u001b[0m\u001b[0;34m]\u001b[0m\u001b[0;34m)\u001b[0m\u001b[0;34m\u001b[0m\u001b[0;34m\u001b[0m\u001b[0m\n\u001b[0m",
            "\u001b[0;31mTypeError\u001b[0m: list indices must be integers or slices, not str"
          ]
        }
      ]
    },
    {
      "cell_type": "code",
      "metadata": {
        "colab": {
          "base_uri": "https://localhost:8080/"
        },
        "id": "Ik0LbOHdxsxE",
        "outputId": "774a93a3-2521-4d50-9332-beef711240b0"
      },
      "source": [
        "dicr_score = { \n",
        "    '홍길동':80, \n",
        "    '공유':90,\n",
        "    '현빈':100}\n",
        "\n",
        "#딕셔너리의 키를 정렬하하여 튜플(키,값)으로 받음\n",
        "sk = sorted(dicr_score.items()) ## 내림차순은 리버스로 \n",
        "print(sk)\n",
        "\n",
        "#정렬된 키 리스트 순서로 반복\n",
        "for key,value in sk:\n",
        "    print(key, value)"
      ],
      "execution_count": null,
      "outputs": [
        {
          "output_type": "stream",
          "text": [
            "[('공유', 90), ('현빈', 100), ('홍길동', 80)]\n",
            "공유 90\n",
            "현빈 100\n",
            "홍길동 80\n"
          ],
          "name": "stdout"
        }
      ]
    },
    {
      "cell_type": "code",
      "metadata": {
        "colab": {
          "base_uri": "https://localhost:8080/"
        },
        "id": "hXplrvoWyIPw",
        "outputId": "f579f2ee-741a-4dd1-e231-63d29c1187a0"
      },
      "source": [
        "#요소개수 세기\n",
        "#len(딕셔너리명)\n",
        "dicr_score = { \n",
        "    '홍길동':80, \n",
        "    '공유':90,\n",
        "    '현빈':100}\n",
        "print(len(dicr_score))"
      ],
      "execution_count": null,
      "outputs": [
        {
          "output_type": "stream",
          "text": [
            "3\n"
          ],
          "name": "stdout"
        }
      ]
    },
    {
      "cell_type": "code",
      "metadata": {
        "colab": {
          "base_uri": "https://localhost:8080/",
          "height": 287
        },
        "id": "5iRG_KFYyaO1",
        "outputId": "12faa9ea-3f14-46e9-a6f1-4087bb9d51aa"
      },
      "source": [
        "#예제3 마일리지 관리 \n",
        "#회사 쇼핑몰 고객의 아이디에 부여된 마일리지 포인트를 딕셔너리에 저장하여 관리하고자 한다. \n",
        "#아이디 : kim, lee,han,hong,hwamg\n",
        "#마일리지: 12000,11000,3000,5000,18000\n",
        "#1. 위의 표에 나타난 아이디와 마일이지 포인트를 딕셔너리에 저장한 다음 출력하는 프로그램을 작성하시오.#요소수정 #딕셔너리명[key]=value\n",
        "#2. 아이디  han의 마일리지를 5000점으로 업데이트를 하시오. -->요소수정 #딕셔너리명[key]=value\n",
        "#3. 아이디 jang의 마일리지 7000을 추가하시오 #딕셔너리명[key] = value\n",
        "#4. 딕셔너리에서 가장 높은 마일리지를 찾아서 출려하는 프로그램을 작성하시오. max 사용\n",
        "\n",
        "s = {'kim':12000,'lee':11000,'han':3000,'hong':5000,'hwang':18000}\n",
        "print(s)\n",
        "s['han']= 5000\n",
        "print(s)\n",
        "s[jang] = 7000\n",
        "print(s)\n",
        "print(f'최대 마일리지 : {max(s)}')"
      ],
      "execution_count": null,
      "outputs": [
        {
          "output_type": "stream",
          "text": [
            "{'kim': 12000, 'lee': 11000, 'han': 3000, 'hong': 5000, 'hwang': 18000}\n",
            "{'kim': 12000, 'lee': 11000, 'han': 5000, 'hong': 5000, 'hwang': 18000}\n"
          ],
          "name": "stdout"
        },
        {
          "output_type": "error",
          "ename": "NameError",
          "evalue": "ignored",
          "traceback": [
            "\u001b[0;31m---------------------------------------------------------------------------\u001b[0m",
            "\u001b[0;31mNameError\u001b[0m                                 Traceback (most recent call last)",
            "\u001b[0;32m<ipython-input-99-b60e1846b8f2>\u001b[0m in \u001b[0;36m<module>\u001b[0;34m()\u001b[0m\n\u001b[1;32m     12\u001b[0m \u001b[0ms\u001b[0m\u001b[0;34m[\u001b[0m\u001b[0;34m'han'\u001b[0m\u001b[0;34m]\u001b[0m\u001b[0;34m=\u001b[0m \u001b[0;36m5000\u001b[0m\u001b[0;34m\u001b[0m\u001b[0;34m\u001b[0m\u001b[0m\n\u001b[1;32m     13\u001b[0m \u001b[0mprint\u001b[0m\u001b[0;34m(\u001b[0m\u001b[0ms\u001b[0m\u001b[0;34m)\u001b[0m\u001b[0;34m\u001b[0m\u001b[0;34m\u001b[0m\u001b[0m\n\u001b[0;32m---> 14\u001b[0;31m \u001b[0ms\u001b[0m\u001b[0;34m[\u001b[0m\u001b[0mjang\u001b[0m\u001b[0;34m]\u001b[0m \u001b[0;34m=\u001b[0m \u001b[0;36m7000\u001b[0m\u001b[0;34m\u001b[0m\u001b[0;34m\u001b[0m\u001b[0m\n\u001b[0m\u001b[1;32m     15\u001b[0m \u001b[0mprint\u001b[0m\u001b[0;34m(\u001b[0m\u001b[0ms\u001b[0m\u001b[0;34m)\u001b[0m\u001b[0;34m\u001b[0m\u001b[0;34m\u001b[0m\u001b[0m\n\u001b[1;32m     16\u001b[0m \u001b[0mprint\u001b[0m\u001b[0;34m(\u001b[0m\u001b[0;34mf'최대 마일리지 : {max(s)}'\u001b[0m\u001b[0;34m)\u001b[0m\u001b[0;34m\u001b[0m\u001b[0;34m\u001b[0m\u001b[0m\n",
            "\u001b[0;31mNameError\u001b[0m: name 'jang' is not defined"
          ]
        }
      ]
    },
    {
      "cell_type": "code",
      "metadata": {
        "colab": {
          "base_uri": "https://localhost:8080/"
        },
        "id": "i9psyGDT2e0I",
        "outputId": "5224fcb6-13db-4e5b-8b6c-a1e4a84e05d0"
      },
      "source": [
        "dm = {}\n",
        "dm['kim'] = 12000\n",
        "dm['lee'] = 11000\n",
        "dm['han'] = 3000\n",
        "dm['hong'] = 5000\n",
        "dm['hwang'] = 18000\n",
        "\n",
        "for key, value in dm.items():\n",
        "    print(key,value)"
      ],
      "execution_count": null,
      "outputs": [
        {
          "output_type": "stream",
          "text": [
            "kim 12000\n",
            "lee 11000\n",
            "han 3000\n",
            "hong 5000\n",
            "hwang 18000\n"
          ],
          "name": "stdout"
        }
      ]
    },
    {
      "cell_type": "code",
      "metadata": {
        "colab": {
          "base_uri": "https://localhost:8080/"
        },
        "id": "N-lfsqts4dct",
        "outputId": "559b0a87-9e1e-42ab-8e30-dfa652626b7f"
      },
      "source": [
        "dm = {}\n",
        "dm['kim'] = 12000\n",
        "dm['lee'] = 11000\n",
        "dm['han'] = 3000\n",
        "dm['hong'] = 5000\n",
        "dm['hwang'] = 18000\n",
        "dm['han'] = 5000\n",
        "dm"
      ],
      "execution_count": null,
      "outputs": [
        {
          "output_type": "execute_result",
          "data": {
            "text/plain": [
              "{'han': 5000, 'hong': 5000, 'hwang': 18000, 'kim': 12000, 'lee': 11000}"
            ]
          },
          "metadata": {
            "tags": []
          },
          "execution_count": 102
        }
      ]
    },
    {
      "cell_type": "code",
      "metadata": {
        "colab": {
          "base_uri": "https://localhost:8080/"
        },
        "id": "VNaDZQ-D4pG9",
        "outputId": "41694b03-1d41-4de6-91b9-6248640f30ab"
      },
      "source": [
        "dm = {}\n",
        "dm['kim'] = 12000\n",
        "dm['lee'] = 11000\n",
        "dm['han'] = 3000\n",
        "dm['hong'] = 5000\n",
        "dm['hwang'] = 18000\n",
        "dm['han'] = 5000\n",
        "dm['jang'] = 7000\n",
        "dm"
      ],
      "execution_count": null,
      "outputs": [
        {
          "output_type": "execute_result",
          "data": {
            "text/plain": [
              "{'han': 5000,\n",
              " 'hong': 5000,\n",
              " 'hwang': 18000,\n",
              " 'jang': 7000,\n",
              " 'kim': 12000,\n",
              " 'lee': 11000}"
            ]
          },
          "metadata": {
            "tags": []
          },
          "execution_count": 104
        }
      ]
    },
    {
      "cell_type": "code",
      "metadata": {
        "colab": {
          "base_uri": "https://localhost:8080/"
        },
        "id": "FxBhnxVD4v6F",
        "outputId": "ca86e6aa-7c41-4d08-8288-773d1d1273c7"
      },
      "source": [
        "mile = {'Kim':12000, 'Lee':11000, 'Han':3000, 'Hong':5000, 'Hwang':18000}\n",
        "print(mile)\n",
        "mile['Han'] = 5000\n",
        "mile['Hong'] += 7000\n",
        "print(mile)\n",
        "v = list(mile.values())\n",
        "print(max(v))"
      ],
      "execution_count": null,
      "outputs": [
        {
          "output_type": "stream",
          "text": [
            "{'Kim': 12000, 'Lee': 11000, 'Han': 3000, 'Hong': 5000, 'Hwang': 18000}\n",
            "{'Kim': 12000, 'Lee': 11000, 'Han': 5000, 'Hong': 12000, 'Hwang': 18000}\n",
            "18000\n"
          ],
          "name": "stdout"
        }
      ]
    },
    {
      "cell_type": "code",
      "metadata": {
        "colab": {
          "base_uri": "https://localhost:8080/"
        },
        "id": "llZD-Tmr5EU3",
        "outputId": "a80f104a-3a6b-49be-9ec1-6dfd1dee32b5"
      },
      "source": [
        "#예제 2 단어장 만들기 \n",
        "#엔터(\")를 입력할 때까지 영어단어- 뜻을 입력받아 단어장을 만들고, \n",
        "#입력이 끝나면 단어테스트를 실시하는 프로그램을 만들어 보자.\n",
        "#리스트에 입력된 순서대로 테스트를 실시하고, 맞은개수를 계산한다. 테스트가 끝나면 맞은 점수를 출력한다. \n",
        "#출력형식  맞은갯수/전체단어수 : 6/8\n",
        "dv = {}\n",
        "while True: #트루 값이면 계속 반복하라는 뜻. \n",
        "    e = input('eng:')  #키값\n",
        "    if e =='': \n",
        "        break #빈칸이면 멈춤. \n",
        "    k = input('kor:') #value값 \n",
        "    dv[e] == k\n",
        "dv"
      ],
      "execution_count": null,
      "outputs": [
        {
          "output_type": "stream",
          "text": [
            "eng:11\n",
            "kor:한글\n",
            "eng:22\n",
            "kor:한글\n",
            "eng:\n"
          ],
          "name": "stdout"
        },
        {
          "output_type": "execute_result",
          "data": {
            "text/plain": [
              "{'11': '한글', '22': '한글'}"
            ]
          },
          "metadata": {
            "tags": []
          },
          "execution_count": 127
        }
      ]
    },
    {
      "cell_type": "code",
      "metadata": {
        "colab": {
          "base_uri": "https://localhost:8080/"
        },
        "id": "KxxptVxt9AMR",
        "outputId": "d31cca7b-416d-43d0-c9b6-43a4094cd3dd"
      },
      "source": [
        "score = 0 #단어 테스트 \n",
        "for e in dv.keys(): #key값을 가져오고 \n",
        "    k = input(e+':') # input 받은 값을 가져옴 ':' 커서 깜박\n",
        "    if k == dv[e] : #input 받은 값과 동일 한지 \n",
        "        score+=1\n",
        "print(f'맞은개수/전체단어수: {score}/{len(dv)}')"
      ],
      "execution_count": null,
      "outputs": [
        {
          "output_type": "stream",
          "text": [
            "apple:사과\n",
            "a:에이\n",
            "b:비\n",
            "c:디\n",
            "맞은개수/전체단어수: 3/4\n"
          ],
          "name": "stdout"
        }
      ]
    },
    {
      "cell_type": "code",
      "metadata": {
        "colab": {
          "base_uri": "https://localhost:8080/"
        },
        "id": "vtGcYljV5vvB",
        "outputId": "32e0b649-7d09-4700-c9c7-1f273e05aa61"
      },
      "source": [
        "\n",
        "dv = {}\n",
        "while True: \n",
        "    e = input('영어단어를 입력하세요:')\n",
        "    if e =='': \n",
        "        break \n",
        "    k = input('뜻을 쓰세요:')\n",
        "    dv[e]=k\n",
        "dv"
      ],
      "execution_count": null,
      "outputs": [
        {
          "output_type": "stream",
          "text": [
            "영어단어를 입력하세요:apple\n",
            "뜻을 쓰세요:사관\n",
            "영어단어를 입력하세요:key\n",
            "뜻을 쓰세요:열쇄\n",
            "영어단어를 입력하세요:\n"
          ],
          "name": "stdout"
        },
        {
          "output_type": "execute_result",
          "data": {
            "text/plain": [
              "{'apple': '사관', 'key': '열쇄'}"
            ]
          },
          "metadata": {
            "tags": []
          },
          "execution_count": 109
        }
      ]
    },
    {
      "cell_type": "code",
      "metadata": {
        "id": "NXHSAJZz7-3r"
      },
      "source": [
        ""
      ],
      "execution_count": null,
      "outputs": []
    }
  ]
}