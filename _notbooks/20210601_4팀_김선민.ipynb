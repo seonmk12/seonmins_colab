{
  "nbformat": 4,
  "nbformat_minor": 0,
  "metadata": {
    "colab": {
      "name": "20210601_4팀_김선민.ipynb",
      "provenance": [],
      "collapsed_sections": [],
      "authorship_tag": "ABX9TyO/7GQk9vuZOHAk+WUHFp0+",
      "include_colab_link": true
    },
    "kernelspec": {
      "name": "python3",
      "display_name": "Python 3"
    },
    "language_info": {
      "name": "python"
    }
  },
  "cells": [
    {
      "cell_type": "markdown",
      "metadata": {
        "id": "view-in-github",
        "colab_type": "text"
      },
      "source": [
        "<a href=\"https://colab.research.google.com/github/seonmk12/seonmins_colab/blob/master/_notbooks/20210601_4%ED%8C%80_%EA%B9%80%EC%84%A0%EB%AF%BC.ipynb\" target=\"_parent\"><img src=\"https://colab.research.google.com/assets/colab-badge.svg\" alt=\"Open In Colab\"/></a>"
      ]
    },
    {
      "cell_type": "markdown",
      "metadata": {
        "id": "Liaj6WNlzHfX"
      },
      "source": [
        "반복구조\n",
        "지정한 조건이 충족될 때까지 명령문이나 명령문 블록을 여러번 실행하는 구조\n",
        "## 횟수제어(for)\n",
        "반복이 시작되기 전에 반복횟수를 지정 무한 루프에 빠지지 않는다.\n",
        "\n",
        "##조건제어반복(while)\n",
        "반복횟수는 조건에 따라 달라진다. 무한루프에 빠질 수 있다.\n"
      ]
    },
    {
      "cell_type": "markdown",
      "metadata": {
        "id": "H3i2XWQZzfPL"
      },
      "source": [
        "##횟수제어 반보기for구조\n",
        "주어진 자료를 순회할때 주로 사용되는 반복구조이다.\n",
        "반복의 번위가 미리 정해진다.\n",
        "#for 제어변수 in 시퀀스:\n",
        "\n",
        "제어변수 관용적으로 i,j가 사용됨\n",
        "for i in : "
      ]
    },
    {
      "cell_type": "code",
      "metadata": {
        "colab": {
          "base_uri": "https://localhost:8080/"
        },
        "id": "t_PaxClTvAmN",
        "outputId": "f520d5d1-b382-4612-b0a8-feb2e5277509"
      },
      "source": [
        "for i in [1,2,3,4,5]:\n",
        "    print(i) #--> 리스트 한 항목씩 받아서 나옴 \n"
      ],
      "execution_count": null,
      "outputs": [
        {
          "output_type": "stream",
          "text": [
            "1\n",
            "2\n",
            "3\n",
            "4\n",
            "5\n"
          ],
          "name": "stdout"
        }
      ]
    },
    {
      "cell_type": "code",
      "metadata": {
        "colab": {
          "base_uri": "https://localhost:8080/"
        },
        "id": "Sy9p7sOyz134",
        "outputId": "27de5968-4520-4251-dc75-c58137e76699"
      },
      "source": [
        "for i in 'python':\n",
        "    print(i)"
      ],
      "execution_count": null,
      "outputs": [
        {
          "output_type": "stream",
          "text": [
            "p\n",
            "y\n",
            "t\n",
            "h\n",
            "o\n",
            "n\n"
          ],
          "name": "stdout"
        }
      ]
    },
    {
      "cell_type": "code",
      "metadata": {
        "colab": {
          "base_uri": "https://localhost:8080/"
        },
        "id": "0Stfd_4e0DDg",
        "outputId": "02930c2f-56b4-4998-ca37-5c380d799afb"
      },
      "source": [
        "for i in range(1,6): # 5보다 하나 작은 항목 값\n",
        "    print(i)"
      ],
      "execution_count": null,
      "outputs": [
        {
          "output_type": "stream",
          "text": [
            "1\n",
            "2\n",
            "3\n",
            "4\n",
            "5\n"
          ],
          "name": "stdout"
        }
      ]
    },
    {
      "cell_type": "code",
      "metadata": {
        "colab": {
          "base_uri": "https://localhost:8080/"
        },
        "id": "EBAuGYAv0Epx",
        "outputId": "8475527a-04f9-4f23-b6c4-43dc2b55ad1c"
      },
      "source": [
        "for i in range(5): # 5보다 하나 작은 항목 값\n",
        "    print(i) #--> 시퀀스(range 범위)에 있는 값들이 제어변수에 하나씩 할당되며 값이 할당될때마다 명령블록이 실행됨.\n"
      ],
      "execution_count": null,
      "outputs": [
        {
          "output_type": "stream",
          "text": [
            "0\n",
            "1\n",
            "2\n",
            "3\n",
            "4\n"
          ],
          "name": "stdout"
        }
      ]
    },
    {
      "cell_type": "markdown",
      "metadata": {
        "id": "Auif1tj40sp-"
      },
      "source": [
        "##range() 함수\n",
        "일정한 범위의 정수들을 생성한다. \n",
        "시작값 생량가능(기본값:0)\n",
        "끝값은 생략 불가\n",
        "증가값 생략가능(기본값:1)\n",
        "##사용법\n",
        "range(끝값): 0~(끝값 -1), range(5) # 0,1,2,3,4"
      ]
    },
    {
      "cell_type": "code",
      "metadata": {
        "colab": {
          "base_uri": "https://localhost:8080/"
        },
        "id": "8coGtng90sV-",
        "outputId": "69471e36-dfde-438d-86e5-c34a054d5c9b"
      },
      "source": [
        "#range함수\n",
        "for i in range(5):\n",
        "    print(i,end= \" ,\") # 프린트 함수에 end=\"\"를 지정하면 줄이 바뀌지 않고 출력된다."
      ],
      "execution_count": null,
      "outputs": [
        {
          "output_type": "stream",
          "text": [
            "0 ,1 ,2 ,3 ,4 ,"
          ],
          "name": "stdout"
        }
      ]
    },
    {
      "cell_type": "code",
      "metadata": {
        "colab": {
          "base_uri": "https://localhost:8080/"
        },
        "id": "5L7l6QZ50Vl9",
        "outputId": "7a5de517-c435-4ba1-b565-42008984ee4a"
      },
      "source": [
        "#range함수\n",
        "for i in range(1,6):\n",
        "    print(i,end= \" \")"
      ],
      "execution_count": null,
      "outputs": [
        {
          "output_type": "stream",
          "text": [
            "1 2 3 4 5 "
          ],
          "name": "stdout"
        }
      ]
    },
    {
      "cell_type": "code",
      "metadata": {
        "colab": {
          "base_uri": "https://localhost:8080/"
        },
        "id": "WoKSoU2K1TOY",
        "outputId": "a16f516f-af18-43f8-a969-b914e9f40773"
      },
      "source": [
        "#range함수\n",
        "for i in range(10,100,80):\n",
        "    print(i,end= '\\t') # \\t  --> 탭"
      ],
      "execution_count": null,
      "outputs": [
        {
          "output_type": "stream",
          "text": [
            "10\t90\t"
          ],
          "name": "stdout"
        }
      ]
    },
    {
      "cell_type": "code",
      "metadata": {
        "colab": {
          "base_uri": "https://localhost:8080/"
        },
        "id": "9F3TNkAe1Vl_",
        "outputId": "1847a2a9-ab16-4eef-ee61-35d54d8a662a"
      },
      "source": [
        "#range함수-역순 : 오류\n",
        "for i in range(10,0,-1):\n",
        "    print(i,end= \" \")"
      ],
      "execution_count": null,
      "outputs": [
        {
          "output_type": "stream",
          "text": [
            "10 9 8 7 6 5 4 3 2 1 "
          ],
          "name": "stdout"
        }
      ]
    },
    {
      "cell_type": "code",
      "metadata": {
        "id": "IvsRnNHd17_i"
      },
      "source": [
        "#range함수-역순 : 오류 시작값은 끝값보다 앞에 위치하여야 한다\n",
        "for i in range(1,10,-1):\n",
        "    print(i,end= \" \")##--> 큰것 부터 작은 순으로(범위 밖이라서)"
      ],
      "execution_count": null,
      "outputs": []
    },
    {
      "cell_type": "code",
      "metadata": {
        "id": "sw6xtv1Z193U"
      },
      "source": [
        "for i in range(100):\n",
        "    print('Hello World!!')"
      ],
      "execution_count": null,
      "outputs": []
    },
    {
      "cell_type": "markdown",
      "metadata": {
        "id": "EqRYQEF93HEK"
      },
      "source": [
        "##조건 제어 반복: while구조\n",
        "조건식의 결과가 True인 동안 반복된다.\n",
        "조건식의 결과가 FALSE가 되면 반복을 빠져나온다.\n",
        "\n",
        "While 조건식:\n",
        "       명령블록\n"
      ]
    },
    {
      "cell_type": "code",
      "metadata": {
        "colab": {
          "base_uri": "https://localhost:8080/"
        },
        "id": "5Us_WiRr2Fwf",
        "outputId": "1a54dd00-2071-4df5-95c4-63595f260919"
      },
      "source": [
        "i = 1# 전환되는 변수 i값을 줌, 루프의 조건식에 사용되는 변수는 루프에 들어가기 전에 초기화되어야 한다.\n",
        "while i <= 5:#i가 5보다 작을때 까지만 반복해줘\n",
        "    print(i,end= ' ')\n",
        "    i = i + 1 # 출력하는데 1씩 더해            ##루프의 조건식에 사용되는 변수 값은 루프 내에서 변경되어야 한다.\n",
        "#변수 i에 1이 할당된다.\n",
        "#1>=5가 검사된다\n",
        "#참이므로 1을 출력하고 i에 1을 더하여 i는 2가 된다. \n",
        "#이렇게 쭉 이어짐\n",
        "#5 --> 1을 더하면 6이되서 false가 되기 때문에 while문에서 벗어나게 된다."
      ],
      "execution_count": null,
      "outputs": [
        {
          "output_type": "stream",
          "text": [
            "1 2 3 4 5 "
          ],
          "name": "stdout"
        }
      ]
    },
    {
      "cell_type": "code",
      "metadata": {
        "colab": {
          "base_uri": "https://localhost:8080/"
        },
        "id": "71lxz1Gd3djy",
        "outputId": "e7fafdc3-3d6c-42e5-b6da-e27576ea7f78"
      },
      "source": [
        "for i in range(1,6):\n",
        "    print(i,end=' ')\n"
      ],
      "execution_count": null,
      "outputs": [
        {
          "output_type": "stream",
          "text": [
            "1 2 3 4 5 "
          ],
          "name": "stdout"
        }
      ]
    },
    {
      "cell_type": "code",
      "metadata": {
        "colab": {
          "base_uri": "https://localhost:8080/"
        },
        "id": "LDKCA3or4Edx",
        "outputId": "c3f12cd9-0e76-42bd-b14f-82774fc53d48"
      },
      "source": [
        "i = 1\n",
        "while i <= 5:\n",
        "    i = i + 1 #--> 이러면 6이 됨 이러면 i값을 0을 주면 됨\n",
        "    print(i,end= ' ')\n",
        "    "
      ],
      "execution_count": null,
      "outputs": [
        {
          "output_type": "stream",
          "text": [
            "2 3 4 5 6 "
          ],
          "name": "stdout"
        }
      ]
    },
    {
      "cell_type": "code",
      "metadata": {
        "colab": {
          "base_uri": "https://localhost:8080/"
        },
        "id": "OjtrmA4f4O-X",
        "outputId": "bb48e222-3c56-48e7-9ef1-b2b1fef8516f"
      },
      "source": [
        "i = 0\n",
        "while i <= 5:\n",
        "    \n",
        "    i = i + 1\n",
        "    print(i,end= ' ')\n",
        "    "
      ],
      "execution_count": null,
      "outputs": [
        {
          "output_type": "stream",
          "text": [
            "1 2 3 4 5 6 "
          ],
          "name": "stdout"
        }
      ]
    },
    {
      "cell_type": "markdown",
      "metadata": {
        "id": "Snx3GKYs49h7"
      },
      "source": [
        "##while 옆에는 참거짓이 들어가야 하기 때문에 바로 list가 올수 없고 in을 포함하고 쓰면 list사용 가능.\n"
      ]
    },
    {
      "cell_type": "code",
      "metadata": {
        "id": "x3mrah5A4ZrL"
      },
      "source": [
        "#무한루프\n",
        "i = 1 \n",
        "while i <= 5: # i값이 계속 1이므로 무한루프\n",
        "    print(i)\n",
        "print('end') # --> false값 \n",
        "#변수 i를 증가시키는 것을 까먹어서 무한루프에 빠졌다\n",
        "#(변수i는 영원히 1이다.)\n",
        "#실행중단 ctrl + m+i"
      ],
      "execution_count": null,
      "outputs": []
    },
    {
      "cell_type": "code",
      "metadata": {
        "colab": {
          "base_uri": "https://localhost:8080/"
        },
        "id": "2OIz7w-U5uYj",
        "outputId": "4cf4cbf5-ba22-4b29-9840-550ecfbd14fb"
      },
      "source": [
        "#예제 q를 입력할때까지 반복하여 이름 입력 받기\n",
        "#q를 입력할때까지 반복하여 이름을 입력받는 프로그햄을 작성하시오.\n",
        "#조건반복으로만 할 수 있다.(q를 입력하지 않았으면 반복)\n",
        "name = ' '\n",
        "while name != 'q':\n",
        "    name = input('이름을 입력하세요:')\n",
        "    print(name)"
      ],
      "execution_count": null,
      "outputs": [
        {
          "output_type": "stream",
          "text": [
            "이름을 입력하세요:ㄴㄴ\n",
            "ㄴㄴ\n",
            "이름을 입력하세요:q\n",
            "q\n"
          ],
          "name": "stdout"
        }
      ]
    },
    {
      "cell_type": "code",
      "metadata": {
        "colab": {
          "base_uri": "https://localhost:8080/"
        },
        "id": "R2TI10hx9-Op",
        "outputId": "68b8ae4e-7e9c-4147-f6ab-60862332e2d3"
      },
      "source": [
        "name = ' '\n",
        "while name != '':\n",
        "    name = input('이름을 입력하시오 :')\n",
        "    print(name)"
      ],
      "execution_count": null,
      "outputs": [
        {
          "output_type": "stream",
          "text": [
            "이름을 입력하시오 :\n",
            "\n"
          ],
          "name": "stdout"
        }
      ]
    },
    {
      "cell_type": "code",
      "metadata": {
        "colab": {
          "base_uri": "https://localhost:8080/"
        },
        "id": "bxD381Tt-nkg",
        "outputId": "f6e5534f-dfd1-4488-c31f-16aeeef6f453"
      },
      "source": [
        "num1 = 0\n",
        "sum1 = 0\n",
        "while num1 != 99:\n",
        "    num1 = int(input('숫자를 입력하시오 :'))\n",
        "    sum1 += num1\n",
        "    print(num1)"
      ],
      "execution_count": null,
      "outputs": [
        {
          "output_type": "stream",
          "text": [
            "숫자를 입력하시오 :11\n",
            "11\n",
            "숫자를 입력하시오 :22\n",
            "22\n",
            "숫자를 입력하시오 :33\n",
            "33\n",
            "숫자를 입력하시오 :12\n",
            "12\n",
            "숫자를 입력하시오 :99\n",
            "99\n"
          ],
          "name": "stdout"
        }
      ]
    },
    {
      "cell_type": "code",
      "metadata": {
        "colab": {
          "base_uri": "https://localhost:8080/"
        },
        "id": "YvysgRm0-__6",
        "outputId": "55554044-d858-43cd-e677-75bb5b323bbe"
      },
      "source": [
        "# q를 입력할 때까지 반복입력\n",
        "name = ' '\n",
        "while name != 'q':\n",
        "    name = input('이름을 입력하세요:')\n",
        "    if name != 'q':\n",
        "        print(name)\n"
      ],
      "execution_count": null,
      "outputs": [
        {
          "output_type": "stream",
          "text": [
            "이름을 입력하세요:11\n",
            "11\n",
            "이름을 입력하세요:12\n",
            "12\n",
            "이름을 입력하세요:\n",
            "\n",
            "이름을 입력하세요:q\n"
          ],
          "name": "stdout"
        }
      ]
    },
    {
      "cell_type": "markdown",
      "metadata": {
        "id": "sRJRTT5QABze"
      },
      "source": [
        "#5개의 정수를 입력받아 합계 구하기\n",
        "5개의 정수를 입력받아(입력:5번 반복) 합계를 구하여(처리) 출력하는 프로그램을 작성하시오.\n",
        "\n"
      ]
    },
    {
      "cell_type": "code",
      "metadata": {
        "colab": {
          "base_uri": "https://localhost:8080/"
        },
        "id": "6hhugmS6ARBG",
        "outputId": "ff6c316e-ad6c-4128-e045-6493c343e7db"
      },
      "source": [
        "sum1 = 0\n",
        "for i in range(5):\n",
        "    sum1 += int(input('정수입력:'))\n",
        "    \n",
        "print('합계출력:', sum1)"
      ],
      "execution_count": null,
      "outputs": [
        {
          "output_type": "stream",
          "text": [
            "정수입력:11\n",
            "정수입력:22\n",
            "정수입력:33\n",
            "정수입력:44\n",
            "정수입력:55\n",
            "합계출력: 220\n"
          ],
          "name": "stdout"
        }
      ]
    },
    {
      "cell_type": "code",
      "metadata": {
        "colab": {
          "base_uri": "https://localhost:8080/"
        },
        "id": "fR6TCjf_AhAJ",
        "outputId": "c7006c2c-1735-4682-dafe-52a312246772"
      },
      "source": [
        "sum1 = 0\n",
        "for i in range(5):\n",
        "    sum1+= int(input('정수입력:'))\n",
        "    \n",
        "print('합계출력:', sum1)"
      ],
      "execution_count": null,
      "outputs": [
        {
          "output_type": "stream",
          "text": [
            "정수입력:1\n",
            "정수입력:2\n",
            "정수입력:3\n",
            "정수입력:4\n",
            "정수입력:5\n",
            "합계출력: 115\n"
          ],
          "name": "stdout"
        }
      ]
    },
    {
      "cell_type": "code",
      "metadata": {
        "id": "wkb64Zq7Ke7e"
      },
      "source": [
        "sum1 = 0\n",
        "for i in range(5):\n",
        "    num = int(input('정수입력:'))\n",
        "    sum1 += num\n",
        "print('합계출력:',sum1)"
      ],
      "execution_count": null,
      "outputs": []
    },
    {
      "cell_type": "code",
      "metadata": {
        "colab": {
          "base_uri": "https://localhost:8080/",
          "height": 449
        },
        "id": "xW7Yl7jTA5Nd",
        "outputId": "a54547a3-78f7-40de-d769-8909c95461b4"
      },
      "source": [
        "sum1 = 0 \n",
        "while i != ' ':\n",
        "    sum1 += int(input('정수입력'))\n",
        "    print(sum1)\n",
        "    "
      ],
      "execution_count": null,
      "outputs": [
        {
          "output_type": "stream",
          "text": [
            "정수입력1\n",
            "1\n",
            "정수입력2\n",
            "3\n",
            "정수입력3\n",
            "6\n",
            "정수입력4\n",
            "10\n",
            "정수입력5\n",
            "15\n",
            "정수입력\n"
          ],
          "name": "stdout"
        },
        {
          "output_type": "error",
          "ename": "ValueError",
          "evalue": "ignored",
          "traceback": [
            "\u001b[0;31m---------------------------------------------------------------------------\u001b[0m",
            "\u001b[0;31mValueError\u001b[0m                                Traceback (most recent call last)",
            "\u001b[0;32m<ipython-input-66-19d6a55b7ff3>\u001b[0m in \u001b[0;36m<module>\u001b[0;34m()\u001b[0m\n\u001b[1;32m      1\u001b[0m \u001b[0msum1\u001b[0m \u001b[0;34m=\u001b[0m \u001b[0;36m0\u001b[0m\u001b[0;34m\u001b[0m\u001b[0;34m\u001b[0m\u001b[0m\n\u001b[1;32m      2\u001b[0m \u001b[0;32mwhile\u001b[0m \u001b[0mi\u001b[0m \u001b[0;34m!=\u001b[0m \u001b[0;34m' '\u001b[0m\u001b[0;34m:\u001b[0m\u001b[0;34m\u001b[0m\u001b[0;34m\u001b[0m\u001b[0m\n\u001b[0;32m----> 3\u001b[0;31m     \u001b[0msum1\u001b[0m \u001b[0;34m+=\u001b[0m \u001b[0mint\u001b[0m\u001b[0;34m(\u001b[0m\u001b[0minput\u001b[0m\u001b[0;34m(\u001b[0m\u001b[0;34m'정수입력'\u001b[0m\u001b[0;34m)\u001b[0m\u001b[0;34m)\u001b[0m\u001b[0;34m\u001b[0m\u001b[0;34m\u001b[0m\u001b[0m\n\u001b[0m\u001b[1;32m      4\u001b[0m     \u001b[0mprint\u001b[0m\u001b[0;34m(\u001b[0m\u001b[0msum1\u001b[0m\u001b[0;34m)\u001b[0m\u001b[0;34m\u001b[0m\u001b[0;34m\u001b[0m\u001b[0m\n\u001b[1;32m      5\u001b[0m \u001b[0;34m\u001b[0m\u001b[0m\n",
            "\u001b[0;31mValueError\u001b[0m: invalid literal for int() with base 10: ''"
          ]
        }
      ]
    },
    {
      "cell_type": "code",
      "metadata": {
        "colab": {
          "base_uri": "https://localhost:8080/"
        },
        "id": "mt3Gr3r2CTjE",
        "outputId": "bb42e5c2-9838-43fd-b580-18eb4cd286e4"
      },
      "source": [
        "#n개의 정수를 입력받아 합계 구하기 \n",
        "#사용자로부터 n값을 입력받고\n",
        "#n개의 정수를 입력받아 합계를 구하여 출력하는 프로그램을 작성하시오.\n",
        "n= int(input('몇개의 숫자를 더할까요?:'))\n",
        "sum1 = 0\n",
        "for i in range(n):\n",
        "    sum += int(input('정수입력'))\n",
        "    \n",
        "    \n",
        "print('합계출력:', sum)"
      ],
      "execution_count": null,
      "outputs": [
        {
          "output_type": "stream",
          "text": [
            "몇개의 숫자를 더할까요?:1\n",
            "정수입력10\n",
            "합계출력: 4251746461\n"
          ],
          "name": "stdout"
        }
      ]
    },
    {
      "cell_type": "code",
      "metadata": {
        "colab": {
          "base_uri": "https://localhost:8080/"
        },
        "id": "BGwAwK9OC7uZ",
        "outputId": "0478ddba-52f9-4d2d-ab34-5f130f10a761"
      },
      "source": [
        "# n개의 정수를 입력 받아 n개의 정수를 입력 받아 합계 출력\n",
        "sum1 = 0\n",
        "n = int(input('몇개의 숫자를 더할까요? :'))\n",
        "for i in range(n):\n",
        "    sum1 += int(input('정수입력:'))\n",
        "print('합계출력:',sum1)"
      ],
      "execution_count": null,
      "outputs": [
        {
          "output_type": "stream",
          "text": [
            "몇개의 숫자를 더할까요? :2\n",
            "정수입력:10\n",
            "정수입력:20\n",
            "합계출력: 30\n"
          ],
          "name": "stdout"
        }
      ]
    },
    {
      "cell_type": "code",
      "metadata": {
        "colab": {
          "base_uri": "https://localhost:8080/"
        },
        "id": "W8LXkM0tKlMs",
        "outputId": "7c25bf76-2af9-4ebe-b108-4074b5c940de"
      },
      "source": [
        "sum1 = 0\n",
        "n = int(input('몇개의 숫자를 더할까요? :'))\n",
        "for i in range(n):\n",
        "    num = int(input('정수입력:'))\n",
        "    sum1 += num\n",
        "print('합계출력:',sum1)"
      ],
      "execution_count": null,
      "outputs": [
        {
          "output_type": "stream",
          "text": [
            "몇개의 숫자를 더할까요? :5\n",
            "정수입력:1\n",
            "정수입력:2\n",
            "정수입력:3\n",
            "정수입력:4\n",
            "정수입력:5\n",
            "합계출력: 15\n"
          ],
          "name": "stdout"
        }
      ]
    },
    {
      "cell_type": "code",
      "metadata": {
        "colab": {
          "base_uri": "https://localhost:8080/"
        },
        "id": "LCSPeMqsEMR7",
        "outputId": "7dbf0a2d-f20f-41a2-ac1f-a9b1db90ddde"
      },
      "source": [
        "# n 개의 정수를 입력 받아 짝수의 합계를 구하여 출력하는 프로그램을 작성하시오\n",
        "sum1= 0\n",
        "n = int(input('몇개의 숫자를 더할까요? :'))\n",
        "for i in range(n):\n",
        "    num = int(input('정수입력:'))\n",
        "    if num % 2 == 0:\n",
        "        sum1 += num\n",
        "print('합계출력:',sum1)"
      ],
      "execution_count": null,
      "outputs": [
        {
          "output_type": "stream",
          "text": [
            "몇개의 숫자를 더할까요? :2\n",
            "정수입력:4\n",
            "정수입력:6\n",
            "합계출력: 10\n"
          ],
          "name": "stdout"
        }
      ]
    },
    {
      "cell_type": "code",
      "metadata": {
        "colab": {
          "base_uri": "https://localhost:8080/"
        },
        "id": "1UNJy3xyFENT",
        "outputId": "96060c59-d982-4bba-d248-ba9813b58a26"
      },
      "source": [
        "#홀수만 더하기\n",
        "sum1= 0\n",
        "n = int(input('몇개의 숫자를 더할까요? :'))\n",
        "for i in range(n):\n",
        "    num = int(input('정수입력:'))\n",
        "    if num % 2 == 1:\n",
        "        sum1 += num\n",
        "print('합계출력:',sum1)"
      ],
      "execution_count": null,
      "outputs": [
        {
          "output_type": "stream",
          "text": [
            "몇개의 숫자를 더할까요? :3\n",
            "정수입력:2\n",
            "정수입력:3\n",
            "정수입력:5\n",
            "합계출력: 8\n"
          ],
          "name": "stdout"
        }
      ]
    },
    {
      "cell_type": "code",
      "metadata": {
        "colab": {
          "base_uri": "https://localhost:8080/"
        },
        "id": "8BwzU4n6FOfy",
        "outputId": "355c23af-0334-443e-a7cd-9ac8b8138f07"
      },
      "source": [
        "#홀수만 더하기\n",
        "sum1= 0\n",
        "n = int(input('몇개의 숫자를 더할까요? :'))\n",
        "for i in range(n):\n",
        "    num = int(input('정수입력:'))\n",
        "    if num % 3 == 1:\n",
        "        sum1 += num\n",
        "print('합계출력:',sum1)"
      ],
      "execution_count": null,
      "outputs": [
        {
          "output_type": "stream",
          "text": [
            "몇개의 숫자를 더할까요? :3\n",
            "정수입력:1\n",
            "정수입력:3\n",
            "정수입력:4\n",
            "합계출력: 5\n"
          ],
          "name": "stdout"
        }
      ]
    },
    {
      "cell_type": "code",
      "metadata": {
        "colab": {
          "base_uri": "https://localhost:8080/"
        },
        "id": "VnGCe4SAFhlH",
        "outputId": "aa374c78-8a18-4636-ae65-002ba72c27fc"
      },
      "source": [
        "#0이 입력될때까지 숫자를 입력받아 합계 구하기\n",
        "#0이 입력될때까지 사용가자 숫자를 입력하고, 입력이 끝나면 입력된 숫자들의 합이 출력되는 프로그램을 작성하시오\n",
        "sum1 = 1 \n",
        "num = int(input('숫자: '))\n",
        "while num != 0: \n",
        "    sum1 += num\n",
        "    num = int(input('숫자:'))\n",
        "print('합계:', sum1)"
      ],
      "execution_count": null,
      "outputs": [
        {
          "output_type": "stream",
          "text": [
            "숫자 입력: 1\n",
            "숫자:2\n",
            "숫자:3\n",
            "숫자:4\n",
            "숫자:0\n",
            "합계: 11\n"
          ],
          "name": "stdout"
        }
      ]
    },
    {
      "cell_type": "code",
      "metadata": {
        "colab": {
          "base_uri": "https://localhost:8080/"
        },
        "id": "U5bizWkwGLhF",
        "outputId": "d7631592-a6f7-4b6e-f9bb-59cf688c5ec0"
      },
      "source": [
        "sum1 = 0 # 초기값을 줘야 다른 것이 들어가는 것을 막을 수 있음.\n",
        "num = '숫자: '\n",
        "while num != 0: \n",
        "   \n",
        "    num = int(input('숫자:'))\n",
        "    sum1 += num\n",
        "print('합계:', sum1)"
      ],
      "execution_count": null,
      "outputs": [
        {
          "output_type": "stream",
          "text": [
            "숫자:10\n",
            "숫자:20\n",
            "숫자:0\n",
            "합계: 30\n"
          ],
          "name": "stdout"
        }
      ]
    },
    {
      "cell_type": "code",
      "metadata": {
        "colab": {
          "base_uri": "https://localhost:8080/"
        },
        "id": "sMYPQ4pRG8ND",
        "outputId": "b2f47130-6c10-4d8a-905a-e9a4ef050acf"
      },
      "source": [
        "sum1 = 0\n",
        "chk = 1\n",
        "num = int(input(\"숫자: \"))\n",
        "while num!=0 or chk == 1:\n",
        "    sum1+=num\n",
        "    num = int(input(\"숫자: \"))\n",
        "    chk = 1 + chk\n",
        "print('합계:', sum1)\n"
      ],
      "execution_count": null,
      "outputs": [
        {
          "output_type": "stream",
          "text": [
            "숫자: 10\n",
            "숫자: 20\n",
            "숫자: 0\n",
            "합계: 30\n"
          ],
          "name": "stdout"
        }
      ]
    },
    {
      "cell_type": "code",
      "metadata": {
        "colab": {
          "base_uri": "https://localhost:8080/"
        },
        "id": "f6zHOm_BIMSe",
        "outputId": "70a91d62-f1ed-4494-b85e-357d5d13f898"
      },
      "source": [
        "sum1 = 0\n",
        "chk = 1\n",
        "\n",
        "while num!=0 or chk == 1:\n",
        "        num = int(input(\"숫자: \"))\n",
        "        sum1 += num\n",
        "        if chk == 1:\n",
        "            chk = 1 +chk\n",
        "    \n",
        "print('합계:', sum1)"
      ],
      "execution_count": null,
      "outputs": [
        {
          "output_type": "stream",
          "text": [
            "숫자: 10\n",
            "숫자: 20\n",
            "숫자: 0\n",
            "합계: 30\n"
          ],
          "name": "stdout"
        }
      ]
    },
    {
      "cell_type": "code",
      "metadata": {
        "colab": {
          "base_uri": "https://localhost:8080/"
        },
        "id": "oFCewVYeLDuD",
        "outputId": "1d532b94-4966-482e-aec2-d55590db75bb"
      },
      "source": [
        "#예제 1~n까지 더하는 프로그램을 작성하세요.\n",
        "#숫자 n을 입력받아 1~n까지의 합을 구하여 출력하는 파이썬 프로그램을 작성하세요.\n",
        "sum1=0\n",
        "n = int(input('1부터 몇까지 더할까요?:'))\n",
        "for i in range(1,n+1):\n",
        "    sum1 += i\n",
        "print(f' 1부터 {n}까지 더한 합계는 : {sum1}')"
      ],
      "execution_count": null,
      "outputs": [
        {
          "output_type": "stream",
          "text": [
            "1부터 몇까지 더할까요?:10\n",
            " 1부터 10까지 더한 합계는 : 55\n"
          ],
          "name": "stdout"
        }
      ]
    },
    {
      "cell_type": "code",
      "metadata": {
        "colab": {
          "base_uri": "https://localhost:8080/"
        },
        "id": "8Yz6Ow3iMn48",
        "outputId": "22374528-721f-46e9-df3d-ab9623006684"
      },
      "source": [
        "sum1=0\n",
        "n = int(input('1부터 몇까지 더할까요? : '))\n",
        "for i in range(1,n+1):\n",
        "    sum1 += i\n",
        "print(f'1부터 {n}까지 더한 합계는 : {sum1}')"
      ],
      "execution_count": null,
      "outputs": [
        {
          "output_type": "stream",
          "text": [
            "1부터 몇까지 더할까요? : 10\n",
            "1부터 10까지 더한 합계는 : sum1\n"
          ],
          "name": "stdout"
        }
      ]
    },
    {
      "cell_type": "code",
      "metadata": {
        "colab": {
          "base_uri": "https://localhost:8080/"
        },
        "id": "GIx-qZ_8NOs9",
        "outputId": "e9009b19-8044-4532-8b7f-59d62fdcacb7"
      },
      "source": [
        "sum1=0\n",
        "n = int(input('1부터 몇까지 더할까요? : '))\n",
        "for i in range(1,n+1):\n",
        "    sum1 += i\n",
        "    print(i) # i값이 변화되는 값을 보여줌.\n",
        "print(f'1부터 {n}까지 더한 합계는 : {sum1}')"
      ],
      "execution_count": null,
      "outputs": [
        {
          "output_type": "stream",
          "text": [
            "1부터 몇까지 더할까요? : 10\n",
            "1\n",
            "2\n",
            "3\n",
            "4\n",
            "5\n",
            "6\n",
            "7\n",
            "8\n",
            "9\n",
            "10\n",
            "1부터 10까지 더한 합계는 : 55\n"
          ],
          "name": "stdout"
        }
      ]
    },
    {
      "cell_type": "code",
      "metadata": {
        "colab": {
          "base_uri": "https://localhost:8080/"
        },
        "id": "-DjEReHyOSC5",
        "outputId": "4b75d193-da46-4180-a53c-ebb3892410e4"
      },
      "source": [
        "sum1=0\n",
        "n = int(input('1부터 몇까지 더할까요? : '))\n",
        "i = 1\n",
        "while i <= n:\n",
        "    sum1 += i\n",
        "    i +=1\n",
        "    print(i)\n",
        "print(f'1부터 {n}까지 더한 합계는 : {sum1}')"
      ],
      "execution_count": null,
      "outputs": [
        {
          "output_type": "stream",
          "text": [
            "1부터 몇까지 더할까요? : 10\n",
            "2\n",
            "3\n",
            "4\n",
            "5\n",
            "6\n",
            "7\n",
            "8\n",
            "9\n",
            "10\n",
            "11\n",
            "1부터 10까지 더한 합계는 : 55\n"
          ],
          "name": "stdout"
        }
      ]
    },
    {
      "cell_type": "code",
      "metadata": {
        "colab": {
          "base_uri": "https://localhost:8080/"
        },
        "id": "Y1LX9o0POxvV",
        "outputId": "193c9751-d7b7-4d49-ab98-85f32387b88a"
      },
      "source": [
        "#예제 n1~n2까지 더하는 프로그램을 작성하세요. \n",
        "#숫자 n1,n2를 입력받아 n1~n2까지의 합을 구하여 출력하는 파이썬 프로그램을 작성하세요.\n",
        "sum1 = 0\n",
        "n1 = int(input('몇부터 더 할까요?:'))\n",
        "n2 = int(input('몇까지 더할까요?:'))\n",
        "for i in range(n1,n2+1): # 끝범위 +1을 해줘야 함. 윗 예제와 이 부분이 다름. \n",
        "    sum1 += i\n",
        "    print(i)\n",
        "print(f'{n1}부터 {n2}까지 더한 합계는 : {sum1}')"
      ],
      "execution_count": null,
      "outputs": [
        {
          "output_type": "stream",
          "text": [
            "몇부터 더 할까요?:2\n",
            "몇까지 더할까요?:10\n",
            "2\n",
            "3\n",
            "4\n",
            "5\n",
            "6\n",
            "7\n",
            "8\n",
            "9\n",
            "10\n",
            "2부터 10까지 더한 합계는 : 54\n"
          ],
          "name": "stdout"
        }
      ]
    },
    {
      "cell_type": "code",
      "metadata": {
        "colab": {
          "base_uri": "https://localhost:8080/"
        },
        "id": "UUr5DZ8yau1E",
        "outputId": "1c7a9e3c-97c2-4eea-da9e-6afc55e656f6"
      },
      "source": [
        "#임의의 개수 숫자의 평균구하기\n",
        "#사용자에게 n개의 숫자를 입력받아(몇개 숫자 입력할지, 숫자 입력 --> 2가지의 input값을 받아야함) 그 숫자들의 평균을 계산해서 출력하는 파이썬 프로그램을 작성하세요.\n",
        "n = int(input('입력받을 정수의 개수: '))\n",
        "sum1= 0\n",
        "for i in range(n):\n",
        "    num = int(input('정수:'))\n",
        "    sum1 += num\n",
        "    \n",
        "if n == 0:\n",
        "    print('0개의 정수를 입력하셨습니다.')\n",
        "else:\n",
        "    print('평균:' , sum1/n)\n",
        "\n"
      ],
      "execution_count": null,
      "outputs": [
        {
          "output_type": "stream",
          "text": [
            "입력받을 정수의 개수: 3\n",
            "정수:90\n",
            "90\n",
            "정수:1\n",
            "1\n",
            "정수:50\n",
            "50\n",
            "평균: 47.0\n"
          ],
          "name": "stdout"
        }
      ]
    },
    {
      "cell_type": "code",
      "metadata": {
        "colab": {
          "base_uri": "https://localhost:8080/"
        },
        "id": "0MoHZPEgcycq",
        "outputId": "74ca346d-a2cf-4490-885c-2ba7b2fc1e72"
      },
      "source": [
        "#팩토리얼 계산하기 \n",
        "#정수를 n을 입력받아 n!을 계산하는 프로그램을 작성하세요.\n",
        "n = int(input('몇 팩토리얼? : '))\n",
        "f = 1#곱하기니까 0을 주면 안됨\n",
        "\n",
        "for i in range(n,0,-1):\n",
        "    f *= i\n",
        "    print(i,f) #ctrl + / 주석처리\n",
        "    \n",
        "\n",
        "print(f'{n}! = {f}')    "
      ],
      "execution_count": null,
      "outputs": [
        {
          "output_type": "stream",
          "text": [
            "몇 팩토리얼? : 10\n",
            "10 10\n",
            "9 90\n",
            "8 720\n",
            "7 5040\n",
            "6 30240\n",
            "5 151200\n",
            "4 604800\n",
            "3 1814400\n",
            "2 3628800\n",
            "1 3628800\n",
            "10! = 3628800\n"
          ],
          "name": "stdout"
        }
      ]
    },
    {
      "cell_type": "code",
      "metadata": {
        "colab": {
          "base_uri": "https://localhost:8080/"
        },
        "id": "zxJi0-YZgYxX",
        "outputId": "ec5e1a9a-52d2-49cd-f5e6-be68968c6d70"
      },
      "source": [
        "#예제 구구단 \n",
        "#정수 n을 받아 구구단을 계산하는 프로그램을 작성하세요.\n",
        "n = int(input('구구단 몇단을 출력할까요? :'))\n",
        "for i in range(1,10):#시작값은 1 끝값을 9로 하고 싶기 떄문에 +1 을 한 10\n",
        "    print(f'{n} * {i} = {n*i}')\n",
        "\n"
      ],
      "execution_count": null,
      "outputs": [
        {
          "output_type": "stream",
          "text": [
            "구구단 몇단을 출력할까요? :1\n",
            "1 * 1 = 1\n",
            "1 * 2 = 2\n",
            "1 * 3 = 3\n",
            "1 * 4 = 4\n",
            "1 * 5 = 5\n",
            "1 * 6 = 6\n",
            "1 * 7 = 7\n",
            "1 * 8 = 8\n",
            "1 * 9 = 9\n"
          ],
          "name": "stdout"
        }
      ]
    },
    {
      "cell_type": "code",
      "metadata": {
        "colab": {
          "base_uri": "https://localhost:8080/"
        },
        "id": "um99yWMNiunO",
        "outputId": "1bf1396d-218e-401c-aa8b-5ee3b271e975"
      },
      "source": [
        "#중첩반복구조 \n",
        "for i in range (3): # i, j : 내부 루프와 외부루프는 동일한 제어변수를 사용해서는 안됨\n",
        "    for j in range(5): ## 내부 for문을 외부 for문의 시퀀스 만큼 반복한다. \n",
        "        print(i,j)        # j는  하나 i의 범위 만큼 반복함 e.g. 0~4까지 범위에서 3번 반복\n",
        "                         #i는 외부 시퀀스 만큼 반복 e.g. 0~2까지 범위에서 5번 반복\n"
      ],
      "execution_count": null,
      "outputs": [
        {
          "output_type": "stream",
          "text": [
            "0 0\n",
            "0 1\n",
            "0 2\n",
            "0 3\n",
            "0 4\n",
            "1 0\n",
            "1 1\n",
            "1 2\n",
            "1 3\n",
            "1 4\n",
            "2 0\n",
            "2 1\n",
            "2 2\n",
            "2 3\n",
            "2 4\n"
          ],
          "name": "stdout"
        }
      ]
    },
    {
      "cell_type": "code",
      "metadata": {
        "colab": {
          "base_uri": "https://localhost:8080/"
        },
        "id": "GyO5RN0lmFFK",
        "outputId": "da4bc344-c202-440f-bdaf-4da4caeb4e33"
      },
      "source": [
        "for i in range (1,3): # i, j : 내부 루프와 외부루프는 동일한 제어변수를 사용해서는 안됨\n",
        "    for j in range(1,5): ## 내부 for문을 외부 for문의 시퀀스 만큼 반복한다. \n",
        "        print(i,j) "
      ],
      "execution_count": null,
      "outputs": [
        {
          "output_type": "stream",
          "text": [
            "1 1\n",
            "1 2\n",
            "1 3\n",
            "1 4\n",
            "2 1\n",
            "2 2\n",
            "2 3\n",
            "2 4\n"
          ],
          "name": "stdout"
        }
      ]
    },
    {
      "cell_type": "code",
      "metadata": {
        "colab": {
          "base_uri": "https://localhost:8080/"
        },
        "id": "pvFjf2v7m6el",
        "outputId": "807e39bf-46d3-47c0-e20f-d97f96c87cce"
      },
      "source": [
        "for i in range (1,7,2): # i, j : 내부 루프와 외부루프는 동일한 제어변수를 사용해서는 안됨\n",
        "    for j in range(1,5,2): ## 내부 for문을 외부 for문의 시퀀스 만큼 반복한다. \n",
        "        print(i,j,i*j) "
      ],
      "execution_count": null,
      "outputs": [
        {
          "output_type": "stream",
          "text": [
            "1 1 1\n",
            "1 3 3\n",
            "3 1 3\n",
            "3 3 9\n",
            "5 1 5\n",
            "5 3 15\n"
          ],
          "name": "stdout"
        }
      ]
    },
    {
      "cell_type": "code",
      "metadata": {
        "colab": {
          "base_uri": "https://localhost:8080/"
        },
        "id": "9_MVMKZ4m_5g",
        "outputId": "11aa1db1-d092-4c0a-c406-1d2c6104d5db"
      },
      "source": [
        "#전체 구구단 출력하기(가로)\n",
        "for i in range(2,10):\n",
        "    for j in range(1,10):\n",
        "        print(f' {i} * {j} = {i*j}', end='\\t')\n",
        "    print() #-->한줄 건너뛰기\n",
        "\n",
        "    "
      ],
      "execution_count": null,
      "outputs": [
        {
          "output_type": "stream",
          "text": [
            " 2 * 1 = 2\t 2 * 2 = 4\t 2 * 3 = 6\t 2 * 4 = 8\t 2 * 5 = 10\t 2 * 6 = 12\t 2 * 7 = 14\t 2 * 8 = 16\t 2 * 9 = 18\t\n",
            " 3 * 1 = 3\t 3 * 2 = 6\t 3 * 3 = 9\t 3 * 4 = 12\t 3 * 5 = 15\t 3 * 6 = 18\t 3 * 7 = 21\t 3 * 8 = 24\t 3 * 9 = 27\t\n",
            " 4 * 1 = 4\t 4 * 2 = 8\t 4 * 3 = 12\t 4 * 4 = 16\t 4 * 5 = 20\t 4 * 6 = 24\t 4 * 7 = 28\t 4 * 8 = 32\t 4 * 9 = 36\t\n",
            " 5 * 1 = 5\t 5 * 2 = 10\t 5 * 3 = 15\t 5 * 4 = 20\t 5 * 5 = 25\t 5 * 6 = 30\t 5 * 7 = 35\t 5 * 8 = 40\t 5 * 9 = 45\t\n",
            " 6 * 1 = 6\t 6 * 2 = 12\t 6 * 3 = 18\t 6 * 4 = 24\t 6 * 5 = 30\t 6 * 6 = 36\t 6 * 7 = 42\t 6 * 8 = 48\t 6 * 9 = 54\t\n",
            " 7 * 1 = 7\t 7 * 2 = 14\t 7 * 3 = 21\t 7 * 4 = 28\t 7 * 5 = 35\t 7 * 6 = 42\t 7 * 7 = 49\t 7 * 8 = 56\t 7 * 9 = 63\t\n",
            " 8 * 1 = 8\t 8 * 2 = 16\t 8 * 3 = 24\t 8 * 4 = 32\t 8 * 5 = 40\t 8 * 6 = 48\t 8 * 7 = 56\t 8 * 8 = 64\t 8 * 9 = 72\t\n",
            " 9 * 1 = 9\t 9 * 2 = 18\t 9 * 3 = 27\t 9 * 4 = 36\t 9 * 5 = 45\t 9 * 6 = 54\t 9 * 7 = 63\t 9 * 8 = 72\t 9 * 9 = 81\t\n"
          ],
          "name": "stdout"
        }
      ]
    },
    {
      "cell_type": "code",
      "metadata": {
        "colab": {
          "base_uri": "https://localhost:8080/"
        },
        "id": "S4EX1E2MoCkB",
        "outputId": "32db9ebe-4316-487b-ae00-8ae3525b8429"
      },
      "source": [
        "#전체 구구단 출력하기(세로)\n",
        "for i in range(2,10):\n",
        "    for j in range(1,10):\n",
        "        print(f' {j} * {i} = {i*j}', end='\\t')\n",
        "    print() #-->한줄 건너뛰기"
      ],
      "execution_count": null,
      "outputs": [
        {
          "output_type": "stream",
          "text": [
            " 1 * 2 = 2\t 2 * 2 = 4\t 3 * 2 = 6\t 4 * 2 = 8\t 5 * 2 = 10\t 6 * 2 = 12\t 7 * 2 = 14\t 8 * 2 = 16\t 9 * 2 = 18\t\n",
            " 1 * 3 = 3\t 2 * 3 = 6\t 3 * 3 = 9\t 4 * 3 = 12\t 5 * 3 = 15\t 6 * 3 = 18\t 7 * 3 = 21\t 8 * 3 = 24\t 9 * 3 = 27\t\n",
            " 1 * 4 = 4\t 2 * 4 = 8\t 3 * 4 = 12\t 4 * 4 = 16\t 5 * 4 = 20\t 6 * 4 = 24\t 7 * 4 = 28\t 8 * 4 = 32\t 9 * 4 = 36\t\n",
            " 1 * 5 = 5\t 2 * 5 = 10\t 3 * 5 = 15\t 4 * 5 = 20\t 5 * 5 = 25\t 6 * 5 = 30\t 7 * 5 = 35\t 8 * 5 = 40\t 9 * 5 = 45\t\n",
            " 1 * 6 = 6\t 2 * 6 = 12\t 3 * 6 = 18\t 4 * 6 = 24\t 5 * 6 = 30\t 6 * 6 = 36\t 7 * 6 = 42\t 8 * 6 = 48\t 9 * 6 = 54\t\n",
            " 1 * 7 = 7\t 2 * 7 = 14\t 3 * 7 = 21\t 4 * 7 = 28\t 5 * 7 = 35\t 6 * 7 = 42\t 7 * 7 = 49\t 8 * 7 = 56\t 9 * 7 = 63\t\n",
            " 1 * 8 = 8\t 2 * 8 = 16\t 3 * 8 = 24\t 4 * 8 = 32\t 5 * 8 = 40\t 6 * 8 = 48\t 7 * 8 = 56\t 8 * 8 = 64\t 9 * 8 = 72\t\n",
            " 1 * 9 = 9\t 2 * 9 = 18\t 3 * 9 = 27\t 4 * 9 = 36\t 5 * 9 = 45\t 6 * 9 = 54\t 7 * 9 = 63\t 8 * 9 = 72\t 9 * 9 = 81\t\n"
          ],
          "name": "stdout"
        }
      ]
    },
    {
      "cell_type": "markdown",
      "metadata": {
        "id": "aGCyxFZkqXIJ"
      },
      "source": [
        "##break \n",
        "반복에서 벗어나기\n",
        "\n",
        "문장 ' i have a dream'에서 찾을 문자를 입력받고, 해당 문자를 찾으면 반복을 종료한다."
      ]
    },
    {
      "cell_type": "code",
      "metadata": {
        "colab": {
          "base_uri": "https://localhost:8080/"
        },
        "id": "NXjhN0vrqeIV",
        "outputId": "54dec568-5b10-47ae-f5ab-ee7dac4c3b1e"
      },
      "source": [
        "#문장에서 헤당 문자를 찾으면 반복을 종료 한다\n",
        "t = 'I have a dream'\n",
        "letter =input('찾을 문자:')\n",
        "for i in t:\n",
        "    print(i,end=\" \")\n",
        "    if i == letter:  #다시듣기 \n",
        "        break ## d를 입력하면 d까지 찾고 출력멈춤.\n"
      ],
      "execution_count": null,
      "outputs": [
        {
          "output_type": "stream",
          "text": [
            "찾을 문자:c\n",
            "I   h a v e   a   d r e a m "
          ],
          "name": "stdout"
        }
      ]
    },
    {
      "cell_type": "code",
      "metadata": {
        "colab": {
          "base_uri": "https://localhost:8080/",
          "height": 143
        },
        "id": "NZANydXtqrwf",
        "outputId": "edabb6e4-0a39-4cb5-9e77-57e9471dd5de"
      },
      "source": [
        "#문장에서 헤당 문자를 찾으면 반복을 종료 한다\n",
        "t = 'I have a dream'\n",
        "letter =input('찾을 문자:')\n",
        "for i in t:\n",
        "    print(i,end=\" \")\n",
        "    if i == letter and cnt = 0 :\n",
        "        cnt =1\n",
        "    else:\n",
        "        break ## d를 입력하면 d까지 찾고 출력멈춤.\n"
      ],
      "execution_count": null,
      "outputs": [
        {
          "output_type": "error",
          "ename": "SyntaxError",
          "evalue": "ignored",
          "traceback": [
            "\u001b[0;36m  File \u001b[0;32m\"<ipython-input-139-44280358ed07>\"\u001b[0;36m, line \u001b[0;32m6\u001b[0m\n\u001b[0;31m    if i == letter and cnt = 0 :\u001b[0m\n\u001b[0m                           ^\u001b[0m\n\u001b[0;31mSyntaxError\u001b[0m\u001b[0;31m:\u001b[0m invalid syntax\n"
          ]
        }
      ]
    },
    {
      "cell_type": "code",
      "metadata": {
        "colab": {
          "base_uri": "https://localhost:8080/"
        },
        "id": "8CCUxaqgrrBp",
        "outputId": "bf79c36d-a88b-491b-989b-df8ef4d7ef9a"
      },
      "source": [
        "##up & down 게임 \n",
        "# 1~ 100사이의 정답 숫자를 랜덤으로 하나 정하고 정답숫자를 맞출때까지 숫자를 입력하는 게임이다.\n",
        "# 내가 입력한 숫자가 정답보다 작으면 'down',정답보다 크면 'up'을 출력하고 숫자를 다시입력받는다.\n",
        "#정답을 맞추면 '정답!'이라고 출력하고 게임을 끝낸다. \n",
        "\n",
        "import random\n",
        "r= random.randint(1,100)\n",
        "p = int(input('예상숫자:'))\n",
        "while r != p:\n",
        "    if r > p:\n",
        "        print('UP')\n",
        "        p = int(input('예상숫자:'))\n",
        "    elif r < p:\n",
        "        print('DOWN')\n",
        "        p = int(input('예상숫자:'))\n",
        "    \n",
        "print(f'정답은 {r}이 었습니다.')\n",
        "    \n",
        "        "
      ],
      "execution_count": null,
      "outputs": [
        {
          "output_type": "stream",
          "text": [
            "예상숫자:100\n",
            "DOWN\n",
            "예상숫자:90\n",
            "DOWN\n",
            "예상숫자:80\n",
            "DOWN\n",
            "예상숫자:50\n",
            "UP\n",
            "예상숫자:60\n",
            "DOWN\n",
            "예상숫자:55\n",
            "UP\n",
            "예상숫자:56\n",
            "정답은 56이 었습니다.\n"
          ],
          "name": "stdout"
        }
      ]
    },
    {
      "cell_type": "code",
      "metadata": {
        "colab": {
          "base_uri": "https://localhost:8080/"
        },
        "id": "rNxdAgZGtfw6",
        "outputId": "e63ebaf9-5868-4a99-f0e1-5416ee6507df"
      },
      "source": [
        "import random\n",
        "n = random.randint(1,100)\n",
        "answer = int(input('예상 숫자:'))\n",
        "while n != answer:\n",
        "    if answer > n:\n",
        "        print('DOWN')\n",
        "        answer = int(input('예상 숫자:'))\n",
        "    elif answer < n:\n",
        "        print('UP')\n",
        "        answer = int(input('예상 숫자:'))\n",
        "\n",
        "print(f' 정답은 {n} 이었습니다.')"
      ],
      "execution_count": null,
      "outputs": [
        {
          "output_type": "stream",
          "text": [
            "예상 숫자:100\n",
            "DOWN\n",
            "예상 숫자:50\n",
            "DOWN\n",
            "예상 숫자:4\n",
            "DOWN\n",
            "예상 숫자:2\n",
            "DOWN\n",
            "예상 숫자:1\n",
            " 정답은 1 이었습니다.\n"
          ],
          "name": "stdout"
        }
      ]
    },
    {
      "cell_type": "code",
      "metadata": {
        "id": "RxdlVjNrvV8N"
      },
      "source": [
        "import random\n",
        "n_answer = random.randint(1,100)\n",
        "n_inserted = int(input('숫자 입력: '))\n",
        "\n",
        "while n_inserted != n_answer: \n",
        "    if n_inserted < n_answer:\n",
        "        print(\"DOWN\")\n",
        "        n_inserted = int(input('숫자 입력: '))\n",
        "    else:\n",
        "        print(\"UP\")\n",
        "        n_inserted = int(input('숫자 입력: '))\n",
        "    \n",
        "        \n",
        "print(n_answer, \"정답!\")\n"
      ],
      "execution_count": null,
      "outputs": []
    },
    {
      "cell_type": "code",
      "metadata": {
        "id": "p1i_Uf_2v5WZ"
      },
      "source": [
        ""
      ],
      "execution_count": null,
      "outputs": []
    }
  ]
}