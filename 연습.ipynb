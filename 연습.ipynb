{
  "nbformat": 4,
  "nbformat_minor": 0,
  "metadata": {
    "colab": {
      "name": "연습.ipynb",
      "provenance": [],
      "authorship_tag": "ABX9TyNlwnmcYsNH02L+1jyArO2V",
      "include_colab_link": true
    },
    "kernelspec": {
      "name": "python3",
      "display_name": "Python 3"
    },
    "language_info": {
      "name": "python"
    }
  },
  "cells": [
    {
      "cell_type": "markdown",
      "metadata": {
        "id": "view-in-github",
        "colab_type": "text"
      },
      "source": [
        "<a href=\"https://colab.research.google.com/github/seonmk12/seonmins_colab/blob/master/%EC%97%B0%EC%8A%B5.ipynb\" target=\"_parent\"><img src=\"https://colab.research.google.com/assets/colab-badge.svg\" alt=\"Open In Colab\"/></a>"
      ]
    },
    {
      "cell_type": "code",
      "metadata": {
        "colab": {
          "base_uri": "https://localhost:8080/"
        },
        "id": "fkOiEBH4XDo7",
        "outputId": "6fcb3413-cadd-468b-f1ea-c7cb04bf9f51"
      },
      "source": [
        "n = 1\n",
        "print(n, type(n))\n",
        "print(id(n))"
      ],
      "execution_count": null,
      "outputs": [
        {
          "output_type": "stream",
          "text": [
            "1 <class 'int'>\n",
            "94823992871424\n"
          ],
          "name": "stdout"
        }
      ]
    },
    {
      "cell_type": "code",
      "metadata": {
        "colab": {
          "base_uri": "https://localhost:8080/"
        },
        "id": "pNx_8zR5Xd99",
        "outputId": "09cd3813-5a49-4c63-b7e8-86b82f20be23"
      },
      "source": [
        "n = False\n",
        "print(n)\n",
        "print(type(n))\n",
        "print(id(n))"
      ],
      "execution_count": null,
      "outputs": [
        {
          "output_type": "stream",
          "text": [
            "False\n",
            "<class 'bool'>\n",
            "94823992197408\n"
          ],
          "name": "stdout"
        }
      ]
    },
    {
      "cell_type": "code",
      "metadata": {
        "colab": {
          "base_uri": "https://localhost:8080/"
        },
        "id": "2ddsPEtyhbv9",
        "outputId": "45da6053-e9a4-4417-89fa-9cc5a590b7e1"
      },
      "source": [
        "n=[1,2,3]\n",
        "print(n)\n",
        "print(type(n))\n",
        "print(id(n))\n"
      ],
      "execution_count": null,
      "outputs": [
        {
          "output_type": "stream",
          "text": [
            "[1, 2, 3]\n",
            "<class 'list'>\n",
            "140681116838320\n"
          ],
          "name": "stdout"
        }
      ]
    },
    {
      "cell_type": "code",
      "metadata": {
        "colab": {
          "base_uri": "https://localhost:8080/"
        },
        "id": "D0FSnsqVhhXf",
        "outputId": "3db9e872-9c47-4d9a-8485-91064e95d01e"
      },
      "source": [
        "a = \"미래의 행복 보다는 '현재의 행복'이 중요하다.\"\n",
        "print(a)"
      ],
      "execution_count": null,
      "outputs": [
        {
          "output_type": "stream",
          "text": [
            "미래의 행복 보다는 '현재의 행복'이 중요하다.\n"
          ],
          "name": "stdout"
        }
      ]
    },
    {
      "cell_type": "code",
      "metadata": {
        "colab": {
          "base_uri": "https://localhost:8080/"
        },
        "id": "FdxfVHGTjT_J",
        "outputId": "af88fb26-736b-4515-b68d-ebd23f2190b3"
      },
      "source": [
        "#부울형 --> 참, 거짓을 나타냄\n",
        "a = 2>5\n",
        "a"
      ],
      "execution_count": null,
      "outputs": [
        {
          "output_type": "execute_result",
          "data": {
            "text/plain": [
              "False"
            ]
          },
          "metadata": {
            "tags": []
          },
          "execution_count": 6
        }
      ]
    },
    {
      "cell_type": "code",
      "metadata": {
        "colab": {
          "base_uri": "https://localhost:8080/"
        },
        "id": "DzYFaVwNjg1F",
        "outputId": "eb83561c-54f9-416b-dbd0-db31c1df131a"
      },
      "source": [
        "#숫자열 계산 \n",
        "a,b,c= 100,50,70\n",
        "print(a+b+c)"
      ],
      "execution_count": null,
      "outputs": [
        {
          "output_type": "stream",
          "text": [
            "220\n"
          ],
          "name": "stdout"
        }
      ]
    },
    {
      "cell_type": "code",
      "metadata": {
        "colab": {
          "base_uri": "https://localhost:8080/"
        },
        "id": "kUQVj4qAjvL9",
        "outputId": "2c755c47-6496-406f-a434-1b33eaab01b7"
      },
      "source": [
        "#문자열 계산 \n",
        "a,b= '90', '80'\n",
        "print(a+b)"
      ],
      "execution_count": null,
      "outputs": [
        {
          "output_type": "stream",
          "text": [
            "9080\n"
          ],
          "name": "stdout"
        }
      ]
    },
    {
      "cell_type": "code",
      "metadata": {
        "colab": {
          "base_uri": "https://localhost:8080/",
          "height": 212
        },
        "id": "OcB2E_evj5Cu",
        "outputId": "69d264ca-307f-43b9-c51d-d12a5ebb407c"
      },
      "source": [
        "#숫자열+문자열 --> error\n",
        "a,b = 90, '80'\n",
        "print(a+b)"
      ],
      "execution_count": null,
      "outputs": [
        {
          "output_type": "error",
          "ename": "TypeError",
          "evalue": "ignored",
          "traceback": [
            "\u001b[0;31m---------------------------------------------------------------------------\u001b[0m",
            "\u001b[0;31mTypeError\u001b[0m                                 Traceback (most recent call last)",
            "\u001b[0;32m<ipython-input-9-07de0b627c3a>\u001b[0m in \u001b[0;36m<module>\u001b[0;34m()\u001b[0m\n\u001b[1;32m      1\u001b[0m \u001b[0;31m#숫자열+문자열 --> error\u001b[0m\u001b[0;34m\u001b[0m\u001b[0;34m\u001b[0m\u001b[0;34m\u001b[0m\u001b[0m\n\u001b[1;32m      2\u001b[0m \u001b[0ma\u001b[0m\u001b[0;34m,\u001b[0m\u001b[0mb\u001b[0m \u001b[0;34m=\u001b[0m \u001b[0;36m90\u001b[0m\u001b[0;34m,\u001b[0m \u001b[0;34m'80'\u001b[0m\u001b[0;34m\u001b[0m\u001b[0;34m\u001b[0m\u001b[0m\n\u001b[0;32m----> 3\u001b[0;31m \u001b[0mprint\u001b[0m\u001b[0;34m(\u001b[0m\u001b[0ma\u001b[0m\u001b[0;34m+\u001b[0m\u001b[0mb\u001b[0m\u001b[0;34m)\u001b[0m\u001b[0;34m\u001b[0m\u001b[0;34m\u001b[0m\u001b[0m\n\u001b[0m",
            "\u001b[0;31mTypeError\u001b[0m: unsupported operand type(s) for +: 'int' and 'str'"
          ]
        }
      ]
    },
    {
      "cell_type": "code",
      "metadata": {
        "colab": {
          "base_uri": "https://localhost:8080/"
        },
        "id": "8TU7LWQMkFG_",
        "outputId": "76af1606-fcc1-4d7d-f1ec-ecc5df2742af"
      },
      "source": [
        "a,b = 90, '80'\n",
        "print(a+int(b))"
      ],
      "execution_count": null,
      "outputs": [
        {
          "output_type": "stream",
          "text": [
            "170\n"
          ],
          "name": "stdout"
        }
      ]
    },
    {
      "cell_type": "code",
      "metadata": {
        "colab": {
          "base_uri": "https://localhost:8080/"
        },
        "id": "P1U9u1_nkNAt",
        "outputId": "ec8d1738-446a-432a-866b-4e3becc888ee"
      },
      "source": [
        "name = input('취미를 입력하세요 :')\n",
        "print(name, '좋은 취미군요:)')"
      ],
      "execution_count": null,
      "outputs": [
        {
          "output_type": "stream",
          "text": [
            "취미를 입력하세요 :축구\n",
            "축구 좋은 취미군요:)\n"
          ],
          "name": "stdout"
        }
      ]
    },
    {
      "cell_type": "code",
      "metadata": {
        "colab": {
          "base_uri": "https://localhost:8080/"
        },
        "id": "8CxFVo6zke-4",
        "outputId": "db852e81-6d2d-418f-83a8-4a14a274bf0e"
      },
      "source": [
        "print(1+2)"
      ],
      "execution_count": null,
      "outputs": [
        {
          "output_type": "stream",
          "text": [
            "3\n"
          ],
          "name": "stdout"
        }
      ]
    },
    {
      "cell_type": "code",
      "metadata": {
        "colab": {
          "base_uri": "https://localhost:8080/"
        },
        "id": "q6cbUI2VktcV",
        "outputId": "7c376811-1a22-4b46-e12d-9b01fc9000ec"
      },
      "source": [
        "print(1+int('2'))"
      ],
      "execution_count": null,
      "outputs": [
        {
          "output_type": "stream",
          "text": [
            "3\n"
          ],
          "name": "stdout"
        }
      ]
    },
    {
      "cell_type": "code",
      "metadata": {
        "colab": {
          "base_uri": "https://localhost:8080/"
        },
        "id": "G3qfmJeBku0O",
        "outputId": "092b9328-4dab-40a4-9ed0-a553f1d3f26e"
      },
      "source": [
        "a = 3\n",
        "print(a)\n",
        "print(a+70)"
      ],
      "execution_count": null,
      "outputs": [
        {
          "output_type": "stream",
          "text": [
            "3\n",
            "73\n"
          ],
          "name": "stdout"
        }
      ]
    },
    {
      "cell_type": "code",
      "metadata": {
        "colab": {
          "base_uri": "https://localhost:8080/"
        },
        "id": "Tu2ozHPQk6vH",
        "outputId": "276a5d78-c5f9-4f81-c3a6-eabc9e6de306"
      },
      "source": [
        "print('helle','everyone')\n",
        "print('1 더하기 1은','귀요미')\n",
        "a= '김선민'\n",
        "print('나는',a,'입니다')"
      ],
      "execution_count": null,
      "outputs": [
        {
          "output_type": "stream",
          "text": [
            "helle everyone\n",
            "1 더하기 1은 귀요미\n",
            "나는 김선민 입니다\n"
          ],
          "name": "stdout"
        }
      ]
    },
    {
      "cell_type": "code",
      "metadata": {
        "colab": {
          "base_uri": "https://localhost:8080/"
        },
        "id": "i4BjMHvQlTqF",
        "outputId": "26d51978-e548-4119-c8be-c8c100e044c2"
      },
      "source": [
        "# f스트링 --> f'{변수} \n",
        "s = input('좋아하는 운동을 입력하시오. :')\n",
        "print(f' {s} 은 내일 할 수 있습니다.')\n"
      ],
      "execution_count": null,
      "outputs": [
        {
          "output_type": "stream",
          "text": [
            "좋아하는 운동을 입력하시오. :농구\n",
            " 농구 은 내일 할 수 있습니다.\n"
          ],
          "name": "stdout"
        }
      ]
    },
    {
      "cell_type": "code",
      "metadata": {
        "colab": {
          "base_uri": "https://localhost:8080/"
        },
        "id": "yy6PcRrwl3xj",
        "outputId": "f22007f6-8fc6-498b-a4d7-5d644bd48f06"
      },
      "source": [
        "print('두 수를 입력받아 더하는 프로그램 입니다.')\n",
        "f = input('첫번째 숫자를 입력하시오 :')\n",
        "s = input('두번째 숫자를 입력하시오 :')\n",
        "print(int(f)+int(s))"
      ],
      "execution_count": null,
      "outputs": [
        {
          "output_type": "stream",
          "text": [
            "두 수를 입력받아 더하는 프로그램 입니다.\n",
            "첫번째 숫자를 입력하시오 :5\n",
            "두번째 숫자를 입력하시오 :7\n",
            "12\n"
          ],
          "name": "stdout"
        }
      ]
    },
    {
      "cell_type": "code",
      "metadata": {
        "colab": {
          "base_uri": "https://localhost:8080/"
        },
        "id": "jXUf4zIfmRZF",
        "outputId": "d40a366b-2aa5-442d-de8d-2cbb72a16d20"
      },
      "source": [
        "x=99\n",
        "y=3\n",
        "print(x+y)\n",
        "print(x-y)\n",
        "print(x*y)\n",
        "print(x/y)\n",
        "print(x//y) #몫\n",
        "print(x%y) #나머지\n",
        "print(+x)\n",
        "print(-x) \n",
        "print(x**y)"
      ],
      "execution_count": null,
      "outputs": [
        {
          "output_type": "stream",
          "text": [
            "102\n",
            "96\n",
            "297\n",
            "33.0\n",
            "33\n",
            "0\n",
            "99\n",
            "-99\n",
            "970299\n"
          ],
          "name": "stdout"
        }
      ]
    },
    {
      "cell_type": "code",
      "metadata": {
        "colab": {
          "base_uri": "https://localhost:8080/"
        },
        "id": "zdzgXcvKm5E9",
        "outputId": "360367b1-ef2c-4f0f-b2ad-3f1ff4ac166e"
      },
      "source": [
        "print('섭씨 변환기')\n",
        "a = input('화씨온도:')\n",
        "a = int(a)\n",
        "print('섭씨온도:', (a-32)*5/9)"
      ],
      "execution_count": null,
      "outputs": [
        {
          "output_type": "stream",
          "text": [
            "섭씨 변환기\n",
            "화씨온도:100\n",
            "섭씨온도: 37.77777777777778\n"
          ],
          "name": "stdout"
        }
      ]
    },
    {
      "cell_type": "code",
      "metadata": {
        "colab": {
          "base_uri": "https://localhost:8080/"
        },
        "id": "KKlhqRrEnRVH",
        "outputId": "42d55380-794b-4cd6-b54d-2b24b72b5e21"
      },
      "source": [
        "print('삼각형 넓이 구하기')\n",
        "a = input('밑변 :')\n",
        "b = input('높이 :')\n",
        "a, b = int(a), int(b)\n",
        "print('삼각형의 넓이:',a*b/2)"
      ],
      "execution_count": null,
      "outputs": [
        {
          "output_type": "stream",
          "text": [
            "삼각형 넓이 구하기\n",
            "밑변 :3\n",
            "높이 :4\n",
            "삼각형의 넓이: 6.0\n"
          ],
          "name": "stdout"
        }
      ]
    },
    {
      "cell_type": "code",
      "metadata": {
        "colab": {
          "base_uri": "https://localhost:8080/"
        },
        "id": "mQEdPSWkn7JP",
        "outputId": "f98c4570-925e-44cc-fac7-2c75b7b58f8e"
      },
      "source": [
        "print('삼각형 넓이 구하기')\n",
        "a = int(input('밑변 :'))\n",
        "b = int(input('높이 :'))\n",
        "print('삼각형의 넓이:',a*b/2)"
      ],
      "execution_count": null,
      "outputs": [
        {
          "output_type": "stream",
          "text": [
            "삼각형 넓이 구하기\n",
            "밑변 :1\n",
            "높이 :5\n",
            "삼각형의 넓이: 2.5\n"
          ],
          "name": "stdout"
        }
      ]
    },
    {
      "cell_type": "code",
      "metadata": {
        "colab": {
          "base_uri": "https://localhost:8080/"
        },
        "id": "rtXc-2kNoWFk",
        "outputId": "a74cbccb-4ca1-4dd8-9a58-b615f714dd7a"
      },
      "source": [
        "x = 20\n",
        "x += 50\n",
        "print(x)\n",
        "x = x + 12\n",
        "print(x)"
      ],
      "execution_count": null,
      "outputs": [
        {
          "output_type": "stream",
          "text": [
            "70\n",
            "82\n"
          ],
          "name": "stdout"
        }
      ]
    },
    {
      "cell_type": "code",
      "metadata": {
        "colab": {
          "base_uri": "https://localhost:8080/"
        },
        "id": "oMTd1wEvosB-",
        "outputId": "ab5f5a7f-c876-4eb3-b8ce-408394c279bb"
      },
      "source": [
        "a = input('경기장을 입력하시오 :')\n",
        "b = input('이긴팀을 입력하시오 :')\n",
        "c= input('진팀을 입력하시오 :')\n",
        "d = input('VIP를 입력하시오 :')\n",
        "f = input('스코어를 입력하시오 :')\n",
        "print(f'''오늘 {a}에서 경기가 열렸습니다.\n",
        "{b}와 {c}은 치열한 공방전을 펼쳤습니다.\n",
        "{d}이(가) 맹활약을 펼쳤습니다.\n",
        "결국 {a}이(가) {c}을(를) {f}로 이겼습니다.''')\n"
      ],
      "execution_count": null,
      "outputs": [
        {
          "output_type": "stream",
          "text": [
            "경기장을 입력하시오 :올림픽경기장\n",
            "이긴팀을 입력하시오 :한국\n",
            "진팀을 입력하시오 :일본\n",
            "VIP를 입력하시오 :손흥민\n",
            "스코어를 입력하시오 :6:0\n",
            "오늘 올림픽경기장에서 경기가 열렸습니다.\n",
            "한국와 일본은 치열한 공방전을 펼쳤습니다.\n",
            "손흥민이(가) 맹활약을 펼쳤습니다.\n",
            "결국 올림픽경기장이(가) 일본을(를) 6:0로 이겼습니다.\n"
          ],
          "name": "stdout"
        }
      ]
    },
    {
      "cell_type": "code",
      "metadata": {
        "colab": {
          "base_uri": "https://localhost:8080/"
        },
        "id": "j8KE3gW6qY-A",
        "outputId": "6babe056-0db5-4711-9796-7253b62ce121"
      },
      "source": [
        "name = input('이름을 입력하세요:')\n",
        "a = int(input('국어성적을 입력하세요:'))\n",
        "b = int(input('영어성적을 입력하세요:'))\n",
        "c = int(input('수학성적을 입력하세요:'))\n",
        "print(f'평균성적은 {(a+b+c)/3} 입니다.')"
      ],
      "execution_count": null,
      "outputs": [
        {
          "output_type": "stream",
          "text": [
            "이름을 입력하세요:김선민\n",
            "국어성적을 입력하세요:90\n",
            "영어성적을 입력하세요:100\n",
            "수학성적을 입력하세요:50\n",
            "평균성적은 80.0 입니다.\n"
          ],
          "name": "stdout"
        }
      ]
    },
    {
      "cell_type": "code",
      "metadata": {
        "id": "fEKNm-0FrUix",
        "colab": {
          "base_uri": "https://localhost:8080/"
        },
        "outputId": "3e5d02ce-c029-4dca-d1f4-3b40d1269134"
      },
      "source": [
        "list1=[]\n",
        "\n",
        "for i in range(5):\n",
        "    list1.append(int(input('숫자를 입력하시오 :')))\n",
        "total = sum(list1)\n",
        "if len(list1) != 0:\n",
        "    average = sum(list1)/len(list1)\n",
        "else:\n",
        "    average = 0\n",
        "print(f' 합계: {total}, 평균: {average}')"
      ],
      "execution_count": null,
      "outputs": [
        {
          "output_type": "stream",
          "text": [
            "숫자를 입력하시오 :22\n",
            "숫자를 입력하시오 :11\n",
            "숫자를 입력하시오 :33\n",
            "숫자를 입력하시오 :44\n",
            "숫자를 입력하시오 :55\n",
            " 합계: 165, 평균: 33.0\n"
          ],
          "name": "stdout"
        }
      ]
    },
    {
      "cell_type": "code",
      "metadata": {
        "colab": {
          "base_uri": "https://localhost:8080/"
        },
        "id": "gutCxi72f-fX",
        "outputId": "44c2dcc5-4c20-4ed4-c5fa-b5f6899da8ad"
      },
      "source": [
        "#예제 2 주사위 빈도 계산하기 \n",
        "#주사위를 10000번 던져서 나오는 값들의 빈도를 계산하는 프로그램을 작성해보자.\n",
        "#즉, 1,2,3,4,5,6 이 몇번 나오는지 계산한다.\n",
        "#난수 발생 함수와 리스트를 사용한다. \n",
        "import random\n",
        "d = [0,0,0,0,0,0]\n",
        "for x in range(9999):\n",
        "    n = random.randint(1,6)\n",
        "    if n == 1:\n",
        "        d[0] += 1\n",
        "    elif n ==2:\n",
        "        d[1] += 1\n",
        "    elif n ==3:\n",
        "        d[2] += 1\n",
        "    elif n ==4:\n",
        "        d[3] += 1\n",
        "    elif n ==5:\n",
        "        d[4] += 1\n",
        "    elif n ==6:\n",
        "        d[5] += 1\n",
        "print(d)\n",
        "\n",
        "\n",
        "\n"
      ],
      "execution_count": null,
      "outputs": [
        {
          "output_type": "stream",
          "text": [
            "[1594, 1694, 1695, 1635, 1759, 1622]\n"
          ],
          "name": "stdout"
        }
      ]
    },
    {
      "cell_type": "code",
      "metadata": {
        "colab": {
          "base_uri": "https://localhost:8080/"
        },
        "id": "4dW99PdJh70N",
        "outputId": "fb3e7332-6b8e-4bea-b1d0-c4f5cb30cc1d"
      },
      "source": [
        "import random\n",
        "for n in range(10):\n",
        "    nn = random.randint(1,15)\n",
        "    if nn > 10: \n",
        "        print(nn, '10보다 큽니다.')\n",
        "    elif nn == 10: \n",
        "        print(nn, '10입니다.')\n",
        "    else:\n",
        "        print(nn, '10보다 작습니다')"
      ],
      "execution_count": null,
      "outputs": [
        {
          "output_type": "stream",
          "text": [
            "15 10보다 큽니다.\n",
            "7 10보다 작습니다\n",
            "4 10보다 작습니다\n",
            "11 10보다 큽니다.\n",
            "10 10입니다.\n",
            "14 10보다 큽니다.\n",
            "5 10보다 작습니다\n",
            "8 10보다 작습니다\n",
            "15 10보다 큽니다.\n",
            "6 10보다 작습니다\n"
          ],
          "name": "stdout"
        }
      ]
    },
    {
      "cell_type": "code",
      "metadata": {
        "colab": {
          "base_uri": "https://localhost:8080/"
        },
        "id": "BGSlizSqiwdA",
        "outputId": "9770171a-365d-4f62-8d3d-86e3548f2660"
      },
      "source": [
        "s=[[96,84,80],[96,86,76],[76,95,83],[89,96,69],[90,76,91],[82,66,88],[83,86,79],[85,90,83]]\n",
        "k = []\n",
        "e = []\n",
        "m = []\n",
        "for score in s: \n",
        "    k.append(score[0])\n",
        "    e.append(score[1])\n",
        "    m.append(score[2])\n",
        "print(k)\n",
        "print(e)\n",
        "print(m)\n",
        "aver1 = round(sum(k)/len(k),1)\n",
        "aver2 = round(sum(e)/len(e),1)\n",
        "aver3 = round(sum(m)/len(m),1)\n",
        "print(f'국어평균: {aver1}, 영어평균: {aver2}, 수학평균: {aver3}')"
      ],
      "execution_count": null,
      "outputs": [
        {
          "output_type": "stream",
          "text": [
            "[96, 96, 76, 89, 90, 82, 83, 85]\n",
            "[84, 86, 95, 96, 76, 66, 86, 90]\n",
            "[80, 76, 83, 69, 91, 88, 79, 83]\n",
            "국어평균: 87.1, 영어평균: 84.9, 수학평균: 81.1\n"
          ],
          "name": "stdout"
        }
      ]
    },
    {
      "cell_type": "code",
      "metadata": {
        "colab": {
          "base_uri": "https://localhost:8080/"
        },
        "id": "dFAJrnnAquJx",
        "outputId": "247f54b5-a0db-420e-9a4c-ab3da9201e50"
      },
      "source": [
        "#튜플 \n",
        "#튜플은 ()로 둘러 싼다는 점, 값이 바뀌면 안되는 경우에 사용됨. 튜플은 데이터 선언시 딱 제정 되기 떄문에 읽기도 빠르고, 정확하게 사용할 수 있다. \n",
        "t1 = (1,2,3)\n",
        "print(t1)"
      ],
      "execution_count": null,
      "outputs": [
        {
          "output_type": "stream",
          "text": [
            "(1, 2, 3)\n"
          ],
          "name": "stdout"
        }
      ]
    },
    {
      "cell_type": "code",
      "metadata": {
        "colab": {
          "base_uri": "https://localhost:8080/"
        },
        "id": "QPw5Gdfurrrj",
        "outputId": "428a7b7c-582c-46bc-dee6-a1fe07ecee63"
      },
      "source": [
        "t2 = 1,\n",
        "t2"
      ],
      "execution_count": null,
      "outputs": [
        {
          "output_type": "execute_result",
          "data": {
            "text/plain": [
              "(1,)"
            ]
          },
          "metadata": {
            "tags": []
          },
          "execution_count": 26
        }
      ]
    },
    {
      "cell_type": "code",
      "metadata": {
        "colab": {
          "base_uri": "https://localhost:8080/"
        },
        "id": "BTfVxvSprw9j",
        "outputId": "212851c6-9c9d-4b60-8bf1-235ff640882b"
      },
      "source": [
        "t1 = (1,5,3,4,2)   #리스트와 동일한 방법으로 튜플을 다룰 수 있다. ******다만 추가, 삽입,수정,원본리스트 정렬과 같이 데이터를 변경하는 것은 불가능\n",
        "t2 = (6,7,8,9,8)\n",
        "print(t1[1]) #인덱싱\n",
        "print(t1[2:4]) #슬라이싱\n",
        "print(t1+t2)   #더하기\n",
        "print(t1*3)#곱하기\n",
        "print(len(t1))#길이 구하기\n",
        "print(t2.index(9))#요소의 위치 찾기\n",
        "print(t2.count(8))#요소의 갯수\n",
        "sort_t1 = sorted(t1)#정렬된 새로운 ''리스트'' 반환\n",
        "print(sort_t1)"
      ],
      "execution_count": null,
      "outputs": [
        {
          "output_type": "stream",
          "text": [
            "5\n",
            "(3, 4)\n",
            "(1, 5, 3, 4, 2, 6, 7, 8, 9, 8)\n",
            "(1, 5, 3, 4, 2, 1, 5, 3, 4, 2, 1, 5, 3, 4, 2)\n",
            "5\n",
            "3\n",
            "2\n",
            "[1, 2, 3, 4, 5]\n"
          ],
          "name": "stdout"
        }
      ]
    },
    {
      "cell_type": "code",
      "metadata": {
        "colab": {
          "base_uri": "https://localhost:8080/"
        },
        "id": "CSjD9VBTr7HC",
        "outputId": "399c2fcc-e4f8-40a1-8f8a-7cd3cf24de58"
      },
      "source": [
        "values = [56,12,33,8,3,2,98]\n",
        "total = sum(values)\n",
        "print(total)"
      ],
      "execution_count": null,
      "outputs": [
        {
          "output_type": "stream",
          "text": [
            "212\n"
          ],
          "name": "stdout"
        }
      ]
    },
    {
      "cell_type": "code",
      "metadata": {
        "colab": {
          "base_uri": "https://localhost:8080/"
        },
        "id": "hTO__OKlsiAb",
        "outputId": "9c207965-c0e9-417d-e39f-c5fe9189b4e3"
      },
      "source": [
        "values = [56,12,33,8,3,2,98]\n",
        "total = 0\n",
        "for i in range(7):\n",
        "    total += values[i]\n",
        "total"
      ],
      "execution_count": null,
      "outputs": [
        {
          "output_type": "execute_result",
          "data": {
            "text/plain": [
              "212"
            ]
          },
          "metadata": {
            "tags": []
          },
          "execution_count": 33
        }
      ]
    },
    {
      "cell_type": "code",
      "metadata": {
        "colab": {
          "base_uri": "https://localhost:8080/"
        },
        "id": "9A5JE07yssCs",
        "outputId": "254f37c2-edb1-4fe9-dbd3-50b8859a3f17"
      },
      "source": [
        "values= [56,12,33,8,3,2,98]\n",
        "total = 0\n",
        "for i in values: #for문 리스트\n",
        "        total += i\n",
        "total"
      ],
      "execution_count": null,
      "outputs": [
        {
          "output_type": "execute_result",
          "data": {
            "text/plain": [
              "212"
            ]
          },
          "metadata": {
            "tags": []
          },
          "execution_count": 34
        }
      ]
    },
    {
      "cell_type": "code",
      "metadata": {
        "colab": {
          "base_uri": "https://localhost:8080/"
        },
        "id": "R75uu557tKLM",
        "outputId": "c8c03ea4-7f86-4f3f-e92c-fea1c0d4fa36"
      },
      "source": [
        "dicr_person = { 'name': '홍길동','phone':'010454564','age':35,'hobbies':['운동','독서']}\n",
        "dicr_person"
      ],
      "execution_count": null,
      "outputs": [
        {
          "output_type": "execute_result",
          "data": {
            "text/plain": [
              "{'age': 35, 'hobbies': ['운동', '독서'], 'name': '홍길동', 'phone': '010454564'}"
            ]
          },
          "metadata": {
            "tags": []
          },
          "execution_count": 35
        }
      ]
    },
    {
      "cell_type": "code",
      "metadata": {
        "colab": {
          "base_uri": "https://localhost:8080/"
        },
        "id": "6rd_teHUthr6",
        "outputId": "7ba97ccc-7a38-4d80-86f9-b397bee6e2f3"
      },
      "source": [
        "s = {\n",
        "    '홍길동': 100,\n",
        "     '수지': 900\n",
        "}\n",
        "s"
      ],
      "execution_count": null,
      "outputs": [
        {
          "output_type": "execute_result",
          "data": {
            "text/plain": [
              "{'수지': 900, '홍길동': 100}"
            ]
          },
          "metadata": {
            "tags": []
          },
          "execution_count": 36
        }
      ]
    },
    {
      "cell_type": "code",
      "metadata": {
        "colab": {
          "base_uri": "https://localhost:8080/"
        },
        "id": "JxA-jndrtujI",
        "outputId": "cfd1679b-dd6b-43f4-b257-a021bb6e4fe3"
      },
      "source": [
        "s = {}\n",
        "s['아이유'] = 999\n",
        "s['윈터'] = 700\n",
        "s['슬기'] = 1000\n",
        "s"
      ],
      "execution_count": null,
      "outputs": [
        {
          "output_type": "execute_result",
          "data": {
            "text/plain": [
              "{'슬기': 1000, '아이유': 999, '윈터': 700}"
            ]
          },
          "metadata": {
            "tags": []
          },
          "execution_count": 37
        }
      ]
    },
    {
      "cell_type": "code",
      "metadata": {
        "colab": {
          "base_uri": "https://localhost:8080/"
        },
        "id": "roT8Fl02uEGG",
        "outputId": "25dc6877-1039-4124-f0f9-52c5cf5a8968"
      },
      "source": [
        "s = {'아이유': 999, '윈터': 700, '슬기': 1000}\n",
        "del s['윈터']\n",
        "s"
      ],
      "execution_count": null,
      "outputs": [
        {
          "output_type": "execute_result",
          "data": {
            "text/plain": [
              "{'슬기': 1000, '아이유': 999}"
            ]
          },
          "metadata": {
            "tags": []
          },
          "execution_count": 38
        }
      ]
    },
    {
      "cell_type": "code",
      "metadata": {
        "colab": {
          "base_uri": "https://localhost:8080/"
        },
        "id": "LPjTR_GkuWVo",
        "outputId": "a16b8ac3-da8d-4b72-aac0-e8d89cf332bc"
      },
      "source": [
        "s = {'아이유': 999, '윈터': 700, '슬기': 1000}\n",
        "w = s.pop('윈터')\n",
        "print(w)\n",
        "s"
      ],
      "execution_count": null,
      "outputs": [
        {
          "output_type": "stream",
          "text": [
            "700\n"
          ],
          "name": "stdout"
        },
        {
          "output_type": "execute_result",
          "data": {
            "text/plain": [
              "{'슬기': 1000, '아이유': 999}"
            ]
          },
          "metadata": {
            "tags": []
          },
          "execution_count": 39
        }
      ]
    },
    {
      "cell_type": "code",
      "metadata": {
        "colab": {
          "base_uri": "https://localhost:8080/"
        },
        "id": "ILGJ_Mszuiiq",
        "outputId": "e11adf43-dcf9-4ab3-fd78-6c7888327a87"
      },
      "source": [
        "d_scores = {\n",
        "    '홍길동':100,\n",
        "    '아버지':200,\n",
        "    '어머니':300 \n",
        " }\n",
        "a = d_scores.pop('홍길동')\n",
        "print(a)\n",
        "d_scores "
      ],
      "execution_count": null,
      "outputs": [
        {
          "output_type": "stream",
          "text": [
            "100\n"
          ],
          "name": "stdout"
        },
        {
          "output_type": "execute_result",
          "data": {
            "text/plain": [
              "{'아버지': 200, '어머니': 300}"
            ]
          },
          "metadata": {
            "tags": []
          },
          "execution_count": 40
        }
      ]
    },
    {
      "cell_type": "code",
      "metadata": {
        "colab": {
          "base_uri": "https://localhost:8080/"
        },
        "id": "d67yxbJDuqqG",
        "outputId": "c83e7e5c-1b59-47fb-d9b1-3c9c3bd4d4ec"
      },
      "source": [
        "#딕셔너리 모든요소 삭제 -  딕셔너리명.clear()\n",
        "d_scores = {\n",
        "    '홍길동':100,\n",
        "    '아버지':200,\n",
        "    '어머니':300 \n",
        " }\n",
        "d_scores.clear()\n",
        "d_scores "
      ],
      "execution_count": null,
      "outputs": [
        {
          "output_type": "execute_result",
          "data": {
            "text/plain": [
              "{}"
            ]
          },
          "metadata": {
            "tags": []
          },
          "execution_count": 41
        }
      ]
    },
    {
      "cell_type": "code",
      "metadata": {
        "colab": {
          "base_uri": "https://localhost:8080/"
        },
        "id": "0ghAOE7Luy56",
        "outputId": "f40544e5-bf30-4f5f-b63d-45f071f80357"
      },
      "source": [
        "s = {'아이유': 999, '윈터': 700, '슬기': 1000}\n",
        "s['아이유'] = 1200\n",
        "s"
      ],
      "execution_count": null,
      "outputs": [
        {
          "output_type": "execute_result",
          "data": {
            "text/plain": [
              "{'슬기': 1000, '아이유': 1200, '윈터': 700}"
            ]
          },
          "metadata": {
            "tags": []
          },
          "execution_count": 42
        }
      ]
    },
    {
      "cell_type": "code",
      "metadata": {
        "colab": {
          "base_uri": "https://localhost:8080/"
        },
        "id": "9_DSetoYu_4i",
        "outputId": "67abfe40-7023-4f0d-efb5-80a66bfd9554"
      },
      "source": [
        "d_scores = {\n",
        "    '홍길동':100,\n",
        "    '아버지':200,\n",
        "    '어머니':300 \n",
        " }\n",
        "d_scores['어머니']"
      ],
      "execution_count": null,
      "outputs": [
        {
          "output_type": "execute_result",
          "data": {
            "text/plain": [
              "300"
            ]
          },
          "metadata": {
            "tags": []
          },
          "execution_count": 43
        }
      ]
    },
    {
      "cell_type": "code",
      "metadata": {
        "colab": {
          "base_uri": "https://localhost:8080/"
        },
        "id": "QCvMOZi2vEy8",
        "outputId": "e187b3b2-095c-4963-af05-3dccb4ab47f4"
      },
      "source": [
        "d_scores = {\n",
        "    '홍길동':100,\n",
        "    '아버지':200,\n",
        "    '어머니':300 \n",
        "}\n",
        "'어머니' in d_scores"
      ],
      "execution_count": null,
      "outputs": [
        {
          "output_type": "execute_result",
          "data": {
            "text/plain": [
              "True"
            ]
          },
          "metadata": {
            "tags": []
          },
          "execution_count": 44
        }
      ]
    },
    {
      "cell_type": "code",
      "metadata": {
        "colab": {
          "base_uri": "https://localhost:8080/"
        },
        "id": "Oe4lCnTWvOFG",
        "outputId": "4e6fe234-39de-400d-dfd8-620066ef13e1"
      },
      "source": [
        "s = {'아이유': 999, '윈터': 700, '슬기': 1000}\n",
        "'유진' in s"
      ],
      "execution_count": null,
      "outputs": [
        {
          "output_type": "execute_result",
          "data": {
            "text/plain": [
              "False"
            ]
          },
          "metadata": {
            "tags": []
          },
          "execution_count": 45
        }
      ]
    },
    {
      "cell_type": "code",
      "metadata": {
        "colab": {
          "base_uri": "https://localhost:8080/"
        },
        "id": "mRnH4ozSvea7",
        "outputId": "39e251f7-f9ff-4045-cc7f-9ce1c095c66e"
      },
      "source": [
        "d_scores = {\n",
        "    '홍길동':100,\n",
        "    '아버지':200,\n",
        "    '어머니':300 \n",
        "}\n",
        "for key in d_scores.keys(): \n",
        "    print(lies(key, d_scores[key])"
      ],
      "execution_count": null,
      "outputs": [
        {
          "output_type": "stream",
          "text": [
            "홍길동 100\n",
            "아버지 200\n",
            "어머니 300\n"
          ],
          "name": "stdout"
        }
      ]
    },
    {
      "cell_type": "code",
      "metadata": {
        "colab": {
          "base_uri": "https://localhost:8080/"
        },
        "id": "QFTQMYz6vmmG",
        "outputId": "654c9d75-77c3-4af1-bf94-3c319ce4d435"
      },
      "source": [
        "s = {'아이유': 999, '윈터': 700, '슬기': 1000}\n",
        "print(s.keys())\n",
        "print(list(s.keys()))"
      ],
      "execution_count": null,
      "outputs": [
        {
          "output_type": "stream",
          "text": [
            "dict_keys(['아이유', '윈터', '슬기'])\n",
            "['아이유', '윈터', '슬기']\n"
          ],
          "name": "stdout"
        }
      ]
    },
    {
      "cell_type": "code",
      "metadata": {
        "colab": {
          "base_uri": "https://localhost:8080/"
        },
        "id": "L0pp7NLMv2yo",
        "outputId": "a31e6fd7-eb36-43ad-e507-1e1beb9dea59"
      },
      "source": [
        "dicr_score = { \n",
        "    '홍길동':80, \n",
        "    '공유':90,\n",
        "    '현빈':100}\n",
        "print(dicr_score.items())# --> 객체로 반환    *튜플형식으로 반환됨.\n",
        "print(list(dicr_score.items())) #--> 객체를 리스트로 변환하여 사용 "
      ],
      "execution_count": null,
      "outputs": [
        {
          "output_type": "stream",
          "text": [
            "dict_items([('홍길동', 80), ('공유', 90), ('현빈', 100)])\n",
            "[('홍길동', 80), ('공유', 90), ('현빈', 100)]\n"
          ],
          "name": "stdout"
        }
      ]
    },
    {
      "cell_type": "code",
      "metadata": {
        "colab": {
          "base_uri": "https://localhost:8080/"
        },
        "id": "tVN7wX7ZwNKb",
        "outputId": "146ed765-36ef-49cf-c5ba-0d37428fd199"
      },
      "source": [
        "#모든 value만 얻기\n",
        "#딕셔너리명.values()\n",
        "dicr_score = { \n",
        "    '홍길동':80, \n",
        "    '공유':90,\n",
        "    '현빈':100}\n",
        "print(dicr_score.values())# --> value를 객체로 반환\n",
        "print(list(dicr_score.values())) #--> 객체를 리스트로 변환하여 사용 "
      ],
      "execution_count": null,
      "outputs": [
        {
          "output_type": "stream",
          "text": [
            "dict_values([80, 90, 100])\n",
            "[80, 90, 100]\n"
          ],
          "name": "stdout"
        }
      ]
    },
    {
      "cell_type": "code",
      "metadata": {
        "colab": {
          "base_uri": "https://localhost:8080/"
        },
        "id": "dJE8WvxdwQ9J",
        "outputId": "739b64a4-3127-4828-de90-db129f8706e3"
      },
      "source": [
        "s = {'아이유': 999, '윈터': 700, '슬기': 1000}\n",
        "print(s.values())\n",
        "print(list(s.values()))"
      ],
      "execution_count": null,
      "outputs": [
        {
          "output_type": "stream",
          "text": [
            "dict_values([999, 700, 1000])\n",
            "[999, 700, 1000]\n"
          ],
          "name": "stdout"
        }
      ]
    },
    {
      "cell_type": "code",
      "metadata": {
        "colab": {
          "base_uri": "https://localhost:8080/"
        },
        "id": "skkTxOTbwUwY",
        "outputId": "8a1f242b-6792-4eb5-b18a-ce1cae726c31"
      },
      "source": [
        "s = {'아이유': 999, '윈터': 700, '슬기': 1000}\n",
        "print(s.items())\n",
        "print(list(s.items()))"
      ],
      "execution_count": null,
      "outputs": [
        {
          "output_type": "stream",
          "text": [
            "dict_items([('아이유', 999), ('윈터', 700), ('슬기', 1000)])\n",
            "[('아이유', 999), ('윈터', 700), ('슬기', 1000)]\n"
          ],
          "name": "stdout"
        }
      ]
    },
    {
      "cell_type": "code",
      "metadata": {
        "colab": {
          "base_uri": "https://localhost:8080/"
        },
        "id": "QvsQNullwjJX",
        "outputId": "2e2b041a-796e-461b-b28b-eeb47eac33fb"
      },
      "source": [
        "s = {'아이유': 999, '윈터': 700, '슬기': 1000}\n",
        "for x in s.keys():\n",
        "    print(x,s[x])"
      ],
      "execution_count": null,
      "outputs": [
        {
          "output_type": "stream",
          "text": [
            "아이유 999\n",
            "윈터 700\n",
            "슬기 1000\n"
          ],
          "name": "stdout"
        }
      ]
    },
    {
      "cell_type": "code",
      "metadata": {
        "colab": {
          "base_uri": "https://localhost:8080/"
        },
        "id": "A7WAFAGmwxya",
        "outputId": "1c3edaeb-d60c-4d99-8cf7-41dca7c7096a"
      },
      "source": [
        "s = {'아이유': 999, '윈터': 700, '슬기': 1000}\n",
        "for key,value in s.items():\n",
        "    print(key,value)"
      ],
      "execution_count": null,
      "outputs": [
        {
          "output_type": "stream",
          "text": [
            "아이유 999\n",
            "윈터 700\n",
            "슬기 1000\n"
          ],
          "name": "stdout"
        }
      ]
    },
    {
      "cell_type": "code",
      "metadata": {
        "colab": {
          "base_uri": "https://localhost:8080/"
        },
        "id": "JBQqFloMxBBr",
        "outputId": "c4351576-a15e-44ee-ef12-64e5a396209b"
      },
      "source": [
        "d_scores = {\n",
        "    '홍길동':100,\n",
        "    '아버지':200,\n",
        "    '어머니':300 \n",
        "}\n",
        "# key sort하여 리스트로 받음\n",
        "s_keys = sorted(d_scores.keys())\n",
        "print(s_keys)\n",
        "# 정렬된 키 리스트 순서로 반복\n",
        "for i in s_keys: \n",
        "    print(key, d_scores[i])"
      ],
      "execution_count": null,
      "outputs": [
        {
          "output_type": "stream",
          "text": [
            "['아버지', '어머니', '홍길동']\n",
            "슬기 200\n",
            "슬기 300\n",
            "슬기 100\n"
          ],
          "name": "stdout"
        }
      ]
    },
    {
      "cell_type": "code",
      "metadata": {
        "colab": {
          "base_uri": "https://localhost:8080/",
          "height": 230
        },
        "id": "Y_6fJIxYxfb6",
        "outputId": "af3b4bdd-db19-4961-d9dc-5a755ef02fe5"
      },
      "source": [
        "s = {'아이유': 999, '윈터': 700, '슬기': 1000}\n",
        "so = sorted(s.keys())\n",
        "print(so)\n",
        "for i in so:\n",
        "    print(key, so[i])"
      ],
      "execution_count": null,
      "outputs": [
        {
          "output_type": "stream",
          "text": [
            "['슬기', '아이유', '윈터']\n"
          ],
          "name": "stdout"
        },
        {
          "output_type": "error",
          "ename": "TypeError",
          "evalue": "ignored",
          "traceback": [
            "\u001b[0;31m---------------------------------------------------------------------------\u001b[0m",
            "\u001b[0;31mTypeError\u001b[0m                                 Traceback (most recent call last)",
            "\u001b[0;32m<ipython-input-65-1b9b0440820d>\u001b[0m in \u001b[0;36m<module>\u001b[0;34m()\u001b[0m\n\u001b[1;32m      3\u001b[0m \u001b[0mprint\u001b[0m\u001b[0;34m(\u001b[0m\u001b[0mso\u001b[0m\u001b[0;34m)\u001b[0m\u001b[0;34m\u001b[0m\u001b[0;34m\u001b[0m\u001b[0m\n\u001b[1;32m      4\u001b[0m \u001b[0;32mfor\u001b[0m \u001b[0mi\u001b[0m \u001b[0;32min\u001b[0m \u001b[0mso\u001b[0m\u001b[0;34m:\u001b[0m\u001b[0;34m\u001b[0m\u001b[0;34m\u001b[0m\u001b[0m\n\u001b[0;32m----> 5\u001b[0;31m     \u001b[0mprint\u001b[0m\u001b[0;34m(\u001b[0m\u001b[0mkey\u001b[0m\u001b[0;34m,\u001b[0m \u001b[0mso\u001b[0m\u001b[0;34m[\u001b[0m\u001b[0mi\u001b[0m\u001b[0;34m]\u001b[0m\u001b[0;34m)\u001b[0m\u001b[0;34m\u001b[0m\u001b[0;34m\u001b[0m\u001b[0m\n\u001b[0m",
            "\u001b[0;31mTypeError\u001b[0m: list indices must be integers or slices, not str"
          ]
        }
      ]
    },
    {
      "cell_type": "code",
      "metadata": {
        "colab": {
          "base_uri": "https://localhost:8080/"
        },
        "id": "y8Jm5P12yOxE",
        "outputId": "a074a312-6f30-4c2b-ad46-98cdac50ae27"
      },
      "source": [
        "s = {'아이유': 999, '윈터': 700, '슬기': 1000}\n",
        "ss = sorted(s.items())\n",
        "print(ss)\n",
        "for key, value in ss:\n",
        "    print(key,value)"
      ],
      "execution_count": null,
      "outputs": [
        {
          "output_type": "stream",
          "text": [
            "[('슬기', 1000), ('아이유', 999), ('윈터', 700)]\n",
            "슬기 1000\n",
            "아이유 999\n",
            "윈터 700\n"
          ],
          "name": "stdout"
        }
      ]
    },
    {
      "cell_type": "code",
      "metadata": {
        "colab": {
          "base_uri": "https://localhost:8080/"
        },
        "id": "mG_I1OADy5Tu",
        "outputId": "b6fc6fa2-c464-4ed1-e2e8-c279e1635d27"
      },
      "source": [
        "#회사 쇼핑몰 고객의 아이디에 부여된 마일리지 포인트를 딕셔너리에 저장하여 관리하고자 한다. \n",
        "#아이디 : kim, lee,han,hong,hwamg\n",
        "#마일리지: 12000,11000,3000,5000,18000\n",
        "#1. 위의 표에 나타난 아이디와 마일이지 포인트를 딕셔너리에 저장한 다음 출력하는 프로그램을 작성하시오.#요소수정 #딕셔너리명[key]=value\n",
        "#2. 아이디  han의 마일리지를 5000점으로 업데이트를 하시오. -->요소수정 #딕셔너리명[key]=value\n",
        "#3. 아이디 jang의 마일리지 7000을 추가하시오 #딕셔너리명[key] = value\n",
        "#4. 딕셔너리에서 가장 높은 마일리지를 찾아서 출려하는 프로그램을 작성하시오. max 사용\n",
        "s = {'kim':12000,'lee':11000,'han':3000,'hong':5000,'hwang':18000}\n",
        "s"
      ],
      "execution_count": null,
      "outputs": [
        {
          "output_type": "execute_result",
          "data": {
            "text/plain": [
              "{'han': 3000, 'hong': 5000, 'hwang': 18000, 'kim': 12000, 'lee': 11000}"
            ]
          },
          "metadata": {
            "tags": []
          },
          "execution_count": 68
        }
      ]
    },
    {
      "cell_type": "code",
      "metadata": {
        "colab": {
          "base_uri": "https://localhost:8080/"
        },
        "id": "lzIejMu81_r_",
        "outputId": "ed2f65e8-41f0-4a48-ac34-f4c07d949968"
      },
      "source": [
        "s= {}\n",
        "s['kim'] = 12000\n",
        "s['lee'] = 11000\n",
        "s['han'] = 3000\n",
        "s['hong'] = 5000\n",
        "s['hwang'] = 18000\n",
        "for key,value in s.items():\n",
        "    print(key, value)\n",
        "s['han'] = 5000\n",
        "print(s.items())\n",
        "s['jang'] = 7000\n",
        "print(s.items())\n",
        "max(s.values())"
      ],
      "execution_count": null,
      "outputs": [
        {
          "output_type": "stream",
          "text": [
            "kim 12000\n",
            "lee 11000\n",
            "han 3000\n",
            "hong 5000\n",
            "hwang 18000\n",
            "dict_items([('kim', 12000), ('lee', 11000), ('han', 5000), ('hong', 5000), ('hwang', 18000)])\n",
            "dict_items([('kim', 12000), ('lee', 11000), ('han', 5000), ('hong', 5000), ('hwang', 18000), ('jang', 7000)])\n"
          ],
          "name": "stdout"
        },
        {
          "output_type": "execute_result",
          "data": {
            "text/plain": [
              "18000"
            ]
          },
          "metadata": {
            "tags": []
          },
          "execution_count": 75
        }
      ]
    },
    {
      "cell_type": "code",
      "metadata": {
        "colab": {
          "base_uri": "https://localhost:8080/"
        },
        "id": "idmP7PFj2Ocu",
        "outputId": "347c4cd3-dd83-4dfb-e54a-45eef81e941a"
      },
      "source": [
        ""
      ],
      "execution_count": null,
      "outputs": [
        {
          "output_type": "execute_result",
          "data": {
            "text/plain": [
              "{'han': 3000, 'hong': 5000, 'hwang': 18000, 'kim': 12000, 'lee': 11000}"
            ]
          },
          "metadata": {
            "tags": []
          },
          "execution_count": 70
        }
      ]
    },
    {
      "cell_type": "code",
      "metadata": {
        "colab": {
          "base_uri": "https://localhost:8080/",
          "height": 265
        },
        "id": "FIdg47xy2UVd",
        "outputId": "6fda28c9-a8e9-4755-e064-1886490e38d8"
      },
      "source": [
        "dic={}\n",
        "while True:\n",
        "    e = input('영어를 입력하시오:')\n",
        "    if e =='':\n",
        "        break\n",
        "    k = input('뜻을 입력하시오:')\n",
        "    dic[e] == k\n",
        "dic"
      ],
      "execution_count": null,
      "outputs": [
        {
          "output_type": "stream",
          "text": [
            "영어를 입력하시오:11\n",
            "뜻을 입력하시오:한글\n"
          ],
          "name": "stdout"
        },
        {
          "output_type": "error",
          "ename": "KeyError",
          "evalue": "ignored",
          "traceback": [
            "\u001b[0;31m---------------------------------------------------------------------------\u001b[0m",
            "\u001b[0;31mKeyError\u001b[0m                                  Traceback (most recent call last)",
            "\u001b[0;32m<ipython-input-83-2654713f89db>\u001b[0m in \u001b[0;36m<module>\u001b[0;34m()\u001b[0m\n\u001b[1;32m      5\u001b[0m         \u001b[0;32mbreak\u001b[0m\u001b[0;34m\u001b[0m\u001b[0;34m\u001b[0m\u001b[0m\n\u001b[1;32m      6\u001b[0m     \u001b[0mk\u001b[0m \u001b[0;34m=\u001b[0m \u001b[0minput\u001b[0m\u001b[0;34m(\u001b[0m\u001b[0;34m'뜻을 입력하시오:'\u001b[0m\u001b[0;34m)\u001b[0m\u001b[0;34m\u001b[0m\u001b[0;34m\u001b[0m\u001b[0m\n\u001b[0;32m----> 7\u001b[0;31m     \u001b[0mdic\u001b[0m\u001b[0;34m[\u001b[0m\u001b[0me\u001b[0m\u001b[0;34m]\u001b[0m \u001b[0;34m==\u001b[0m \u001b[0mk\u001b[0m\u001b[0;34m\u001b[0m\u001b[0;34m\u001b[0m\u001b[0m\n\u001b[0m\u001b[1;32m      8\u001b[0m \u001b[0mdic\u001b[0m\u001b[0;34m\u001b[0m\u001b[0;34m\u001b[0m\u001b[0m\n",
            "\u001b[0;31mKeyError\u001b[0m: '11'"
          ]
        }
      ]
    },
    {
      "cell_type": "code",
      "metadata": {
        "colab": {
          "base_uri": "https://localhost:8080/"
        },
        "id": "0H8qDCq_31yj",
        "outputId": "e9492689-0e3c-4111-e161-4cfe04d906b0"
      },
      "source": [
        "dv = {}\n",
        "while True: #트루 값이면 계속 반복하라는 뜻. \n",
        "    e = input('eng:')  #키값\n",
        "    if e =='': \n",
        "        break #빈칸이면 멈춤. \n",
        "    k = input('kor:') #value값 \n",
        "    dv[e] = k\n",
        "dv"
      ],
      "execution_count": null,
      "outputs": [
        {
          "output_type": "stream",
          "text": [
            "eng:apple\n",
            "kor:사과\n",
            "eng:banana\n",
            "kor:바나나\n",
            "eng:\n"
          ],
          "name": "stdout"
        },
        {
          "output_type": "execute_result",
          "data": {
            "text/plain": [
              "{'apple': '사과', 'banana': '바나나'}"
            ]
          },
          "metadata": {
            "tags": []
          },
          "execution_count": 84
        }
      ]
    },
    {
      "cell_type": "code",
      "metadata": {
        "colab": {
          "base_uri": "https://localhost:8080/"
        },
        "id": "BNCU0XbP4UkA",
        "outputId": "b84d8cf9-c687-42ab-cd4b-1a9ad67988df"
      },
      "source": [
        "score = 0 #단어 테스트 \n",
        "for e in dv.keys(): #key값을 가져오고 \n",
        "    k = input(e+':') # input 받은 값을 가져옴 ':' 커서 깜박\n",
        "    if k == dv[e] : #input 받은 값과 동일 한지 \n",
        "        score+=1\n",
        "print(f'맞은개수/전체단어수: {score}/{len(dv)}')"
      ],
      "execution_count": null,
      "outputs": [
        {
          "output_type": "stream",
          "text": [
            "apple:사과\n",
            "banana:바나나\n",
            "맞은개수/전체단어수: 2/2\n"
          ],
          "name": "stdout"
        }
      ]
    },
    {
      "cell_type": "code",
      "metadata": {
        "id": "1XNRuKW05lSN",
        "colab": {
          "base_uri": "https://localhost:8080/"
        },
        "outputId": "72159aae-81f0-45d3-ee22-152f47df46fd"
      },
      "source": [
        "x= {}\n",
        "while True: \n",
        "    product = input('물건이름:')\n",
        "    if product =='':\n",
        "        break\n",
        "    num = int(input('갯수:'))\n",
        "    if product in x.keys():\n",
        "        x[product] += num\n",
        "    else:\n",
        "        x[product] = num\n",
        "print(x)\n",
        "for key, value in sorted(x.items()):\n",
        "    print(key, value, end = '')"
      ],
      "execution_count": null,
      "outputs": [
        {
          "output_type": "stream",
          "text": [
            "물건이름:과자\n",
            "갯수:10\n",
            "물건이름:음료수\n",
            "갯수:100\n",
            "물건이름:사탕\n",
            "갯수:500\n",
            "물건이름:\n",
            "{'과자': 10, '음료수': 100, '사탕': 500}\n",
            "과자 10사탕 500음료수 100"
          ],
          "name": "stdout"
        }
      ]
    },
    {
      "cell_type": "code",
      "metadata": {
        "colab": {
          "base_uri": "https://localhost:8080/"
        },
        "id": "PApsz6KUuQ4C",
        "outputId": "5ef3379d-5ad0-4fec-f353-6ea9cd372d2d"
      },
      "source": [
        "d = { \n",
        "    '홍길동':80, \n",
        "    '공유':90,\n",
        "    '현빈':100}\n",
        "s = sorted(d.items())\n",
        "#정렬된 키 리스트 순서로 반복\n",
        "for i in s:\n",
        "    print(key, value)"
      ],
      "execution_count": null,
      "outputs": [
        {
          "output_type": "stream",
          "text": [
            "음료수 100\n",
            "음료수 100\n",
            "음료수 100\n"
          ],
          "name": "stdout"
        }
      ]
    },
    {
      "cell_type": "markdown",
      "metadata": {
        "id": "k4Qfg1GWvMjb"
      },
      "source": [
        "##반복문\n",
        "지정한 조건이 충족될 때까지 명령문이나 명령문 블록을 여러번 실행하는 구조\n",
        "횟수 제어 for --> 반복이 시작되기 전에 반복횟수를 지정하여 무한 루프에 빠지지 않는다.\n",
        "\n",
        "조건제어반복 while --> 반복횟수는 조건에 따라 달라진다. 무한루프에 빠질 수 있다. \n",
        "\n",
        "## 기본 형식 for i(제어변수) in 시퀀스:\n"
      ]
    },
    {
      "cell_type": "code",
      "metadata": {
        "id": "YlwALeLyuoss",
        "colab": {
          "base_uri": "https://localhost:8080/"
        },
        "outputId": "4b32a212-9035-4f6b-eca1-ae6a324c43fa"
      },
      "source": [
        "for i in [1,2,3,4,5]:\n",
        "    print(i)"
      ],
      "execution_count": null,
      "outputs": [
        {
          "output_type": "stream",
          "text": [
            "1\n",
            "2\n",
            "3\n",
            "4\n",
            "5\n"
          ],
          "name": "stdout"
        }
      ]
    },
    {
      "cell_type": "code",
      "metadata": {
        "colab": {
          "base_uri": "https://localhost:8080/"
        },
        "id": "SwWpzvhi1g52",
        "outputId": "03004067-ae42-4cc6-b5ff-f3a3d7113429"
      },
      "source": [
        "for i in 'python':\n",
        "    print(i)"
      ],
      "execution_count": null,
      "outputs": [
        {
          "output_type": "stream",
          "text": [
            "p\n",
            "y\n",
            "t\n",
            "h\n",
            "o\n",
            "n\n"
          ],
          "name": "stdout"
        }
      ]
    },
    {
      "cell_type": "code",
      "metadata": {
        "colab": {
          "base_uri": "https://localhost:8080/"
        },
        "id": "_jOyG0qo1nwo",
        "outputId": "707bba08-5319-4d04-dc3c-0c57b68f1d50"
      },
      "source": [
        "for i in range(1,6): # 5보다 하나 작은 항목 값\n",
        "    print(i) #--> 1~5까지 범위의 요소를 반복하여 i에 넣어라!!! \n",
        "    "
      ],
      "execution_count": null,
      "outputs": [
        {
          "output_type": "stream",
          "text": [
            "1\n",
            "2\n",
            "3\n",
            "4\n",
            "5\n"
          ],
          "name": "stdout"
        }
      ]
    },
    {
      "cell_type": "code",
      "metadata": {
        "colab": {
          "base_uri": "https://localhost:8080/"
        },
        "id": "8UIILCXM1-iE",
        "outputId": "f2b64069-5b63-4665-c1d8-3ab99ef77385"
      },
      "source": [
        "for i in range(1): # 5보다 하나 작은 항목 값 --> 1은 끝값임 시작값 0이 생략된 것.\n",
        "    print(i) #--> 시퀀스(range 범위)에 있는 값들이 제어변수에 하나씩 할당되며 값이 할당될때마다 명령블록이 실행됨.\n"
      ],
      "execution_count": null,
      "outputs": [
        {
          "output_type": "stream",
          "text": [
            "0\n"
          ],
          "name": "stdout"
        }
      ]
    },
    {
      "cell_type": "markdown",
      "metadata": {
        "id": "8sZDT5GJ290G"
      },
      "source": [
        "##range() 함수\n",
        "일정한 범위의 정수들을 생성한다.\n",
        "시작값 생략가능(기본값:0)\n",
        "끝값은 생략불가\n",
        "증가값 생략가능(기본값:1)"
      ]
    },
    {
      "cell_type": "code",
      "metadata": {
        "colab": {
          "base_uri": "https://localhost:8080/"
        },
        "id": "RoZDT7-T2xBW",
        "outputId": "3119d499-64bd-481c-ef5d-a59fb80e2be5"
      },
      "source": [
        "for i in range(5):\n",
        "    print(i) #--> 세로로 값들이 출력되지만 print(i, end = \" \")를 지정해주면 줄이 바뀌지 않고 가로로 출력됨"
      ],
      "execution_count": null,
      "outputs": [
        {
          "output_type": "stream",
          "text": [
            "0\n",
            "1\n",
            "2\n",
            "3\n",
            "4\n"
          ],
          "name": "stdout"
        }
      ]
    },
    {
      "cell_type": "code",
      "metadata": {
        "colab": {
          "base_uri": "https://localhost:8080/"
        },
        "id": "qeHe1Hch3XYk",
        "outputId": "b2705391-2a00-46c8-93a6-e99ac9de63b9"
      },
      "source": [
        "for i in range(5):\n",
        "    print(i,end= \" \")"
      ],
      "execution_count": null,
      "outputs": [
        {
          "output_type": "stream",
          "text": [
            "0 1 2 3 4 "
          ],
          "name": "stdout"
        }
      ]
    },
    {
      "cell_type": "code",
      "metadata": {
        "colab": {
          "base_uri": "https://localhost:8080/"
        },
        "id": "I6MYUGTy3qPJ",
        "outputId": "0c81eed4-e7ee-4484-9f90-2d28b8b56466"
      },
      "source": [
        "for i in range(0,100,10):\n",
        "    print(i,end= '\\t') # \\t  --> 탭 end='\\'은 출력될 값들이 tap한만큼 띄어지고 가로로 출력값들이 나열됨."
      ],
      "execution_count": null,
      "outputs": [
        {
          "output_type": "stream",
          "text": [
            "0\t10\t20\t30\t40\t50\t60\t70\t80\t90\t"
          ],
          "name": "stdout"
        }
      ]
    },
    {
      "cell_type": "code",
      "metadata": {
        "colab": {
          "base_uri": "https://localhost:8080/"
        },
        "id": "5ihrpvyg3uFs",
        "outputId": "4d6d9982-1079-4390-f013-6a1d607a6380"
      },
      "source": [
        "#range함수-역순\n",
        "for i in range(10,0,-1):\n",
        "    print(i,end= \" \")"
      ],
      "execution_count": null,
      "outputs": [
        {
          "output_type": "stream",
          "text": [
            "10 9 8 7 6 5 4 3 2 1 "
          ],
          "name": "stdout"
        }
      ]
    },
    {
      "cell_type": "code",
      "metadata": {
        "id": "rPrJhXV-4BcV"
      },
      "source": [
        "#range함수-역순\n",
        "for i in range(1,10,-1): # --> 역수로 표현하기 위해서는 시작값이 마지막 값보다 커야함.\n",
        "    print(i,end= \" \") "
      ],
      "execution_count": null,
      "outputs": []
    },
    {
      "cell_type": "code",
      "metadata": {
        "colab": {
          "base_uri": "https://localhost:8080/"
        },
        "id": "oWcMe6qC4JjW",
        "outputId": "718b9d3f-c3db-4b54-a4e4-731f6d1255c8"
      },
      "source": [
        "for i in range(5):\n",
        "    print('Hello World!!') #--> 문자열은 그대로 범위만큼 반복됨(범위가 -1이 아님) "
      ],
      "execution_count": null,
      "outputs": [
        {
          "output_type": "stream",
          "text": [
            "Hello World!!\n",
            "Hello World!!\n",
            "Hello World!!\n",
            "Hello World!!\n",
            "Hello World!!\n"
          ],
          "name": "stdout"
        }
      ]
    },
    {
      "cell_type": "markdown",
      "metadata": {
        "id": "6BfHb4Sq4iF7"
      },
      "source": [
        "#조건 제어 반복: while 구조\n",
        "\n",
        "조건식의 결과가 True인 동안 반복된다. \n",
        "조건식의 결과가 False가 되면 반복을 빠져나온다. \n",
        "\n",
        "# while 조건식 : 명령 블록"
      ]
    },
    {
      "cell_type": "code",
      "metadata": {
        "colab": {
          "base_uri": "https://localhost:8080/"
        },
        "id": "Nt22xEZS4TII",
        "outputId": "1ddb28fd-c8d4-46e1-ee9a-68d4b7fe0295"
      },
      "source": [
        "i = 0# 전환되는 변수 i값을 줌, 루프의 조건식에 사용되는 변수는 루프에 들어가기 전에 초기화되어야 한다.\n",
        "while i <= 5:\n",
        "    #i가 5보다 같거나, 작을때 까지만 반복해줘\n",
        "    i = i + 1\n",
        "    print(i,end= ' ')\n",
        "    # 출력하는데 1씩 더해            ##루프의 조건식에 사용되는 변수 값은 루프 내에서 변경되어야 한다.\n",
        "#변수 i에 1이 할당된다.\n",
        "#1>=5가 검사된다\n",
        "#참이므로 1을 출력하고 i에 1을 더하여 i는 2가 된다. \n",
        "#이렇게 쭉 이어짐\n",
        "#5 --> 1을 더하면 6이되서 false가 되기 때문에 while문에서 벗어나게 된다."
      ],
      "execution_count": null,
      "outputs": [
        {
          "output_type": "stream",
          "text": [
            "1 2 3 4 5 6 "
          ],
          "name": "stdout"
        }
      ]
    },
    {
      "cell_type": "code",
      "metadata": {
        "id": "WlRPVYad40Di"
      },
      "source": [
        "i = 1 \n",
        "while i <=5: # i는 1, 1은 영원히 5보다 작기 때문에 무한대로 11111111111이 출려됨\n",
        "    print(i,end='')\n",
        "print('end')"
      ],
      "execution_count": null,
      "outputs": []
    },
    {
      "cell_type": "code",
      "metadata": {
        "colab": {
          "base_uri": "https://localhost:8080/"
        },
        "id": "Ti1j1ZKt6iYL",
        "outputId": "f55e1b42-e282-41c8-a60f-8f664e969944"
      },
      "source": [
        "#예제 q를 입력할때까지 반복하여 이름 입력 받기\n",
        "#q를 입력할때까지 반복하여 이름을 입력받는 프로그햄을 작성하시오.\n",
        "#조건반복으로만 할 수 있다.(q를 입력하지 않았으면 반복)\n",
        "\n",
        "name = ''\n",
        "while name != 'q':\n",
        "    name = input('이름을 입력하세요:')\n",
        "    print(name)"
      ],
      "execution_count": null,
      "outputs": [
        {
          "output_type": "stream",
          "text": [
            "이름을 입력하세요:dd\n",
            "dd\n",
            "이름을 입력하세요:ss\n",
            "ss\n",
            "이름을 입력하세요:ss\n",
            "ss\n",
            "이름을 입력하세요:\n",
            "\n",
            "이름을 입력하세요:q\n",
            "q\n"
          ],
          "name": "stdout"
        }
      ]
    },
    {
      "cell_type": "code",
      "metadata": {
        "colab": {
          "base_uri": "https://localhost:8080/"
        },
        "id": "uaAkIqGe7reZ",
        "outputId": "726a544f-36a1-4c1d-c986-d34f61f91ed4"
      },
      "source": [
        "#5개의 정수를 입력받아(입력:5번 반복) 합계를 구하여(처리) 출력하는 프로그램을 작성하시오.\n",
        "sum1 = 0\n",
        "for i in range(5):\n",
        "    sum1 += int(input('정수입력:'))\n",
        "print('합계출력: ',sum1)\n"
      ],
      "execution_count": null,
      "outputs": [
        {
          "output_type": "stream",
          "text": [
            "정수입력:5\n",
            "정수입력:5\n",
            "정수입력:5\n",
            "정수입력:5\n",
            "정수입력:5\n",
            "합계출력:  25\n"
          ],
          "name": "stdout"
        }
      ]
    },
    {
      "cell_type": "code",
      "metadata": {
        "colab": {
          "base_uri": "https://localhost:8080/"
        },
        "id": "_PPjOZsx8QX-",
        "outputId": "e4aed135-d46c-4d13-fead-98e6aaa21b01"
      },
      "source": [
        "#n개의 정수를 입력받아 합계 구하기 \n",
        "#사용자로부터 n값을 입력받고\n",
        "#n개의 정수를 입력받아 합계를 구하여 출력하는 프로그램을 작성하시오.\n",
        "n = int(input('몇개의 숫자를 더할까요? :'))\n",
        "sum1 = 0\n",
        "for i in range(n):\n",
        "    num = int(input('정수를 입력하시오: '))\n",
        "    sum1 += num\n",
        "print('합계출력:', sum1)"
      ],
      "execution_count": null,
      "outputs": [
        {
          "output_type": "stream",
          "text": [
            "몇개의 숫자를 더할까요? :3\n",
            "정수를 입력하시오: 15\n",
            "정수를 입력하시오: 99\n",
            "정수를 입력하시오: 100\n",
            "합계출력: 214\n"
          ],
          "name": "stdout"
        }
      ]
    },
    {
      "cell_type": "code",
      "metadata": {
        "colab": {
          "base_uri": "https://localhost:8080/"
        },
        "id": "nWTeF3W69yZq",
        "outputId": "74105a44-e6f5-4a2a-8c8e-d95f642c4f45"
      },
      "source": [
        "n = int(input('몇개의 숫자를 더할까요? :'))\n",
        "sum1 = 0\n",
        "for i in range(n):\n",
        "    sum1 += int(input('정수를 입력하시오: '))\n",
        "    \n",
        "print('합계출력:', sum1)"
      ],
      "execution_count": null,
      "outputs": [
        {
          "output_type": "stream",
          "text": [
            "몇개의 숫자를 더할까요? :2\n",
            "정수를 입력하시오: 999999\n",
            "정수를 입력하시오: 1\n",
            "합계출력: 1000000\n"
          ],
          "name": "stdout"
        }
      ]
    },
    {
      "cell_type": "code",
      "metadata": {
        "colab": {
          "base_uri": "https://localhost:8080/"
        },
        "id": "uL7Mrn1d9-Zm",
        "outputId": "ed261e08-c474-4000-8eac-148d2f9e11e8"
      },
      "source": [
        "# n 개의 정수를 입력 받아 짝수의 합계를 구하여 출력하는 프로그램을 작성하시오\n",
        "n = int(input('몇개의 숫자를 더할까요? :'))\n",
        "sum1 = 0\n",
        "for i in range(n):\n",
        "    num = int(input('정수를 입력하시오: '))\n",
        "    if num % 2 == 0:\n",
        "        sum1 += num\n",
        "    \n",
        "print('합계출력:', sum1)"
      ],
      "execution_count": null,
      "outputs": [
        {
          "output_type": "stream",
          "text": [
            "몇개의 숫자를 더할까요? :4\n",
            "정수를 입력하시오: 1\n",
            "정수를 입력하시오: 2\n",
            "정수를 입력하시오: 3\n",
            "정수를 입력하시오: 4\n",
            "합계출력: 6\n"
          ],
          "name": "stdout"
        }
      ]
    },
    {
      "cell_type": "code",
      "metadata": {
        "colab": {
          "base_uri": "https://localhost:8080/"
        },
        "id": "SX9JXvYC-c7j",
        "outputId": "6ed0f1de-ad6d-486a-8335-2e13c500c00b"
      },
      "source": [
        "n = int(input('몇개의 숫자를 더할까요? :'))\n",
        "sum1 = 0\n",
        "for i in range(n):\n",
        "    num = int(input('정수를 입력하시오: '))\n",
        "    if num % 2 == 1:\n",
        "        sum1 += num\n",
        "    \n",
        "print('합계출력:', sum1)"
      ],
      "execution_count": null,
      "outputs": [
        {
          "output_type": "stream",
          "text": [
            "몇개의 숫자를 더할까요? :4\n",
            "정수를 입력하시오: 1\n",
            "정수를 입력하시오: 2\n",
            "정수를 입력하시오: 3\n",
            "정수를 입력하시오: 4\n",
            "합계출력: 4\n"
          ],
          "name": "stdout"
        }
      ]
    },
    {
      "cell_type": "code",
      "metadata": {
        "colab": {
          "base_uri": "https://localhost:8080/"
        },
        "id": "csHy9DsD-uTy",
        "outputId": "f5fc527b-a741-4032-ae16-5db1b4fbb417"
      },
      "source": [
        "#0이 입력될때까지 숫자를 입력받아 합계 구하기\n",
        "#0이 입력될때까지 사용가자 숫자를 입력하고, 입력이 끝나면 입력된 숫자들의 합이 출력되는 프로그램을 작성하시오\n",
        "sum1 = 0\n",
        "num = int(input('숫자입력:'))\n",
        "while num != 0:\n",
        "    sum1 +=num\n",
        "    num = int(input('숫자입력: '))# --> 입력받은 값이 0이 아닐때 입력 받은 수를 더하고 다음 숫자를 입력하도록 하기 위해 \n",
        "print('합계:', sum1)"
      ],
      "execution_count": null,
      "outputs": [
        {
          "output_type": "stream",
          "text": [
            "숫자입력:3\n",
            "숫자입력: 4\n",
            "숫자입력: 5\n",
            "숫자입력: 0\n",
            "합계: 12\n"
          ],
          "name": "stdout"
        }
      ]
    },
    {
      "cell_type": "code",
      "metadata": {
        "colab": {
          "base_uri": "https://localhost:8080/"
        },
        "id": "svZFDbdf_2j8",
        "outputId": "75e6a21c-b3a8-4b8d-e49f-8fd463d036c4"
      },
      "source": [
        "#예제 1~n까지 더하는 프로그램을 작성하세요.\n",
        "#숫자 n을 입력받아 1~n까지의 합을 구하여 출력하는 파이썬 프로그램을 작성하세요.\n",
        "sum1=0 \n",
        "n = int(input('1부터 몇까지 더할까요? :'))\n",
        "for i in range(1,n+1):\n",
        "    sum1 += i\n",
        "    print(i)\n",
        "print(f'1부터 {n}까지 더한 합계는: {sum1}')"
      ],
      "execution_count": null,
      "outputs": [
        {
          "output_type": "stream",
          "text": [
            "1부터 몇까지 더할까요? :10\n",
            "1\n",
            "2\n",
            "3\n",
            "4\n",
            "5\n",
            "6\n",
            "7\n",
            "8\n",
            "9\n",
            "10\n",
            "1부터 10까지 더한 합계는: 55\n"
          ],
          "name": "stdout"
        }
      ]
    },
    {
      "cell_type": "code",
      "metadata": {
        "id": "Cox7GlLxJUcv"
      },
      "source": [
        "#예제 n1~n2까지 더하는 프로그램을 작성하세요. \n",
        "#숫자 n1,n2를 입력받아 n1~n2까지의 합을 구하여 출력하는 파이썬 프로그램을 작성하세요.\n",
        "sum1=0\n",
        "n1 =int(input('몇부터 입력할까요? : '))\n",
        "n2 = int(input('몇까지 더할까요? : '))\n",
        "for i in range(n1,n2+1):\n",
        "    sum1 += i \n",
        "    print(i)\n",
        "print(f'{n1}부터 {n2}까지 더한 합계는 {sum1} 입니다.')"
      ],
      "execution_count": null,
      "outputs": []
    },
    {
      "cell_type": "code",
      "metadata": {
        "colab": {
          "base_uri": "https://localhost:8080/"
        },
        "id": "Uw06sB79FGfN",
        "outputId": "fbe53f67-250b-4c94-e969-c371caeb9f33"
      },
      "source": [
        "#임의의 개수 숫자의 평균구하기\n",
        "#사용자에게 n개의 숫자를 입력받아(몇개 숫자 입력할지, 숫자 입력 --> 2가지의 input값을 받아야함) 그 숫자들의 평균을 계산해서 출력하는 파이썬 프로그램을 작성하세요.\n",
        "n = int(input('입력받을 정수의 개수 : '))\n",
        "sum1 = 0\n",
        "for i in range(n):\n",
        "    num = int(input('정수를 입력하시오 : '))\n",
        "    sum1 += num\n",
        "if n == 0:\n",
        "    print('0개의 정수를 입력하셨습니다.')\n",
        "else:\n",
        "    print('평균',sum1/n)"
      ],
      "execution_count": null,
      "outputs": [
        {
          "output_type": "stream",
          "text": [
            "입력받을 정수의 개수 : 0\n",
            "0개의 정수를 입력하셨습니다.\n"
          ],
          "name": "stdout"
        }
      ]
    },
    {
      "cell_type": "code",
      "metadata": {
        "colab": {
          "base_uri": "https://localhost:8080/"
        },
        "id": "RdTUpPmoJGDx",
        "outputId": "f1674995-5dc2-444a-9639-c098b2994715"
      },
      "source": [
        "#팩토리얼 계산하기 \n",
        "#정수를 n을 입력받아 n!을 계산하는 프로그램을 작성하세요.\n",
        "n = int(input('몇 팩토리얼? :'))\n",
        "f = 1\n",
        "for i in range(n,0,-1):\n",
        "    f *= i\n",
        "    print(i,f)\n",
        "print(f'{n}! = {f}')"
      ],
      "execution_count": null,
      "outputs": [
        {
          "output_type": "stream",
          "text": [
            "몇 팩토리얼? :5\n",
            "5 5\n",
            "4 20\n",
            "3 60\n",
            "2 120\n",
            "1 120\n",
            "5! = 120\n"
          ],
          "name": "stdout"
        }
      ]
    },
    {
      "cell_type": "code",
      "metadata": {
        "colab": {
          "base_uri": "https://localhost:8080/"
        },
        "id": "JKso5avnKj4e",
        "outputId": "4d6ad6ae-0ce9-4830-c88a-882b3572d19c"
      },
      "source": [
        "#예제 구구단 \n",
        "#정수 n을 받아 구구단을 계산하는 프로그램을 작성하세요.\n",
        "n = int(input('구구단 몇단을 출력할까요? :'))\n",
        "for i in range(1,10):\n",
        "    print(f'{n} * {i} = {n*i}')"
      ],
      "execution_count": null,
      "outputs": [
        {
          "output_type": "stream",
          "text": [
            "구구단 몇단을 출력할까요? :10\n",
            "10 * 1 = 10\n",
            "10 * 2 = 20\n",
            "10 * 3 = 30\n",
            "10 * 4 = 40\n",
            "10 * 5 = 50\n",
            "10 * 6 = 60\n",
            "10 * 7 = 70\n",
            "10 * 8 = 80\n",
            "10 * 9 = 90\n"
          ],
          "name": "stdout"
        }
      ]
    },
    {
      "cell_type": "code",
      "metadata": {
        "colab": {
          "base_uri": "https://localhost:8080/"
        },
        "id": "30UNeRKoMfZd",
        "outputId": "369da9ba-be1b-4c7b-8a9f-9179b1e8adf8"
      },
      "source": [
        "#중첩반복구조 \n",
        "for i in range (3): # i, j : 내부 루프와 외부루프는 동일한 제어변수를 사용해서는 안됨\n",
        "    for j in range(5): ## 내부 for문을 외부 for문의 시퀀스 만큼 반복한다. \n",
        "        print(i,j)        # j는  하나 i의 범위 만큼 반복함 e.g. 0~4까지 범위에서 3번 반복\n",
        "                         #i는 외부 시퀀스 만큼 반복 e.g. 0~2까지 범위에서 5번 반복\n"
      ],
      "execution_count": null,
      "outputs": [
        {
          "output_type": "stream",
          "text": [
            "0 0\n",
            "0 1\n",
            "0 2\n",
            "0 3\n",
            "0 4\n",
            "1 0\n",
            "1 1\n",
            "1 2\n",
            "1 3\n",
            "1 4\n",
            "2 0\n",
            "2 1\n",
            "2 2\n",
            "2 3\n",
            "2 4\n"
          ],
          "name": "stdout"
        }
      ]
    },
    {
      "cell_type": "code",
      "metadata": {
        "colab": {
          "base_uri": "https://localhost:8080/"
        },
        "id": "K7K8zq-EMqvE",
        "outputId": "a2ceb073-b481-45f6-beca-ea7e477664cf"
      },
      "source": [
        "for i in range (1,3): # i, j : 내부 루프와 외부루프는 동일한 제어변수를 사용해서는 안됨\n",
        "    for j in range(1,5): ## 내부 for문을 외부 for문의 시퀀스 만큼 반복한다. \n",
        "        print(i,j) "
      ],
      "execution_count": null,
      "outputs": [
        {
          "output_type": "stream",
          "text": [
            "1 1\n",
            "1 2\n",
            "1 3\n",
            "1 4\n",
            "2 1\n",
            "2 2\n",
            "2 3\n",
            "2 4\n"
          ],
          "name": "stdout"
        }
      ]
    },
    {
      "cell_type": "code",
      "metadata": {
        "colab": {
          "base_uri": "https://localhost:8080/"
        },
        "id": "p_Q5MPfCZaNX",
        "outputId": "6d20f526-22f9-4b85-f41a-3833d9fe86c3"
      },
      "source": [
        "#전체 구구단 출력하기(가로)\n",
        "for i in range(2,10):\n",
        "    for j in range(1,10):\n",
        "        print(f' {i} * {j} = {i*j}', end='\\t')\n",
        "    print()"
      ],
      "execution_count": null,
      "outputs": [
        {
          "output_type": "stream",
          "text": [
            " 2 * 1 = 2\t 2 * 2 = 4\t 2 * 3 = 6\t 2 * 4 = 8\t 2 * 5 = 10\t 2 * 6 = 12\t 2 * 7 = 14\t 2 * 8 = 16\t 2 * 9 = 18\t\n",
            " 3 * 1 = 3\t 3 * 2 = 6\t 3 * 3 = 9\t 3 * 4 = 12\t 3 * 5 = 15\t 3 * 6 = 18\t 3 * 7 = 21\t 3 * 8 = 24\t 3 * 9 = 27\t\n",
            " 4 * 1 = 4\t 4 * 2 = 8\t 4 * 3 = 12\t 4 * 4 = 16\t 4 * 5 = 20\t 4 * 6 = 24\t 4 * 7 = 28\t 4 * 8 = 32\t 4 * 9 = 36\t\n",
            " 5 * 1 = 5\t 5 * 2 = 10\t 5 * 3 = 15\t 5 * 4 = 20\t 5 * 5 = 25\t 5 * 6 = 30\t 5 * 7 = 35\t 5 * 8 = 40\t 5 * 9 = 45\t\n",
            " 6 * 1 = 6\t 6 * 2 = 12\t 6 * 3 = 18\t 6 * 4 = 24\t 6 * 5 = 30\t 6 * 6 = 36\t 6 * 7 = 42\t 6 * 8 = 48\t 6 * 9 = 54\t\n",
            " 7 * 1 = 7\t 7 * 2 = 14\t 7 * 3 = 21\t 7 * 4 = 28\t 7 * 5 = 35\t 7 * 6 = 42\t 7 * 7 = 49\t 7 * 8 = 56\t 7 * 9 = 63\t\n",
            " 8 * 1 = 8\t 8 * 2 = 16\t 8 * 3 = 24\t 8 * 4 = 32\t 8 * 5 = 40\t 8 * 6 = 48\t 8 * 7 = 56\t 8 * 8 = 64\t 8 * 9 = 72\t\n",
            " 9 * 1 = 9\t 9 * 2 = 18\t 9 * 3 = 27\t 9 * 4 = 36\t 9 * 5 = 45\t 9 * 6 = 54\t 9 * 7 = 63\t 9 * 8 = 72\t 9 * 9 = 81\t\n"
          ],
          "name": "stdout"
        }
      ]
    },
    {
      "cell_type": "code",
      "metadata": {
        "colab": {
          "base_uri": "https://localhost:8080/"
        },
        "id": "8ZzOryZhZ3js",
        "outputId": "e820cac2-5c63-455c-d11e-dc22e1826182"
      },
      "source": [
        "for i in range(2,10):\n",
        "    for j in range(1,10):\n",
        "        print(f' {j} * {i} = {i*j}', end='\\t')\n",
        "    print()"
      ],
      "execution_count": null,
      "outputs": [
        {
          "output_type": "stream",
          "text": [
            " 1 * 2 = 2\t 2 * 2 = 4\t 3 * 2 = 6\t 4 * 2 = 8\t 5 * 2 = 10\t 6 * 2 = 12\t 7 * 2 = 14\t 8 * 2 = 16\t 9 * 2 = 18\t\n",
            " 1 * 3 = 3\t 2 * 3 = 6\t 3 * 3 = 9\t 4 * 3 = 12\t 5 * 3 = 15\t 6 * 3 = 18\t 7 * 3 = 21\t 8 * 3 = 24\t 9 * 3 = 27\t\n",
            " 1 * 4 = 4\t 2 * 4 = 8\t 3 * 4 = 12\t 4 * 4 = 16\t 5 * 4 = 20\t 6 * 4 = 24\t 7 * 4 = 28\t 8 * 4 = 32\t 9 * 4 = 36\t\n",
            " 1 * 5 = 5\t 2 * 5 = 10\t 3 * 5 = 15\t 4 * 5 = 20\t 5 * 5 = 25\t 6 * 5 = 30\t 7 * 5 = 35\t 8 * 5 = 40\t 9 * 5 = 45\t\n",
            " 1 * 6 = 6\t 2 * 6 = 12\t 3 * 6 = 18\t 4 * 6 = 24\t 5 * 6 = 30\t 6 * 6 = 36\t 7 * 6 = 42\t 8 * 6 = 48\t 9 * 6 = 54\t\n",
            " 1 * 7 = 7\t 2 * 7 = 14\t 3 * 7 = 21\t 4 * 7 = 28\t 5 * 7 = 35\t 6 * 7 = 42\t 7 * 7 = 49\t 8 * 7 = 56\t 9 * 7 = 63\t\n",
            " 1 * 8 = 8\t 2 * 8 = 16\t 3 * 8 = 24\t 4 * 8 = 32\t 5 * 8 = 40\t 6 * 8 = 48\t 7 * 8 = 56\t 8 * 8 = 64\t 9 * 8 = 72\t\n",
            " 1 * 9 = 9\t 2 * 9 = 18\t 3 * 9 = 27\t 4 * 9 = 36\t 5 * 9 = 45\t 6 * 9 = 54\t 7 * 9 = 63\t 8 * 9 = 72\t 9 * 9 = 81\t\n"
          ],
          "name": "stdout"
        }
      ]
    },
    {
      "cell_type": "code",
      "metadata": {
        "colab": {
          "base_uri": "https://localhost:8080/"
        },
        "id": "ffKgwvwmaGIc",
        "outputId": "fda6ff7d-5f44-484b-fbe2-61afb1b71c6e"
      },
      "source": [
        "#문장에서 헤당 문자를 찾으면 반복을 종료 한다\n",
        "t = 'I have a dream'\n",
        "letter =input('찾을 문자:')\n",
        "for i in t:\n",
        "    print(i,end=\" \")\n",
        "    if i == letter:  #다시듣기 \n",
        "        break ## d를 입력하면 d까지 찾고 출력멈춤."
      ],
      "execution_count": null,
      "outputs": [
        {
          "output_type": "stream",
          "text": [
            "찾을 문자:\n",
            "I   h a v e   a   d r e a m "
          ],
          "name": "stdout"
        }
      ]
    },
    {
      "cell_type": "code",
      "metadata": {
        "colab": {
          "base_uri": "https://localhost:8080/"
        },
        "id": "kFQs6lZkaVFm",
        "outputId": "0f44047f-0cf4-440d-8951-f4e944dff53f"
      },
      "source": [
        "##up & down 게임 \n",
        "# 1~ 100사이의 정답 숫자를 랜덤으로 하나 정하고 정답숫자를 맞출때까지 숫자를 입력하는 게임이다.\n",
        "# 내가 입력한 숫자가 정답보다 작으면 'down',정답보다 크면 'up'을 출력하고 숫자를 다시입력받는다.\n",
        "#정답을 맞추면 '정답!'이라고 출력하고 게임을 끝낸다. \n",
        "import random\n",
        "r = random.randint(1,100)\n",
        "p = int(input('예상숫자를 입력하시오:'))\n",
        "while r != p:\n",
        "    if r > p:\n",
        "        print('up')\n",
        "        p = int(input('예상숫자를 입력하시오:'))\n",
        "    else:\n",
        "        print('down')\n",
        "        p = int(input('예상숫자를 입력하시오:'))\n",
        "print(f'정답!')\n"
      ],
      "execution_count": null,
      "outputs": [
        {
          "output_type": "stream",
          "text": [
            "예상숫자를 입력하시오:500\n",
            "down\n",
            "예상숫자를 입력하시오:100\n",
            "down\n",
            "예상숫자를 입력하시오:90\n",
            "up\n",
            "예상숫자를 입력하시오:95\n",
            "down\n",
            "예상숫자를 입력하시오:94\n",
            "down\n",
            "예상숫자를 입력하시오:93\n",
            " 정답!\n"
          ],
          "name": "stdout"
        }
      ]
    },
    {
      "cell_type": "code",
      "metadata": {
        "colab": {
          "base_uri": "https://localhost:8080/",
          "height": 142
        },
        "id": "ZLQSche9bcfk",
        "outputId": "76a94b52-ac5b-42a4-a313-bebff8f22c74"
      },
      "source": [
        "import random\n",
        "r = random.randint(1,100)\n",
        "a = int(input('숫자 입력: '))\n",
        "    while r != a: \n",
        "        if r > a:\n",
        "            print(\"DOWN\")\n",
        "            a = int(input('숫자 입력: '))\n",
        "        else:\n",
        "            print(\"UP\")\n",
        "            a = int(input('숫자 입력: '))     \n",
        "            \n",
        "    print(a, \"정답!\")"
      ],
      "execution_count": null,
      "outputs": [
        {
          "output_type": "error",
          "ename": "IndentationError",
          "evalue": "ignored",
          "traceback": [
            "\u001b[0;36m  File \u001b[0;32m\"<ipython-input-52-b49e69867f1b>\"\u001b[0;36m, line \u001b[0;32m4\u001b[0m\n\u001b[0;31m    while r != a:\u001b[0m\n\u001b[0m    ^\u001b[0m\n\u001b[0;31mIndentationError\u001b[0m\u001b[0;31m:\u001b[0m unexpected indent\n"
          ]
        }
      ]
    },
    {
      "cell_type": "code",
      "metadata": {
        "id": "yzF9CzgocInM",
        "colab": {
          "base_uri": "https://localhost:8080/"
        },
        "outputId": "a3afebb4-9254-4a25-db4a-030d51f1b6b9"
      },
      "source": [
        "import calendar\n",
        "print(calendar.month(1992,12))"
      ],
      "execution_count": null,
      "outputs": [
        {
          "output_type": "stream",
          "text": [
            "   December 1992\n",
            "Mo Tu We Th Fr Sa Su\n",
            "    1  2  3  4  5  6\n",
            " 7  8  9 10 11 12 13\n",
            "14 15 16 17 18 19 20\n",
            "21 22 23 24 25 26 27\n",
            "28 29 30 31\n",
            "\n"
          ],
          "name": "stdout"
        }
      ]
    },
    {
      "cell_type": "code",
      "metadata": {
        "colab": {
          "base_uri": "https://localhost:8080/"
        },
        "id": "qAgXmDweZuWM",
        "outputId": "93fcd6f8-d148-4d84-86e6-0d1837aeb542"
      },
      "source": [
        "from calendar import month\n",
        "print(calendar.month(2021,6))"
      ],
      "execution_count": null,
      "outputs": [
        {
          "output_type": "stream",
          "text": [
            "     June 2021\n",
            "Mo Tu We Th Fr Sa Su\n",
            "    1  2  3  4  5  6\n",
            " 7  8  9 10 11 12 13\n",
            "14 15 16 17 18 19 20\n",
            "21 22 23 24 25 26 27\n",
            "28 29 30\n",
            "\n"
          ],
          "name": "stdout"
        }
      ]
    },
    {
      "cell_type": "code",
      "metadata": {
        "colab": {
          "base_uri": "https://localhost:8080/"
        },
        "id": "8YWXH542aSpO",
        "outputId": "87f57269-23b7-44d6-b54a-9097e91e2e48"
      },
      "source": [
        "#외장함수 > random 모듈\n",
        "\n",
        "import random\n",
        "a = random.random() # Random float x, 0.0 <= x < 1.0\n",
        "\n",
        "#2개의 숫자 사이의 랜덤 실수를 리턴합니다.\n",
        "b = random.uniform(1, 10) # Random float x, 1.0 <= x < 10.0\n",
        "\n",
        "\n",
        "#2개의 숫자 사이의 랜덤 정수를 리턴합니다. (2번째 인자로 넘어온 정수도 범위에 포함시킴)\n",
        "c =random.randint(1, 10) # Integer from 1 to 10, endpoints included\n",
        "\n",
        "\n",
        "#range(start, stop, step) 함수로 만들어지는 정수 중에 하나를 랜덤하게 리턴합니다.\n",
        "d=random.randrange(0, 101, 2)  # Even integer from 0 to 100\n",
        "\n",
        "#choice() 함수 랜덤하게 하나의 원소를 선택합니다.\n",
        "e = random.choice('abcdefghij') # Choose a random element \n",
        "f = random.choice(['가위','바위','보'])\n",
        "\n",
        "m = ['가위','바위','보']\n",
        "random.shuffle(m) #셔플은 무작위로 뽑는게 아니라 흔들어서 섞는다(안에서 섞어준다. 뽑는게 아님). \n",
        "print(m)\n",
        "print(a, b, c, d, e, f)"
      ],
      "execution_count": null,
      "outputs": [
        {
          "output_type": "stream",
          "text": [
            "['보', '가위', '바위']\n",
            "0.48381171135651635 9.928691420685515 6 94 i 보\n"
          ],
          "name": "stdout"
        }
      ]
    },
    {
      "cell_type": "code",
      "metadata": {
        "colab": {
          "base_uri": "https://localhost:8080/"
        },
        "id": "POg-b7DCcxcU",
        "outputId": "ba17f18e-85f7-41af-cad5-d23092179616"
      },
      "source": [
        "\n",
        "def say_hello():  #함수 정의\n",
        "    print('안녕하세요!!')\n",
        "    print('파이썬의 세계에 오신 것을 환영합니다.')\n",
        "    print('즐거운 시간 되세요!!')\n",
        "say_hello()## 함수호출"
      ],
      "execution_count": null,
      "outputs": [
        {
          "output_type": "stream",
          "text": [
            "안녕하세요!!\n",
            "파이썬의 세계에 오신 것을 환영합니다.\n",
            "즐거운 시간 되세요!!\n"
          ],
          "name": "stdout"
        }
      ]
    },
    {
      "cell_type": "code",
      "metadata": {
        "colab": {
          "base_uri": "https://localhost:8080/"
        },
        "id": "JuGLo4QyfCxz",
        "outputId": "1f407982-1663-4340-b2f5-27baeb4882eb"
      },
      "source": [
        "def say_hello(name):\n",
        "    print(f'안녕하세요, {name}!!')\n",
        "    print('파이썬의 세계에 오신 것을 환영합니다.')\n",
        "    print('즐거운 시간 되세요!!')\n",
        "say_hello('김선민')"
      ],
      "execution_count": null,
      "outputs": [
        {
          "output_type": "stream",
          "text": [
            "안녕하세요, 김선민!!\n",
            "파이썬의 세계에 오신 것을 환영합니다.\n",
            "즐거운 시간 되세요!!\n"
          ],
          "name": "stdout"
        }
      ]
    },
    {
      "cell_type": "code",
      "metadata": {
        "colab": {
          "base_uri": "https://localhost:8080/",
          "height": 212
        },
        "id": "KaKz1C5qjint",
        "outputId": "105126e8-ae3f-446b-fac1-06bb0909103d"
      },
      "source": [
        "def say_hello(name1, name2):\n",
        "    print(f'안녕하세요, {name1},{name2}!!')\n",
        "    print('파이썬의 세계에 오신 것을 환영합니다.')\n",
        "    print('즐거운 시간 되세요!!')\n",
        "say_hello('홍길동')"
      ],
      "execution_count": null,
      "outputs": [
        {
          "output_type": "error",
          "ename": "TypeError",
          "evalue": "ignored",
          "traceback": [
            "\u001b[0;31m---------------------------------------------------------------------------\u001b[0m",
            "\u001b[0;31mTypeError\u001b[0m                                 Traceback (most recent call last)",
            "\u001b[0;32m<ipython-input-12-6a53d6f4809c>\u001b[0m in \u001b[0;36m<module>\u001b[0;34m()\u001b[0m\n\u001b[1;32m      3\u001b[0m     \u001b[0mprint\u001b[0m\u001b[0;34m(\u001b[0m\u001b[0;34m'파이썬의 세계에 오신 것을 환영합니다.'\u001b[0m\u001b[0;34m)\u001b[0m\u001b[0;34m\u001b[0m\u001b[0;34m\u001b[0m\u001b[0m\n\u001b[1;32m      4\u001b[0m     \u001b[0mprint\u001b[0m\u001b[0;34m(\u001b[0m\u001b[0;34m'즐거운 시간 되세요!!'\u001b[0m\u001b[0;34m)\u001b[0m\u001b[0;34m\u001b[0m\u001b[0;34m\u001b[0m\u001b[0m\n\u001b[0;32m----> 5\u001b[0;31m \u001b[0msay_hello\u001b[0m\u001b[0;34m(\u001b[0m\u001b[0;34m'홍길동'\u001b[0m\u001b[0;34m)\u001b[0m\u001b[0;34m\u001b[0m\u001b[0;34m\u001b[0m\u001b[0m\n\u001b[0m",
            "\u001b[0;31mTypeError\u001b[0m: say_hello() missing 1 required positional argument: 'name2'"
          ]
        }
      ]
    },
    {
      "cell_type": "code",
      "metadata": {
        "colab": {
          "base_uri": "https://localhost:8080/"
        },
        "id": "RmpXTGHpj2P1",
        "outputId": "3ccf92e2-1411-4ad8-a246-416805156772"
      },
      "source": [
        "#예제 1 원의 넓이를 구하는 함수 만들기\n",
        "#원의 반지를을 보내면 원의 넓이를 계산하여 반환하는 함수를 작성하시오.\n",
        "def c(r):\n",
        "    area= 3.14 * r**2\n",
        "    return area\n",
        "print(c(5))"
      ],
      "execution_count": null,
      "outputs": [
        {
          "output_type": "stream",
          "text": [
            "78.5\n"
          ],
          "name": "stdout"
        }
      ]
    },
    {
      "cell_type": "code",
      "metadata": {
        "colab": {
          "base_uri": "https://localhost:8080/"
        },
        "id": "N7aTNlPtkgdX",
        "outputId": "98577268-1e21-4f8a-bb7d-0a39286a2587"
      },
      "source": [
        "#예제 2 두수를 더하여 결과를 반환하는 함수 만들기\n",
        "# 두수를 매개변수로 받아 더한값을 반환하는 함수를 만드시오\n",
        "def m(n1,n2):\n",
        "    r = n1+n2\n",
        "    return r\n",
        "print('두 수의 합은',m(1,2)) #함수호출 "
      ],
      "execution_count": null,
      "outputs": [
        {
          "output_type": "stream",
          "text": [
            "두 수의 합은 3\n"
          ],
          "name": "stdout"
        }
      ]
    },
    {
      "cell_type": "code",
      "metadata": {
        "id": "nhTwIAuVkzIs"
      },
      "source": [
        "def get_plus_minus_d(num1,num2):\n",
        "    \n",
        "    plus = num1 + num2\n",
        "    minus = num1 - num2\n",
        "    if num2 != 0:\n",
        "        d = num1/num2\n",
        "    else:\n",
        "        print('0은 나눌 수 없습니다')\n",
        "get_plus_minus_d(2,1)"
      ],
      "execution_count": null,
      "outputs": []
    },
    {
      "cell_type": "code",
      "metadata": {
        "colab": {
          "base_uri": "https://localhost:8080/",
          "height": 212
        },
        "id": "2zGRLdq3leuU",
        "outputId": "fdf2842b-57ff-4d0e-c920-8b4803464b91"
      },
      "source": [
        "#지역변수\n",
        "# 함수내 변수를 밖에서 사용 못함\n",
        "def get_plus_minus(num1,num2):\n",
        "   ## 초기 세팅값을 주면서 global을 붇이면 지역변수를 전역변수로 변경 가능\n",
        "    plus = num1 + num2\n",
        "    minus = num1 - num2  \n",
        "    return plus,minus\n",
        "get_plus_minus(1,2)    #plus, minus는 사용자 지정함수 내에서 만든 지역변수 \n",
        "print(plus,minus)  # 함수 내에서 만든 변수를 함수 밖에서 사용할 수 없다!!!!함수 내에서만 사용가능"
      ],
      "execution_count": null,
      "outputs": [
        {
          "output_type": "error",
          "ename": "NameError",
          "evalue": "ignored",
          "traceback": [
            "\u001b[0;31m---------------------------------------------------------------------------\u001b[0m",
            "\u001b[0;31mNameError\u001b[0m                                 Traceback (most recent call last)",
            "\u001b[0;32m<ipython-input-29-438a4485c6b6>\u001b[0m in \u001b[0;36m<module>\u001b[0;34m()\u001b[0m\n\u001b[1;32m      7\u001b[0m     \u001b[0;32mreturn\u001b[0m \u001b[0mplus\u001b[0m\u001b[0;34m,\u001b[0m\u001b[0mminus\u001b[0m\u001b[0;34m\u001b[0m\u001b[0;34m\u001b[0m\u001b[0m\n\u001b[1;32m      8\u001b[0m \u001b[0mget_plus_minus\u001b[0m\u001b[0;34m(\u001b[0m\u001b[0;36m1\u001b[0m\u001b[0;34m,\u001b[0m\u001b[0;36m2\u001b[0m\u001b[0;34m)\u001b[0m    \u001b[0;31m#plus, minus는 사용자 지정함수 내에서 만든 지역변수\u001b[0m\u001b[0;34m\u001b[0m\u001b[0;34m\u001b[0m\u001b[0m\n\u001b[0;32m----> 9\u001b[0;31m \u001b[0mprint\u001b[0m\u001b[0;34m(\u001b[0m\u001b[0mplus\u001b[0m\u001b[0;34m,\u001b[0m\u001b[0mminus\u001b[0m\u001b[0;34m)\u001b[0m  \u001b[0;31m# 함수 내에서 만든 변수를 함수 밖에서 사용할 수 없다!!!!함수 내에서만 사용가능\u001b[0m\u001b[0;34m\u001b[0m\u001b[0;34m\u001b[0m\u001b[0m\n\u001b[0m",
            "\u001b[0;31mNameError\u001b[0m: name 'plus' is not defined"
          ]
        }
      ]
    },
    {
      "cell_type": "code",
      "metadata": {
        "colab": {
          "base_uri": "https://localhost:8080/"
        },
        "id": "REQNKFJgnHnQ",
        "outputId": "86f8bee7-4282-46c0-9359-5646c95f986a"
      },
      "source": [
        "# 전역변수 - 함수밖에서 생성\n",
        "def circle_area():\n",
        "    area = 3.14 * radius ** 2\n",
        "    return area           \n",
        "radius = float(input('반지름:')) ### 함수 밖에서 만든 변수는 함수 내에서 사용할 수\n",
        "circle_area()"
      ],
      "execution_count": null,
      "outputs": [
        {
          "output_type": "stream",
          "text": [
            "반지름:5\n"
          ],
          "name": "stdout"
        },
        {
          "output_type": "execute_result",
          "data": {
            "text/plain": [
              "78.5"
            ]
          },
          "metadata": {
            "tags": []
          },
          "execution_count": 30
        }
      ]
    },
    {
      "cell_type": "code",
      "metadata": {
        "colab": {
          "base_uri": "https://localhost:8080/"
        },
        "id": "LUJXU7wWnNzQ",
        "outputId": "c1e82b95-f7a5-476f-81ee-a72b9d0018b7"
      },
      "source": [
        "def circle_area():\n",
        "    global area\n",
        "    area = 3.14 * radius ** 2\n",
        "    return area\n",
        "area = 0 # 따로 밖에서 선언 \n",
        "radius = float(input('반지름:'))\n",
        "print('원의 넓이:',circle_area())\n",
        "print(area) #변경안됨 0이 나옴 \n",
        "#함수에서 area 계산되었지만, 전역변수 값은 변경되지 않음.\n",
        "#함수에서 전역변수를 직접 사용한 것이 아니라, \n",
        "#동일한 이름과 값을 가진 지역변수를 새롭게 만들어 사용하기 때문임"
      ],
      "execution_count": null,
      "outputs": [
        {
          "output_type": "stream",
          "text": [
            "반지름:5\n",
            "원의 넓이: 78.5\n",
            "78.5\n"
          ],
          "name": "stdout"
        }
      ]
    },
    {
      "cell_type": "code",
      "metadata": {
        "colab": {
          "base_uri": "https://localhost:8080/"
        },
        "id": "0C3u2Ljhnbkj",
        "outputId": "e75c9a17-7626-49bd-96dc-4e1bcde2795e"
      },
      "source": [
        "#지역변수\n",
        "# 함수내 변수를 밖에서 사용 못함\n",
        "def get_plus_minus(num1,num2):\n",
        "   ## 초기 세팅값을 주면서 global을 붇이면 지역변수를 전역변수로 변경 가능\n",
        "    global plus\n",
        "    global minus\n",
        "    \n",
        "    plus = num1 + num2\n",
        "    minus = num1 - num2  \n",
        "    return plus,minus\n",
        "get_plus_minus(1,2)    #plus, minus는 사용자 지정함수 내에서 만든 지역변수 \n",
        "print(plus,minus)  # 함수 내에서 만든 변수를 함수 밖에서 사용할 수 없다!!!!함수 내에서만 사용가능"
      ],
      "execution_count": null,
      "outputs": [
        {
          "output_type": "stream",
          "text": [
            "3 -1\n"
          ],
          "name": "stdout"
        }
      ]
    },
    {
      "cell_type": "code",
      "metadata": {
        "colab": {
          "base_uri": "https://localhost:8080/"
        },
        "id": "4a9Donb6nzYE",
        "outputId": "02d22a96-42ab-4a63-923e-9c882370a50b"
      },
      "source": [
        "def greet(name,msg):\n",
        "    print(f'안녕 {name},{msg}')\n",
        "greet('철수','좋은 아침이야') "
      ],
      "execution_count": null,
      "outputs": [
        {
          "output_type": "stream",
          "text": [
            "안녕 철수,좋은 아침이야\n"
          ],
          "name": "stdout"
        }
      ]
    },
    {
      "cell_type": "code",
      "metadata": {
        "colab": {
          "base_uri": "https://localhost:8080/"
        },
        "id": "JQUisIYkn5be",
        "outputId": "becefa56-3a06-480b-e643-7e1b8a1795a5"
      },
      "source": [
        "def greet(name='친구',msg='잘지내니?'):\n",
        "    print(f'안녕 {name},{msg}')\n",
        "greet('지금뭐해? 자니?') "
      ],
      "execution_count": null,
      "outputs": [
        {
          "output_type": "stream",
          "text": [
            "안녕 지금뭐해? 자니?,잘지내니?\n"
          ],
          "name": "stdout"
        }
      ]
    },
    {
      "cell_type": "code",
      "metadata": {
        "colab": {
          "base_uri": "https://localhost:8080/",
          "height": 142
        },
        "id": "cqpuJ0eypRJO",
        "outputId": "c90b22f4-9955-4514-da98-5d2c7a2262f0"
      },
      "source": [
        "def calc(x,y,z):\n",
        "    result = x + y - z\n",
        "    return result\n",
        "calc(x=1,5,3) ## x 는 고정, 나머지는 매칭이 되어서 할당 # 위치 인수를 먼저 사용"
      ],
      "execution_count": null,
      "outputs": [
        {
          "output_type": "error",
          "ename": "SyntaxError",
          "evalue": "ignored",
          "traceback": [
            "\u001b[0;36m  File \u001b[0;32m\"<ipython-input-41-5142853552c1>\"\u001b[0;36m, line \u001b[0;32m4\u001b[0m\n\u001b[0;31m    calc(x=1,5,3) ## x 는 고정, 나머지는 매칭이 되어서 할당 # 위치 인수를 먼저 사용\u001b[0m\n\u001b[0m            ^\u001b[0m\n\u001b[0;31mSyntaxError\u001b[0m\u001b[0;31m:\u001b[0m positional argument follows keyword argument\n"
          ]
        }
      ]
    },
    {
      "cell_type": "code",
      "metadata": {
        "colab": {
          "base_uri": "https://localhost:8080/"
        },
        "id": "hOrvPCoNpp-o",
        "outputId": "d12daeab-c3c6-4cd5-da5d-2190b20e2bcb"
      },
      "source": [
        "def average(*args): #args는 튜플 데이터형\n",
        "    print(args)\n",
        "    avrg1 = sum(args) /len(args)\n",
        "    return avrg1\n",
        "print(average(1,8)) #인수3개\n",
        "print(average(1,2,3,4,5)) # 인수5개 "
      ],
      "execution_count": null,
      "outputs": [
        {
          "output_type": "stream",
          "text": [
            "(1, 8)\n",
            "4.5\n",
            "(1, 2, 3, 4, 5)\n",
            "3.0\n"
          ],
          "name": "stdout"
        }
      ]
    },
    {
      "cell_type": "code",
      "metadata": {
        "colab": {
          "base_uri": "https://localhost:8080/",
          "height": 142
        },
        "id": "E8CN1vBzwuDr",
        "outputId": "312256c4-27e9-4a9d-b3d0-840b1d7353bd"
      },
      "source": [
        "#예제 소수 여부 판단하기\n",
        "#소수는 1과 자기 자신만으로 나누어 떨어지는 1보다 큰 양의 정수를 의미한다.\n",
        "#키보드로 입력된 수가 소수인지 아닌지 판별하는 함수를 작성하시오.\n",
        "\n",
        "def s(number): \n",
        "    if number < 2:\n",
        "        return False\n",
        "    for i in range(2,number):\n",
        "        \n"
      ],
      "execution_count": null,
      "outputs": [
        {
          "output_type": "error",
          "ename": "SyntaxError",
          "evalue": "ignored",
          "traceback": [
            "\u001b[0;36m  File \u001b[0;32m\"<ipython-input-44-957fcff8f68b>\"\u001b[0;36m, line \u001b[0;32m9\u001b[0m\n\u001b[0;31m    \u001b[0m\n\u001b[0m    ^\u001b[0m\n\u001b[0;31mSyntaxError\u001b[0m\u001b[0;31m:\u001b[0m unexpected EOF while parsing\n"
          ]
        }
      ]
    },
    {
      "cell_type": "code",
      "metadata": {
        "colab": {
          "base_uri": "https://localhost:8080/"
        },
        "id": "FLUxD5Nfxscp",
        "outputId": "bd705ad3-4760-49b5-fc57-87f90b2b188f"
      },
      "source": [
        "def today_menu(*menu):\n",
        "    for i in menu:\n",
        "        print(i)\n",
        "print(\"== 오늘의 메뉴 ==\")\n",
        "today_menu('김밥', '떡볶이', '오뎅')"
      ],
      "execution_count": null,
      "outputs": [
        {
          "output_type": "stream",
          "text": [
            "== 오늘의 메뉴 ==\n",
            "김밥\n",
            "떡볶이\n",
            "오뎅\n"
          ],
          "name": "stdout"
        }
      ]
    },
    {
      "cell_type": "code",
      "metadata": {
        "colab": {
          "base_uri": "https://localhost:8080/"
        },
        "id": "iZfmn69ZxtAE",
        "outputId": "356b1619-5936-46b3-c7de-ab4a4eeb2588"
      },
      "source": [
        "def get_plus_minus(num1,num2):\n",
        "    plus = num1 + num2\n",
        "    return plus\n",
        "print(get_plus_minus(10,20))"
      ],
      "execution_count": null,
      "outputs": [
        {
          "output_type": "stream",
          "text": [
            "30\n"
          ],
          "name": "stdout"
        }
      ]
    },
    {
      "cell_type": "code",
      "metadata": {
        "colab": {
          "base_uri": "https://localhost:8080/"
        },
        "id": "fOmuwEXMx0x9",
        "outputId": "33966dc6-5260-4678-d61d-df9d4a2b315b"
      },
      "source": [
        "plus = lambda num1,num2: num1+num2 #:이후가 실행부 앞의 num1,num2는 매개변수\n",
        "print(plus(10,20))"
      ],
      "execution_count": null,
      "outputs": [
        {
          "output_type": "stream",
          "text": [
            "30\n"
          ],
          "name": "stdout"
        }
      ]
    },
    {
      "cell_type": "code",
      "metadata": {
        "id": "RewoQEEeyCu0"
      },
      "source": [
        ""
      ],
      "execution_count": null,
      "outputs": []
    },
    {
      "cell_type": "code",
      "metadata": {
        "colab": {
          "base_uri": "https://localhost:8080/"
        },
        "id": "2o_i6CB4UFkB",
        "outputId": "ef06f11d-36ff-4b10-cd5a-4e94deb0f957"
      },
      "source": [
        "##문자열 나누기\n",
        "#문자열.split() 함수는 문자열을 일정한 규칙으로 잘라서 리스트로 만들어 주는 함수\n",
        "text = '문자열나누기'\n",
        "li = text.split(sep='열')\n",
        "li"
      ],
      "execution_count": 6,
      "outputs": [
        {
          "output_type": "execute_result",
          "data": {
            "text/plain": [
              "['문자', '나누기']"
            ]
          },
          "metadata": {
            "tags": []
          },
          "execution_count": 6
        }
      ]
    },
    {
      "cell_type": "code",
      "metadata": {
        "id": "Z8sKp3dgUIa3"
      },
      "source": [
        ""
      ],
      "execution_count": null,
      "outputs": []
    }
  ]
}